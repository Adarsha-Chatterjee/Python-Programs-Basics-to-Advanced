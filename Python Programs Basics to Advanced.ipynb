{
 "cells": [
  {
   "cell_type": "markdown",
   "id": "d1a754ab",
   "metadata": {},
   "source": [
    "## Python Programs Set (Basics to Advanced)-Adarsha Chatterjee"
   ]
  },
  {
   "cell_type": "markdown",
   "id": "0f9858e6",
   "metadata": {},
   "source": [
    "#### Part 1: Basics of Python:"
   ]
  },
  {
   "cell_type": "raw",
   "id": "39066ae2",
   "metadata": {},
   "source": [
    "1.Hello world Program"
   ]
  },
  {
   "cell_type": "code",
   "execution_count": 1,
   "id": "0250248f",
   "metadata": {},
   "outputs": [
    {
     "name": "stdout",
     "output_type": "stream",
     "text": [
      "Hello world\n"
     ]
    },
    {
     "data": {
      "text/plain": [
       "'This is an example \\nof multi line comment in python'"
      ]
     },
     "execution_count": 1,
     "metadata": {},
     "output_type": "execute_result"
    }
   ],
   "source": [
    "print(\"Hello world\")\n",
    "# This is comment in python\n",
    "'''This is an example \n",
    "of multi line comment in python'''"
   ]
  },
  {
   "cell_type": "raw",
   "id": "f1d20412",
   "metadata": {},
   "source": [
    "2.Printing a multi line string using Python"
   ]
  },
  {
   "cell_type": "code",
   "execution_count": 2,
   "id": "03ab476c",
   "metadata": {},
   "outputs": [
    {
     "name": "stdout",
     "output_type": "stream",
     "text": [
      "Twinkle twinkle little star.\n",
      "How I wonder what you are.\n",
      "Up above the world so high.\n",
      "Like a diamond in the sky.\n",
      "Twinkle twinkle little star.\n",
      "How I wonder what you are.\n",
      "\n",
      "Twinkle twinkle little star.\n",
      "How I wonder what you are.\n",
      "Up above the world so high.\n",
      "Like a diamond in the sky.\n",
      "Twinkle twinkle little star.\n",
      "How I wonder what you are.\n",
      "\n"
     ]
    }
   ],
   "source": [
    "print('''Twinkle twinkle little star.\n",
    "How I wonder what you are.\n",
    "Up above the world so high.\n",
    "Like a diamond in the sky.\n",
    "Twinkle twinkle little star.\n",
    "How I wonder what you are.\n",
    "\n",
    "Twinkle twinkle little star.\n",
    "How I wonder what you are.\n",
    "Up above the world so high.\n",
    "Like a diamond in the sky.\n",
    "Twinkle twinkle little star.\n",
    "How I wonder what you are.\n",
    "''')"
   ]
  },
  {
   "cell_type": "raw",
   "id": "f0152a5a",
   "metadata": {},
   "source": [
    "3.Print table of 5"
   ]
  },
  {
   "cell_type": "code",
   "execution_count": 6,
   "id": "7675e036",
   "metadata": {},
   "outputs": [
    {
     "name": "stdout",
     "output_type": "stream",
     "text": [
      "5\n",
      "5 x 1 = 5\n",
      "5 x 2 = 10\n",
      "5 x 3 = 15\n",
      "5 x 4 = 20\n",
      "5 x 5 = 25\n",
      "5 x 6 = 30\n",
      "5 x 7 = 35\n",
      "5 x 8 = 40\n",
      "5 x 9 = 45\n",
      "5 x 10 = 50\n"
     ]
    }
   ],
   "source": [
    "x=int(input())\n",
    "for i in range(1,11):\n",
    "    print(x,'x',i,'=',x*i)"
   ]
  },
  {
   "cell_type": "raw",
   "id": "14fee654",
   "metadata": {},
   "source": [
    "4.Various data types in Python"
   ]
  },
  {
   "cell_type": "code",
   "execution_count": 10,
   "id": "c39b10a6",
   "metadata": {},
   "outputs": [
    {
     "name": "stdout",
     "output_type": "stream",
     "text": [
      "34\n",
      "45.98\n",
      "Adarsha\n",
      "Adarsha\n",
      "Adarsha Chatterjee\n",
      "True\n",
      "<class 'int'>\n",
      "<class 'float'>\n",
      "<class 'str'>\n",
      "<class 'str'>\n",
      "<class 'str'>\n",
      "<class 'bool'>\n"
     ]
    }
   ],
   "source": [
    "a=34\n",
    "b=45.98\n",
    "c=\"Adarsha\"\n",
    "d='Adarsha'\n",
    "e='''Adarsha Chatterjee'''\n",
    "f=True\n",
    "print(a)\n",
    "print(b)\n",
    "print(c)\n",
    "print(d)\n",
    "print(e)\n",
    "print(f)\n",
    "print(type(a))\n",
    "print(type(b))\n",
    "print(type(c))\n",
    "print(type(d))\n",
    "print(type(e))\n",
    "print(type(f))"
   ]
  },
  {
   "cell_type": "raw",
   "id": "8ad39dfb",
   "metadata": {},
   "source": [
    "5.Arithmetic Operators in Python"
   ]
  },
  {
   "cell_type": "code",
   "execution_count": 11,
   "id": "7129ef5a",
   "metadata": {},
   "outputs": [
    {
     "name": "stdout",
     "output_type": "stream",
     "text": [
      "Enter the value of a: 5\n",
      "Enter the value of b:4\n",
      "9\n",
      "20\n",
      "1.25\n",
      "1\n",
      "1\n"
     ]
    }
   ],
   "source": [
    "a=int(input(\"Enter the value of a: \"))\n",
    "b=int(input(\"Enter the value of b:\"))\n",
    "print(a+b)\n",
    "print(a*b)\n",
    "print(a/b)\n",
    "print(a//b)\n",
    "print(a-b)"
   ]
  },
  {
   "cell_type": "raw",
   "id": "db46ea0c",
   "metadata": {},
   "source": [
    "6.Assignment operators in Python"
   ]
  },
  {
   "cell_type": "code",
   "execution_count": 16,
   "id": "d8251fa5",
   "metadata": {},
   "outputs": [
    {
     "name": "stdout",
     "output_type": "stream",
     "text": [
      "31.0\n"
     ]
    }
   ],
   "source": [
    "a=34\n",
    "a+=2\n",
    "a-=5\n",
    "a*=2\n",
    "a/=2\n",
    "print(a)"
   ]
  },
  {
   "cell_type": "raw",
   "id": "5ffdbc3e",
   "metadata": {},
   "source": [
    "7.Comaparison Operators"
   ]
  },
  {
   "cell_type": "code",
   "execution_count": 17,
   "id": "da57cf45",
   "metadata": {},
   "outputs": [
    {
     "name": "stdout",
     "output_type": "stream",
     "text": [
      "True\n",
      "True\n",
      "True\n",
      "False\n",
      "True\n"
     ]
    }
   ],
   "source": [
    "print(14>=7)\n",
    "print(7==7)\n",
    "print(56<90)\n",
    "print(67>99)\n",
    "print(True!=False)"
   ]
  },
  {
   "cell_type": "raw",
   "id": "a28768d3",
   "metadata": {},
   "source": [
    "8.Logical operators"
   ]
  },
  {
   "cell_type": "code",
   "execution_count": 18,
   "id": "6a48f13a",
   "metadata": {},
   "outputs": [
    {
     "name": "stdout",
     "output_type": "stream",
     "text": [
      "The value of bool1 and bool2 is:  False\n",
      "The value of bool1 or bool2 is:  True\n",
      "The value of not bool is:  True\n"
     ]
    }
   ],
   "source": [
    "bool1=True\n",
    "bool2=False\n",
    "print(\"The value of bool1 and bool2 is: \",bool1 and bool2)\n",
    "print(\"The value of bool1 or bool2 is: \",bool1 or bool2)\n",
    "print(\"The value of not bool is: \",not bool2)"
   ]
  },
  {
   "cell_type": "raw",
   "id": "826a85e4",
   "metadata": {},
   "source": [
    "9.Typecasting"
   ]
  },
  {
   "cell_type": "code",
   "execution_count": 22,
   "id": "fbf37a8b",
   "metadata": {},
   "outputs": [
    {
     "name": "stdout",
     "output_type": "stream",
     "text": [
      "2350\n",
      "32.0\n",
      "6791\n"
     ]
    }
   ],
   "source": [
    "a='2345'\n",
    "b=int(a)\n",
    "print(b+5)\n",
    "print(float(32))\n",
    "print(int(\"6789\")+2)"
   ]
  },
  {
   "cell_type": "raw",
   "id": "aff03530",
   "metadata": {},
   "source": [
    "10.Program to take two numbers as input and add them"
   ]
  },
  {
   "cell_type": "code",
   "execution_count": 27,
   "id": "ca164074",
   "metadata": {},
   "outputs": [
    {
     "name": "stdout",
     "output_type": "stream",
     "text": [
      "Enter the first number:: 7\n",
      "Enter the second number:: 9\n",
      "The sum of the two numbers is::  16\n"
     ]
    }
   ],
   "source": [
    "a=int(input(\"Enter the first number:: \"))\n",
    "b=int(input(\"Enter the second number:: \"))\n",
    "print(\"The sum of the two numbers is:: \",a+b)"
   ]
  },
  {
   "cell_type": "raw",
   "id": "f4b84512",
   "metadata": {},
   "source": [
    "11.To find the remainder and quotient when one number is divided by another number"
   ]
  },
  {
   "cell_type": "code",
   "execution_count": 1,
   "id": "79bacf08",
   "metadata": {},
   "outputs": [
    {
     "name": "stdout",
     "output_type": "stream",
     "text": [
      "Enter the value of a:5\n",
      "Enter the value of b:2\n",
      "The required remainder is::  1\n",
      "The required quotient is::  2\n"
     ]
    }
   ],
   "source": [
    "a=int(input(\"Enter the value of a:\"))\n",
    "b=int(input(\"Enter the value of b:\"))\n",
    "print(\"The required remainder is:: \",a%b)\n",
    "print(\"The required quotient is:: \",a//b)"
   ]
  },
  {
   "cell_type": "raw",
   "id": "3f77308a",
   "metadata": {},
   "source": [
    "12.To find the average of two numbers."
   ]
  },
  {
   "cell_type": "code",
   "execution_count": 30,
   "id": "c980abb2",
   "metadata": {},
   "outputs": [
    {
     "name": "stdout",
     "output_type": "stream",
     "text": [
      "Enter the value of x: 6\n",
      "Enter the value of y: 7\n",
      "The average of the two numbers is::  6.5\n"
     ]
    }
   ],
   "source": [
    "x=int(input(\"Enter the value of x: \"))\n",
    "y=int(input(\"Enter the value of y: \"))\n",
    "z=(x+y)/2\n",
    "print(\"The average of the two numbers is:: \",z)"
   ]
  },
  {
   "cell_type": "raw",
   "id": "d1439106",
   "metadata": {},
   "source": [
    "13.Strings in Python"
   ]
  },
  {
   "cell_type": "code",
   "execution_count": 32,
   "id": "c1cb3b05",
   "metadata": {},
   "outputs": [
    {
     "name": "stdout",
     "output_type": "stream",
     "text": [
      "This is Adarsha's \"python\" code\n"
     ]
    }
   ],
   "source": [
    "string='''This is Adarsha's \"python\" code'''\n",
    "print(string)"
   ]
  },
  {
   "cell_type": "raw",
   "id": "4f5250f7",
   "metadata": {},
   "source": [
    "14.Concatenation of Strings"
   ]
  },
  {
   "cell_type": "code",
   "execution_count": 33,
   "id": "c7e3cf08",
   "metadata": {},
   "outputs": [
    {
     "name": "stdout",
     "output_type": "stream",
     "text": [
      "My name is Adarsha Chatterjee.I stay in Durgapur,West Bengal\n"
     ]
    }
   ],
   "source": [
    "str1=\"My name is Adarsha Chatterjee.\"\n",
    "str2=\"I stay in Durgapur,West Bengal\"\n",
    "str3=str1+str2\n",
    "print(str3)"
   ]
  },
  {
   "cell_type": "raw",
   "id": "3f5052bf",
   "metadata": {},
   "source": [
    "15.Slicing Operation"
   ]
  },
  {
   "cell_type": "code",
   "execution_count": 82,
   "id": "0e328446",
   "metadata": {},
   "outputs": [
    {
     "name": "stdout",
     "output_type": "stream",
     "text": [
      "a\n",
      "dar\n",
      "rsh\n",
      "[23, 7, 8, 9, 6]\n",
      "AasaCatre\n",
      "drh\n"
     ]
    }
   ],
   "source": [
    "x=\"Adarsha\"\n",
    "y=[6,9,8,7,23]\n",
    "print(x[2])\n",
    "print(x[1:4])\n",
    "print(x[-4:-1])\n",
    "print(y[-1:-6:-1])\n",
    "a=\"Adarsha Chatterjee\"\n",
    "print(a[::2])\n",
    "print(a[1:6:2])"
   ]
  },
  {
   "cell_type": "raw",
   "id": "51ffd47f",
   "metadata": {},
   "source": [
    "16.String Functions:"
   ]
  },
  {
   "cell_type": "code",
   "execution_count": 33,
   "id": "992a02e4",
   "metadata": {},
   "outputs": [
    {
     "name": "stdout",
     "output_type": "stream",
     "text": [
      "99\n",
      "True\n",
      "9\n",
      "1\n",
      "Once upon a time there was a boy named adarsha chatterjee who used to learn python along with notes\n",
      "5\n",
      "-1\n",
      "once upon a time there was a boy named Rocky Bhai who used to learn Python along with notes\n",
      "once upon a time there was a boy named Adarsha Chatterjee who used to learn Python along with notes\n"
     ]
    }
   ],
   "source": [
    "string=\"once upon a time there was a boy named Adarsha Chatterjee who used to learn Python along with notes\"\n",
    "print(len(string))\n",
    "print(string.endswith(\"notes\"))\n",
    "print(string.count(\"a\"))\n",
    "print(string.count(\"boy\"))\n",
    "print(string.capitalize())#It will capitalize the first word of the string\n",
    "print(string.find(\"upon\"))\n",
    "print(string.find(\"Rocky Bhai\"))\n",
    "print(string.replace(\"Adarsha Chatterjee\",\"Rocky Bhai\"))\n",
    "print(string)"
   ]
  },
  {
   "cell_type": "raw",
   "id": "4b815030",
   "metadata": {},
   "source": [
    "17.Escape sequences in strings"
   ]
  },
  {
   "cell_type": "code",
   "execution_count": 34,
   "id": "f6959610",
   "metadata": {},
   "outputs": [
    {
     "name": "stdout",
     "output_type": "stream",
     "text": [
      "Once upon a time there was a boy named\n",
      " adarsha\tchatterjee who used to learn python\\Java along with notes\n"
     ]
    }
   ],
   "source": [
    "string=\"Once upon a time there was a boy named\\n adarsha\\tchatterjee who used to learn python\\\\Java along with notes\"\n",
    "print(string)"
   ]
  },
  {
   "cell_type": "raw",
   "id": "2148fcf6",
   "metadata": {},
   "source": [
    "18.Replace string function use:"
   ]
  },
  {
   "cell_type": "code",
   "execution_count": 2,
   "id": "6fe0de49",
   "metadata": {},
   "outputs": [
    {
     "name": "stdout",
     "output_type": "stream",
     "text": [
      "Enter your name: Adarsha Chatterjee\n",
      "Enter the date: 7.05.2022\n",
      "Dear Adarsha Chatterjee,\n",
      "                    You are Selected!!\n",
      "7.05.2022          \n"
     ]
    }
   ],
   "source": [
    "letter='''Dear <|Name|>,\n",
    "                    You are Selected!!\n",
    "<|Date|>          '''\n",
    "name=input(\"Enter your name: \")\n",
    "date=input(\"Enter the date: \")\n",
    "letter=letter.replace(\"<|Name|>\",name)\n",
    "letter=letter.replace(\"<|Date|>\",date)\n",
    "print(letter)"
   ]
  },
  {
   "cell_type": "raw",
   "id": "9a118bfb",
   "metadata": {},
   "source": [
    "19.Write a Python program to detect double spaces in a string"
   ]
  },
  {
   "cell_type": "code",
   "execution_count": 35,
   "id": "cd177a18",
   "metadata": {},
   "outputs": [
    {
     "name": "stdout",
     "output_type": "stream",
     "text": [
      "The string does not contains double spaces\n"
     ]
    }
   ],
   "source": [
    "string=\"This is a string with double spaces\"\n",
    "if(string.find(\"  \")!=-1):\n",
    "    print(\"The string contains double spaces\")\n",
    "else:\n",
    "    print(\"The string does not contains double spaces\")"
   ]
  },
  {
   "cell_type": "raw",
   "id": "ec445c03",
   "metadata": {},
   "source": [
    "20.Replace spaces in a string with some character"
   ]
  },
  {
   "cell_type": "code",
   "execution_count": 37,
   "id": "4277c592",
   "metadata": {},
   "outputs": [
    {
     "name": "stdout",
     "output_type": "stream",
     "text": [
      "Enter a string of your choice:: Adarsha Chatterjee\n",
      "Enter a character of that you want to replace with:@\n",
      "The string after replacement is given by: \n",
      " Adarsha@Chatterjee\n"
     ]
    }
   ],
   "source": [
    "string=input(\"Enter a string of your choice:: \")\n",
    "x=input(\"Enter a character of that you want to replace with:\")\n",
    "string=string.replace(\" \",x)\n",
    "print(\"The string after replacement is given by: \\n\",string)"
   ]
  },
  {
   "cell_type": "raw",
   "id": "fb99222a",
   "metadata": {},
   "source": [
    "21.Introduction to Lists"
   ]
  },
  {
   "cell_type": "code",
   "execution_count": 2,
   "id": "2c698771",
   "metadata": {},
   "outputs": [
    {
     "name": "stdout",
     "output_type": "stream",
     "text": [
      "9\n",
      "Abhijit\n",
      "['Subhajit', 'Ayan']\n",
      "[22, 'Pritam Mondal', 'Arghya Middya']\n",
      "['Mriganko', 'Arghya Middya', 'Pritam Mondal', 22]\n",
      "['Subhajit', 'Ayan', 'Abhijit', 'Kunal', 22, 'Pritam Mondal', 'Arghya Middya', 'Mriganko']\n",
      "5\n",
      "[22, 'Pritam Mondal', 'Arghya Middya', 'Mriganko']\n",
      "['Subhajit', 'Ayan', 'Abhijit', 'Kunal', 22, 'Pritam Mondal']\n",
      "[12, 65, 87, 9, 23]\n"
     ]
    }
   ],
   "source": [
    "a=[12,65,87,9,23]\n",
    "print(a[3])\n",
    "friends=[\"Subhajit\",\"Ayan\",\"Abhijit\",\"Kunal\",22,\"Pritam Mondal\",\"Arghya Middya\",\"Mriganko\"]\n",
    "print(friends[2])\n",
    "print(friends[:2])\n",
    "print(friends[-4:-1])\n",
    "print(friends[-1:-5:-1])\n",
    "print(friends)\n",
    "print(len(a))\n",
    "print(friends[-4:])\n",
    "print(friends[:6])\n",
    "print(a)"
   ]
  },
  {
   "cell_type": "raw",
   "id": "f6195808",
   "metadata": {},
   "source": [
    "22.List Functions"
   ]
  },
  {
   "cell_type": "code",
   "execution_count": 3,
   "id": "43bb9dbc",
   "metadata": {},
   "outputs": [
    {
     "name": "stdout",
     "output_type": "stream",
     "text": [
      "[98, 34, 56, 99, 87, 44, 1123]\n",
      "[34, 44, 56, 87, 98, 99, 1123]\n",
      "[1123, 99, 98, 87, 56, 44, 34]\n",
      "[1123, 99, 98, 87, 56, 44, 34, 55]\n",
      "[1123, 99, 98, 87, 56, 44, 34, 55, 85]\n",
      "[1123, 99, 98, 789, 87, 56, 44, 34, 55, 85]\n",
      "[1123, 99, 789, 87, 56, 44, 34, 55, 85]\n",
      "[1123, 99, 789, 87, 44, 34, 55, 85]\n",
      "[99, 789, 87, 44, 34, 55, 85]\n"
     ]
    }
   ],
   "source": [
    "a=[98,34,56,99,87,44,1123]\n",
    "print(a)\n",
    "a.sort()# Sorts the List\n",
    "print(a)\n",
    "a.reverse() #Reverses the List\n",
    "print(a)\n",
    "a.append(55)# Adds element at the end of the list\n",
    "print(a)\n",
    "a.append(85)#It will add 85 at the end of the list\n",
    "print(a)\n",
    "a.insert(3,789)#It will insert 789 at index 3\n",
    "print(a)\n",
    "a.pop(2)#It will remove element from the index 2 of the list\n",
    "print(a)\n",
    "a.remove(56)#It will remove the element 56 from the list\n",
    "print(a)\n",
    "del a[0]#Use of del \n",
    "print(a)"
   ]
  },
  {
   "cell_type": "raw",
   "id": "56dd2bc7",
   "metadata": {},
   "source": [
    "23.Introduction to tuples and list to tuple and vice versa conversion"
   ]
  },
  {
   "cell_type": "code",
   "execution_count": 4,
   "id": "22ff5805",
   "metadata": {},
   "outputs": [
    {
     "name": "stdout",
     "output_type": "stream",
     "text": [
      "71\n",
      "(71, 2, 39, 43, 5)\n",
      "()\n",
      "(1,)\n",
      "(2, 3, 4, 6578, 9)\n",
      "[2, 3, 4, 6578, 9]\n"
     ]
    }
   ],
   "source": [
    "t=(71,2,39,43,5)\n",
    "#We cannot update elements of a tuple ie. once declared it can't be manipulated\n",
    "#Printing the elements of a tuple\n",
    "print(t[0])\n",
    "# t[1]=98-->shows error\n",
    "print(t)\n",
    "x=()\n",
    "print(x)\n",
    "y=(1) #Wrong way to decalre tuple with a single element\n",
    "y=(1,) #Correct way to declare a tuple with one element\n",
    "print(y)\n",
    "a=[2,3,4,6578,9]\n",
    "b=tuple(a)\n",
    "print(b)\n",
    "x=list(b)\n",
    "print(x)"
   ]
  },
  {
   "cell_type": "raw",
   "id": "c8f13206",
   "metadata": {},
   "source": [
    "24.Tuple Functions"
   ]
  },
  {
   "cell_type": "code",
   "execution_count": 2,
   "id": "2d494706",
   "metadata": {},
   "outputs": [
    {
     "name": "stdout",
     "output_type": "stream",
     "text": [
      "2\n",
      "3\n",
      "(71, 2, 39, 43, 5, 2)\n"
     ]
    }
   ],
   "source": [
    "t=(71,2,39,43,5,2)\n",
    "print(t.count(2))\n",
    "print(t.index(43))\n",
    "print(t)"
   ]
  },
  {
   "cell_type": "raw",
   "id": "e3826d9a",
   "metadata": {},
   "source": [
    "25.Store elements in a list by taking input from the user"
   ]
  },
  {
   "cell_type": "code",
   "execution_count": 3,
   "id": "39916c8c",
   "metadata": {},
   "outputs": [
    {
     "name": "stdout",
     "output_type": "stream",
     "text": [
      "Enter the number of items::5\n",
      "Enter the item:Apple\n",
      "Enter the item:Mango\n",
      "Enter the item:Peach\n",
      "Enter the item:Banana\n",
      "Enter the item:Pineapple\n",
      "The elements of the list are given by:\n",
      "Apple\n",
      "Mango\n",
      "Peach\n",
      "Banana\n",
      "Pineapple\n"
     ]
    }
   ],
   "source": [
    "x=int(input(\"Enter the number of items::\"))\n",
    "a=[]\n",
    "for i in range(x):\n",
    "    item=input(\"Enter the item:\")\n",
    "    a.append(item)\n",
    "print(\"The elements of the list are given by:\")\n",
    "for i in range(x):\n",
    "    print(a[i])"
   ]
  },
  {
   "cell_type": "raw",
   "id": "052e033b",
   "metadata": {},
   "source": [
    "26.Input marks of a student and display them in sorted manner"
   ]
  },
  {
   "cell_type": "code",
   "execution_count": 4,
   "id": "4d8533e3",
   "metadata": {},
   "outputs": [
    {
     "name": "stdout",
     "output_type": "stream",
     "text": [
      "Enter the number of subjects::5\n",
      "Enter the marks:78\n",
      "Enter the marks:91\n",
      "Enter the marks:67\n",
      "Enter the marks:56\n",
      "Enter the marks:99\n",
      "The marks entered by the user in sorted fashion is:\n",
      "56\n",
      "67\n",
      "78\n",
      "91\n",
      "99\n"
     ]
    }
   ],
   "source": [
    "x=int(input(\"Enter the number of subjects::\"))\n",
    "a=[]\n",
    "for i in range(x):\n",
    "    subject=input(\"Enter the marks:\")\n",
    "    a.append(subject)\n",
    "print(\"The marks entered by the user in sorted fashion is:\")\n",
    "a.sort()\n",
    "for i in range(x):\n",
    "    print(a[i])"
   ]
  },
  {
   "cell_type": "raw",
   "id": "5c6f9ec1",
   "metadata": {},
   "source": [
    "27.Sum of elements of a list using inbuilt function"
   ]
  },
  {
   "cell_type": "code",
   "execution_count": 7,
   "id": "a8c03f6a",
   "metadata": {},
   "outputs": [
    {
     "name": "stdout",
     "output_type": "stream",
     "text": [
      "The sum of the elements of the list is given by: 33\n"
     ]
    }
   ],
   "source": [
    "a=[3,8,9,6,7]\n",
    "\n",
    "print(\"The sum of the elements of the list is given by:\",sum(a))"
   ]
  },
  {
   "cell_type": "raw",
   "id": "4f96d774",
   "metadata": {},
   "source": [
    "28.Introduction to dictionary"
   ]
  },
  {
   "cell_type": "code",
   "execution_count": 19,
   "id": "bb72de53",
   "metadata": {},
   "outputs": [
    {
     "name": "stdout",
     "output_type": "stream",
     "text": [
      "Deloitte\n",
      "Tata Consultancy Services\n",
      "Capgemini\n",
      "Cognizant\n",
      "[9.21, 9.0, 8.85, 9.2]\n",
      "8.85\n",
      "Coder\n",
      "{'Adarsha': 'Tata Consultancy Services', 'Ayan Bhattacharya': 'Deloitte', 'Subhajit': 'Capgemini', 'Abhijit': 'Cognizant', 'CGPA': [9.21, 9.0, 8.85, 9.2], 'another_dict': {'Adarsha Chatterjee': 'Coder', 'Subhajit': 'Painter'}}\n"
     ]
    }
   ],
   "source": [
    "a={\"Adarsha\":\"Tata Consultancy Services\",\"Ayan Bhattacharya\":\"Deloitte\",\"Subhajit\":\"Capgemini\",\"Abhijit\":\"Cognizant\",\"CGPA\":[9.21,9.0,8.85,9.2],\"another_dict\":{\"Adarsha Chatterjee\":\"Coder\",\"Subhajit\":\"Dancer\"}}\n",
    "print(a[\"Ayan Bhattacharya\"])\n",
    "print(a[\"Adarsha\"])\n",
    "print(a[\"Subhajit\"])\n",
    "print(a[\"Abhijit\"])\n",
    "print(a[\"CGPA\"])\n",
    "print(a[\"CGPA\"][2])\n",
    "print(a[\"another_dict\"][\"Adarsha Chatterjee\"])\n",
    "\n",
    "#Updating the contents of a dictionary\n",
    "a[\"another_dict\"][\"Subhajit\"]=\"Painter\"\n",
    "print(a)"
   ]
  },
  {
   "cell_type": "raw",
   "id": "0b050a2e",
   "metadata": {},
   "source": [
    "29.More about dictionary"
   ]
  },
  {
   "cell_type": "code",
   "execution_count": 70,
   "id": "65aa12e9",
   "metadata": {},
   "outputs": [
    {
     "name": "stdout",
     "output_type": "stream",
     "text": [
      "dict_keys(['Adarsha', 'Ayan', 'Subhajit', 'Abhijit', 'CGPA'])\n",
      "<class 'dict_keys'>\n",
      "dict_values(['Coder', 'Dancer', 'Painter', 'Singer', [9.21, 9.0, 8.85, 9.2]])\n",
      "<class 'builtin_function_or_method'>\n",
      "dict_items([('Adarsha', 'Coder'), ('Ayan', 'Dancer'), ('Subhajit', 'Painter'), ('Abhijit', 'Singer'), ('CGPA', [9.21, 9.0, 8.85, 9.2])])\n",
      "<class 'dict_items'>\n",
      "{'Adarsha': 'Coder', 'Ayan': 'Dancer', 'Subhajit': 'Painter', 'Abhijit': 'Singer', 'CGPA': [9.21, 9.0, 8.85, 9.2]}\n",
      "['Adarsha', 'Ayan', 'Subhajit', 'Abhijit', 'CGPA']\n",
      "['Coder', 'Dancer', 'Painter', 'Singer', [9.21, 9.0, 8.85, 9.2]]\n",
      "('Adarsha', 'Ayan', 'Subhajit', 'Abhijit', 'CGPA')\n",
      "('Coder', 'Dancer', 'Painter', 'Singer', [9.21, 9.0, 8.85, 9.2])\n",
      "{'Adarsha': 'Programmer', 'Ayan': 'Dancer', 'Subhajit': 'Painter', 'Abhijit': 'Singer', 'CGPA': [9.21, 9.0, 8.85, 9.2], 'Kunal': 'Teacher', 'Pritam Mondal': 'Youtuber'}\n",
      "Painter\n",
      "None\n",
      "[9.21, 9.0, 8.85, 9.2]\n"
     ]
    }
   ],
   "source": [
    "a={\"Adarsha\":\"Coder\",\"Ayan\":\"Dancer\",\"Subhajit\":\"Painter\",\"Abhijit\":\"Singer\",\"CGPA\":[9.21,9.0,8.85,9.2]}\n",
    "print(a.keys())\n",
    "print(type(a.keys()))\n",
    "print(a.values())\n",
    "print(type(a.values))\n",
    "print(a.items())\n",
    "print(type(a.items()))\n",
    "print(a)\n",
    "\n",
    "#Type casting keys and values into list and tuples\n",
    "print(list(a.keys()))\n",
    "print(list(a.values()))\n",
    "print(tuple(a.keys()))\n",
    "print(tuple(a.values()))\n",
    "\n",
    "#Update the contents of a dictionary\n",
    "updated_a={\"Kunal\":\"Teacher\",\"Pritam Mondal\":\"Youtuber\",\"Adarsha\":\"Programmer\"}\n",
    "a.update(updated_a)\n",
    "print(a)\n",
    "\n",
    "#Use of get function\n",
    "print(a.get(\"Subhajit\"))\n",
    "print(a.get(\"Dibyatanu\"))#will print None\n",
    "print(a.get(\"CGPA\"))\n",
    "# print(a[\"Dibyatanu\"])-->This will throw an error as there is no such key"
   ]
  },
  {
   "cell_type": "raw",
   "id": "7625dd61",
   "metadata": {},
   "source": [
    "30.Sets in Python"
   ]
  },
  {
   "cell_type": "code",
   "execution_count": 5,
   "id": "a76aede0",
   "metadata": {},
   "outputs": [
    {
     "name": "stdout",
     "output_type": "stream",
     "text": [
      "{92.56, 98, 'Subhajit', 234, 12, 'Adarsha', 76}\n",
      "<class 'set'>\n",
      "<class 'dict'>\n",
      "{65, 'Deep Chatterjee', 'Adarsha Chatterjee', 45, 85.43, (56, 'Adarsha', 99)}\n",
      "<class 'set'>\n"
     ]
    }
   ],
   "source": [
    "a={12,76,98,\"Adarsha\",\"Subhajit\",234,92.56,12}\n",
    "print(a)\n",
    "print(type(a))\n",
    "\n",
    "# The format will create an empty dictionary\n",
    "b={}\n",
    "print(type(b))\n",
    "\n",
    "#The format below will create an empty set\n",
    "a=set()\n",
    "a.add(45)\n",
    "a.add(65)\n",
    "a.add(\"Adarsha Chatterjee\") #The elements will get added in any sequence\n",
    "a.add(\"Deep Chatterjee\")\n",
    "a.add(85.43)\n",
    "# a.add([12,\"Deep\",98])-->This will throw an error as not hashable\n",
    "a.add((56,\"Adarsha\",99)) #We can add tuple into sets\n",
    "# a.add({\"Codechef\":\"Coder\"})-->This will throw an error as not hashable\n",
    "#The elements will get added in uneven order not in the above sequence\n",
    "print(a)\n",
    "print(type(a))"
   ]
  },
  {
   "cell_type": "raw",
   "id": "443c07b7",
   "metadata": {},
   "source": [
    "31.Important function in sets"
   ]
  },
  {
   "cell_type": "code",
   "execution_count": 7,
   "id": "1ac1e930",
   "metadata": {},
   "outputs": [
    {
     "name": "stdout",
     "output_type": "stream",
     "text": [
      "{'Chatterjee', 68, 54, 23, 87, 76, 'Adarsha'}\n",
      "7\n",
      "{'Chatterjee', 68, 23, 87, 76, 'Adarsha'}\n",
      "6\n",
      "{68, 23, 87, 76, 'Adarsha'}\n",
      "{23, 87, 76, 'Adarsha'}\n",
      "{87, 76, 'Adarsha'}\n"
     ]
    }
   ],
   "source": [
    "b={23,87,54,76,\"Adarsha\",\"Chatterjee\",68}\n",
    "print(b)\n",
    "print(len(b))\n",
    "b.remove(54)\n",
    "# b.remove(119)-->will throw an error as such element is not available in the set\n",
    "print(b)\n",
    "print(len(b))\n",
    "b.pop()\n",
    "print(b)\n",
    "b.pop()#This will pop out random element from the set\n",
    "print(b)\n",
    "b.pop()\n",
    "print(b)"
   ]
  },
  {
   "cell_type": "raw",
   "id": "d67a8acf",
   "metadata": {},
   "source": [
    "32.Important fact about sets"
   ]
  },
  {
   "cell_type": "code",
   "execution_count": 8,
   "id": "8ba7b544",
   "metadata": {},
   "outputs": [
    {
     "name": "stdout",
     "output_type": "stream",
     "text": [
      "2\n"
     ]
    }
   ],
   "source": [
    "s={20,\"20\",20.0}\n",
    "print(len(s))"
   ]
  },
  {
   "cell_type": "raw",
   "id": "2cd1003c",
   "metadata": {},
   "source": [
    "33.Introduction to conditional statements"
   ]
  },
  {
   "cell_type": "code",
   "execution_count": 13,
   "id": "6f559b36",
   "metadata": {},
   "outputs": [
    {
     "name": "stdout",
     "output_type": "stream",
     "text": [
      "Enter the number::67\n",
      "Second division\n",
      "Enter the age:54\n",
      "Adult\n"
     ]
    }
   ],
   "source": [
    "#Example 1:\n",
    "x=int(input(\"Enter the number::\"))\n",
    "if(x>80 and x<=100):\n",
    "    print(\"First class\")\n",
    "elif(x>60 and x<=80):\n",
    "    print(\"Second division\")\n",
    "else:\n",
    "    print(\"Third division\")\n",
    "\n",
    "#Example 2:\n",
    "age=int(input(\"Enter the age:\"))\n",
    "if(age>=18):\n",
    "    print(\"Adult\")\n",
    "else:\n",
    "    print(\"Not an adult\")"
   ]
  },
  {
   "cell_type": "raw",
   "id": "33c96ba1",
   "metadata": {},
   "source": [
    "34.Multiple if statements"
   ]
  },
  {
   "cell_type": "code",
   "execution_count": 12,
   "id": "5522b18d",
   "metadata": {},
   "outputs": [
    {
     "name": "stdout",
     "output_type": "stream",
     "text": [
      "Enter the number::67\n",
      "The number is more than 3\n",
      "The number is more than 7\n",
      "The number is greater than 50\n"
     ]
    }
   ],
   "source": [
    "x=int(input(\"Enter the number::\"))\n",
    "if(x>3):\n",
    "    print(\"The number is more than 3\")\n",
    "if(x>7):\n",
    "    print(\"The number is more than 7\")\n",
    "if(x>50):\n",
    "    print(\"The number is greater than 50\")\n",
    "else:\n",
    "    print(\"The number is less than or equal to 3\")#This will execute the else statement as the previous if statement will fail"
   ]
  },
  {
   "cell_type": "raw",
   "id": "8de85223",
   "metadata": {},
   "source": [
    "35.Use of logical and relational operators"
   ]
  },
  {
   "cell_type": "code",
   "execution_count": 16,
   "id": "c133071e",
   "metadata": {},
   "outputs": [
    {
     "name": "stdout",
     "output_type": "stream",
     "text": [
      "Enter your age::33\n",
      "You cannot work with us!\n",
      "Yes\n",
      "True\n"
     ]
    }
   ],
   "source": [
    "age=int(input(\"Enter your age::\"))\n",
    "if(age>34 and age<=56):\n",
    "    print(\"You can work with us!\")\n",
    "else:\n",
    "    print(\"You cannot work with us!\")\n",
    "    \n",
    "#Use of None keyword\n",
    "a=None\n",
    "if(a is None):\n",
    "    print(\"Yes\")\n",
    "else:\n",
    "    print(\"No\")\n",
    "    \n",
    "#Use of in keyword\n",
    "b=[45,99,23,98,20.7,35.6]\n",
    "if(20.7 in b):\n",
    "    print(\"True\")\n",
    "else:\n",
    "    print(\"False\")"
   ]
  },
  {
   "cell_type": "raw",
   "id": "f7f87061",
   "metadata": {},
   "source": [
    "36.Program to find the greatest and minimum  of the four numbers entered by the user::"
   ]
  },
  {
   "cell_type": "code",
   "execution_count": 21,
   "id": "e2e6cdb0",
   "metadata": {},
   "outputs": [
    {
     "name": "stdout",
     "output_type": "stream",
     "text": [
      "Enter the number of numbers::4\n",
      "Enter the number:98\n",
      "Enter the number:45\n",
      "Enter the number:22\n",
      "Enter the number:63\n",
      "The maximum of the 4 numbers is 98\n",
      "The maximum of the 4 numbers is 22\n",
      "Enter the first number::62\n",
      "Enter the second number::22\n",
      "Enter the third number::78\n",
      "Enter the fourth number::43\n",
      "The maximum of the 4 numbers is 78\n",
      "The maximum of the 4 numbers is 22\n",
      "Enter the first number::9\n",
      "Enter the second number::56\n",
      "Enter the third number::84\n",
      "Enter the fourth number::21\n",
      "The greatest number is 84\n"
     ]
    }
   ],
   "source": [
    "#Using inbuilt function::\n",
    "a=[]\n",
    "x=int(input(\"Enter the number of numbers::\"))\n",
    "for i in range(x):\n",
    "    num=int(input(\"Enter the number:\"))\n",
    "    a.append(num)\n",
    "print(\"The maximum of the\",x,\"numbers is\",max(a))\n",
    "print(\"The maximum of the\",x,\"numbers is\",min(a))\n",
    "\n",
    "#Taking individual inputs from the user::\n",
    "num1=int(input(\"Enter the first number::\"))\n",
    "num2=int(input(\"Enter the second number::\"))\n",
    "num3=int(input(\"Enter the third number::\"))\n",
    "num4=int(input(\"Enter the fourth number::\"))\n",
    "a=[num1,num2,num3,num4]\n",
    "print(\"The maximum of the\",x,\"numbers is\",max(a))\n",
    "print(\"The maximum of the\",x,\"numbers is\",min(a))\n",
    "\n",
    "#using if else statements::\n",
    "num1=int(input(\"Enter the first number::\"))\n",
    "num2=int(input(\"Enter the second number::\"))\n",
    "num3=int(input(\"Enter the third number::\"))\n",
    "num4=int(input(\"Enter the fourth number::\"))\n",
    "if(num1>=num2):\n",
    "    max1=num1\n",
    "else:\n",
    "    max1=num2\n",
    "if(num3>=num4):\n",
    "    max2=num3\n",
    "else:\n",
    "    max2=num4\n",
    "if(max1>=max2):\n",
    "    print(\"The greatest number is\",max1)\n",
    "else:\n",
    "    print(\"The greatest number is\",max2)"
   ]
  },
  {
   "cell_type": "raw",
   "id": "98b7d285",
   "metadata": {},
   "source": [
    "37.Determine whether the student will pass or fail using python"
   ]
  },
  {
   "cell_type": "code",
   "execution_count": 25,
   "id": "c2ba6547",
   "metadata": {},
   "outputs": [
    {
     "name": "stdout",
     "output_type": "stream",
     "text": [
      "Enter the marks of the first subject:34\n",
      "Enter the marks of the second subject:35\n",
      "Enter the marks of the third subject:44\n",
      "You have failed as you have not cleared the average cutoff!\n"
     ]
    }
   ],
   "source": [
    "sub1=int(input(\"Enter the marks of the first subject:\"))\n",
    "sub2=int(input(\"Enter the marks of the second subject:\"))\n",
    "sub3=int(input(\"Enter the marks of the third subject:\"))\n",
    "if(sub1<33 or sub2<33 or sub3<33):\n",
    "    print(\"You have failed as you have scored less than 33 in atleast one of the subjects!\")\n",
    "elif((sub1+sub2+sub3)/3<40):\n",
    "    print(\"You have failed as you have not cleared the average cutoff!\")\n",
    "else:\n",
    "    print(\"Congrats bruh!You have passed!\")"
   ]
  },
  {
   "cell_type": "raw",
   "id": "800f86f0",
   "metadata": {},
   "source": [
    "38.Detect spam using Python"
   ]
  },
  {
   "cell_type": "code",
   "execution_count": 27,
   "id": "e061fa0a",
   "metadata": {},
   "outputs": [
    {
     "name": "stdout",
     "output_type": "stream",
     "text": [
      "Enter the string::watch this to know more\n",
      "Spam is reported!\n"
     ]
    }
   ],
   "source": [
    "text=input(\"Enter the string::\")\n",
    "spam=False\n",
    "if(\"make a lot of money\" in text):\n",
    "    spam=True\n",
    "elif(\"buy now\" in text):\n",
    "    spam=True\n",
    "elif(\"watch this\" in text):\n",
    "    spam=True\n",
    "else:\n",
    "    pass\n",
    "if(spam):\n",
    "    print(\"Spam is reported!\")\n",
    "else:\n",
    "    print(\"No spam is reported!\")"
   ]
  },
  {
   "cell_type": "raw",
   "id": "14bbf3fd",
   "metadata": {},
   "source": [
    "39.To find the length of string using function"
   ]
  },
  {
   "cell_type": "code",
   "execution_count": 28,
   "id": "43f9a607",
   "metadata": {},
   "outputs": [
    {
     "name": "stdout",
     "output_type": "stream",
     "text": [
      "7\n"
     ]
    }
   ],
   "source": [
    "print(len(\"Adarsha\"))"
   ]
  },
  {
   "cell_type": "raw",
   "id": "f5e61b96",
   "metadata": {},
   "source": [
    "40.Use of while and for loop"
   ]
  },
  {
   "cell_type": "code",
   "execution_count": 36,
   "id": "cbf969cc",
   "metadata": {},
   "outputs": [
    {
     "name": "stdout",
     "output_type": "stream",
     "text": [
      "Enter the number of numbers:5\n",
      "1\n",
      "2\n",
      "3\n",
      "4\n",
      "5\n",
      "Mango\n",
      "Apple\n",
      "Grapes\n",
      "Banana\n",
      "Enter the upper limit:50\n",
      "Enter the lower limit(only even numbers):2\n",
      "The even numbers in this range are:\n",
      "2\n",
      "4\n",
      "6\n",
      "8\n",
      "10\n",
      "12\n",
      "14\n",
      "16\n",
      "18\n",
      "20\n",
      "22\n",
      "24\n",
      "26\n",
      "28\n",
      "30\n",
      "32\n",
      "34\n",
      "36\n",
      "38\n",
      "40\n",
      "42\n",
      "44\n",
      "46\n",
      "48\n",
      "50\n"
     ]
    }
   ],
   "source": [
    "#Example 1:\n",
    "num=int(input(\"Enter the number of numbers:\"))\n",
    "i=1\n",
    "while(i<=num):\n",
    "    print(i)\n",
    "    i+=1\n",
    "\n",
    "#Example 2\n",
    "fruits=[\"Mango\",\"Apple\",\"Grapes\",\"Banana\"]\n",
    "i=0\n",
    "while(i<len(fruits)):\n",
    "    print(fruits[i])\n",
    "    i+=1\n",
    "    \n",
    "#Example 3: Even numbers in a given range\n",
    "upper=int(input(\"Enter the upper limit:\"))\n",
    "lower=int(input(\"Enter the lower limit(only even numbers):\"))\n",
    "print(\"The even numbers in this range are:\")\n",
    "for i in range(lower,upper+1,2):\n",
    "    print(i)"
   ]
  },
  {
   "cell_type": "raw",
   "id": "a9e09da9",
   "metadata": {},
   "source": [
    "41.Use of break and continue statement"
   ]
  },
  {
   "cell_type": "code",
   "execution_count": 40,
   "id": "c35b4f29",
   "metadata": {},
   "outputs": [
    {
     "name": "stdout",
     "output_type": "stream",
     "text": [
      "Enter the range::10\n",
      "0\n",
      "1\n",
      "2\n",
      "3\n",
      "4\n",
      "********\n",
      "0\n",
      "1\n",
      "2\n",
      "3\n",
      "5\n",
      "6\n",
      "7\n",
      "8\n",
      "9\n"
     ]
    }
   ],
   "source": [
    "x=int(input(\"Enter the range::\"))\n",
    "for i in range(x):\n",
    "    if(i==5):\n",
    "        break\n",
    "    print(i)\n",
    "print(\"********\")\n",
    "for i in range(x):\n",
    "    if(i==4):\n",
    "        continue\n",
    "    print(i)"
   ]
  },
  {
   "cell_type": "raw",
   "id": "c50e5000",
   "metadata": {},
   "source": [
    "42.Ways to print numbers along with string"
   ]
  },
  {
   "cell_type": "code",
   "execution_count": 1,
   "id": "3035ec6a",
   "metadata": {},
   "outputs": [
    {
     "name": "stdout",
     "output_type": "stream",
     "text": [
      "Enter the number::5\n",
      "Number is:1\n",
      "5X1=5\n",
      "Number is:2\n",
      "5X2=10\n",
      "Number is:3\n",
      "5X3=15\n",
      "Number is:4\n",
      "5X4=20\n",
      "Number is:5\n",
      "5X5=25\n",
      "Number is:6\n",
      "5X6=30\n",
      "Number is:7\n",
      "5X7=35\n",
      "Number is:8\n",
      "5X8=40\n",
      "Number is:9\n",
      "5X9=45\n",
      "Number is:10\n",
      "5X10=50\n"
     ]
    }
   ],
   "source": [
    "num=int(input(\"Enter the number::\"))\n",
    "for i in range(1,11):\n",
    "    print(\"Number is:\"+str(i))\n",
    "    print(f\"{num}X{i}={num*i}\")"
   ]
  },
  {
   "cell_type": "raw",
   "id": "978c6753",
   "metadata": {},
   "source": [
    "43.Print all the names in the list that starts with A"
   ]
  },
  {
   "cell_type": "code",
   "execution_count": 44,
   "id": "28bb4188",
   "metadata": {},
   "outputs": [
    {
     "name": "stdout",
     "output_type": "stream",
     "text": [
      "Ayan\n",
      "Adarsha\n",
      "Abhijit\n"
     ]
    }
   ],
   "source": [
    "a=[\"Subhajit\",\"Ayan\",\"Adarsha\",\"Pranto\",\"Abhijit\",\"Pritam Mondal\"]\n",
    "for items in a:\n",
    "    if(items.startswith(\"A\")):\n",
    "        print(items)"
   ]
  },
  {
   "cell_type": "raw",
   "id": "b6d8d3c8",
   "metadata": {},
   "source": [
    "44.Determine whether a number is prime or not"
   ]
  },
  {
   "cell_type": "code",
   "execution_count": 3,
   "id": "9b582c79",
   "metadata": {},
   "outputs": [
    {
     "name": "stdout",
     "output_type": "stream",
     "text": [
      "Enter the number::5\n",
      "The number entered is a prime number!\n"
     ]
    }
   ],
   "source": [
    "num=int(input(\"Enter the number::\"))\n",
    "prime=True\n",
    "for i in range(2,num):\n",
    "    if(num%i==0):\n",
    "        prime=False\n",
    "        break;\n",
    "if(prime):\n",
    "    print(\"The number entered is a prime number!\")\n",
    "else:\n",
    "    print(\"The number entered is not a prime number!\")"
   ]
  },
  {
   "cell_type": "raw",
   "id": "ffead2ac",
   "metadata": {},
   "source": [
    "45.Program to write the sum of first n natural numbers"
   ]
  },
  {
   "cell_type": "code",
   "execution_count": 4,
   "id": "580ad463",
   "metadata": {},
   "outputs": [
    {
     "name": "stdout",
     "output_type": "stream",
     "text": [
      "Enter the upper limit::5\n",
      "The sum of first 5 natural numbers is 15\n"
     ]
    }
   ],
   "source": [
    "num=int(input(\"Enter the upper limit::\"))\n",
    "sum=0\n",
    "for i in range(1,num+1):\n",
    "    sum+=i;\n",
    "print(f\"The sum of first {num} natural numbers is {sum}\")"
   ]
  },
  {
   "cell_type": "raw",
   "id": "0616e6a3",
   "metadata": {},
   "source": [
    "46.Factorial of a given number using for loop"
   ]
  },
  {
   "cell_type": "code",
   "execution_count": 5,
   "id": "1fd2b313",
   "metadata": {},
   "outputs": [
    {
     "name": "stdout",
     "output_type": "stream",
     "text": [
      "Enter the number whose factorial you want to find:5\n",
      "The factorial of the number 5 is 120\n"
     ]
    }
   ],
   "source": [
    "num=int(input(\"Enter the number whose factorial you want to find:\"))\n",
    "fact=1\n",
    "for i in range(1,num+1):\n",
    "    fact=fact*i\n",
    "print(\"The factorial of the number\",num,\"is\",fact)"
   ]
  },
  {
   "cell_type": "raw",
   "id": "b319a108",
   "metadata": {},
   "source": [
    "47.Triangle Pattern 1"
   ]
  },
  {
   "cell_type": "code",
   "execution_count": 6,
   "id": "25989b64",
   "metadata": {},
   "outputs": [
    {
     "name": "stdout",
     "output_type": "stream",
     "text": [
      "Enter the number of rows::5\n",
      "*\n",
      "**\n",
      "***\n",
      "****\n",
      "*****\n"
     ]
    }
   ],
   "source": [
    "rows=int(input(\"Enter the number of rows::\"))\n",
    "for i in range(rows):\n",
    "    print(\"*\"*(i+1))"
   ]
  },
  {
   "cell_type": "raw",
   "id": "31f35425",
   "metadata": {},
   "source": [
    "48.Triangle pattern 2"
   ]
  },
  {
   "cell_type": "code",
   "execution_count": 12,
   "id": "75f544df",
   "metadata": {},
   "outputs": [
    {
     "name": "stdout",
     "output_type": "stream",
     "text": [
      "Enter the number of rows:5\n",
      "    *\n",
      "   ***\n",
      "  *****\n",
      " *******\n",
      "*********\n"
     ]
    }
   ],
   "source": [
    "rows=int(input(\"Enter the number of rows:\"))\n",
    "for i in range(rows):\n",
    "    for k in range(1,rows-i):\n",
    "        print(\" \",end=\"\")\n",
    "    for j in range(0,2*i+1):\n",
    "        print(\"*\",end=\"\")\n",
    "    print()    "
   ]
  },
  {
   "cell_type": "raw",
   "id": "e7cdd3b1",
   "metadata": {},
   "source": [
    "49.Hollow rectangle pattern using star"
   ]
  },
  {
   "cell_type": "code",
   "execution_count": 17,
   "id": "ff9bb6e3",
   "metadata": {},
   "outputs": [
    {
     "name": "stdout",
     "output_type": "stream",
     "text": [
      "Enter the number of rows:5\n",
      "*****\n",
      "*   *\n",
      "*   *\n",
      "*   *\n",
      "*****\n"
     ]
    }
   ],
   "source": [
    "rows=int(input(\"Enter the number of rows:\"))\n",
    "for i in range(rows):\n",
    "    for j in range(rows):\n",
    "        if(i==0 or i==rows-1 or j==0 or j==rows-1):\n",
    "            print(\"*\",end=\"\")\n",
    "        else:\n",
    "            print(\" \",end=\"\")\n",
    "    print()    "
   ]
  },
  {
   "cell_type": "raw",
   "id": "db2f818d",
   "metadata": {},
   "source": [
    "50.Introduction to functions:"
   ]
  },
  {
   "cell_type": "code",
   "execution_count": 8,
   "id": "4dc57b38",
   "metadata": {},
   "outputs": [
    {
     "name": "stdout",
     "output_type": "stream",
     "text": [
      "Enter the number of subject marks to be entered into the list: 5\n",
      "Enter the total marks in each subject: 100\n",
      "Enter the marks:92\n",
      "Enter the marks:91\n",
      "Enter the marks:95\n",
      "Enter the marks:97\n",
      "Enter the marks:88\n",
      "The percentage obtained by the student is:: 92.6\n"
     ]
    }
   ],
   "source": [
    "def percentage(a,total):\n",
    "    percent=(sum(a)/(len(a)*total))*100\n",
    "    return percent\n",
    "a=[]\n",
    "num=int(input(\"Enter the number of subject marks to be entered into the list: \"))\n",
    "total=int(input(\"Enter the total marks in each subject: \"))\n",
    "for i in range(num):\n",
    "    sub=int(input(\"Enter the marks:\"))\n",
    "    a.append(sub)\n",
    "print(\"The percentage obtained by the student is::\",round(percentage(a,total),2))"
   ]
  },
  {
   "cell_type": "raw",
   "id": "1b42d140",
   "metadata": {},
   "source": [
    "51.Factorial of a number using function"
   ]
  },
  {
   "cell_type": "code",
   "execution_count": 9,
   "id": "b5ebf521",
   "metadata": {},
   "outputs": [
    {
     "name": "stdout",
     "output_type": "stream",
     "text": [
      "Enter the number::5\n",
      "The factorial of a number 5 is 120\n"
     ]
    }
   ],
   "source": [
    "def factorial(n):\n",
    "    fact=1\n",
    "    for i in range(n):\n",
    "        fact=fact*(i+1)\n",
    "    return fact\n",
    "num=int(input(\"Enter the number::\"))\n",
    "print(\"The factorial of a number {} is {}\".format(num,factorial(num)))"
   ]
  },
  {
   "cell_type": "raw",
   "id": "9f06f582",
   "metadata": {},
   "source": [
    "52.Factorial of a number using recursion"
   ]
  },
  {
   "cell_type": "code",
   "execution_count": 10,
   "id": "1e0065ff",
   "metadata": {},
   "outputs": [
    {
     "name": "stdout",
     "output_type": "stream",
     "text": [
      "Enter the number::5\n",
      "The factorial of a number 5 is 120\n"
     ]
    }
   ],
   "source": [
    "def factorial(n):\n",
    "    if(n==1 or n==0):\n",
    "        return 1\n",
    "    else:\n",
    "        return n*factorial(n-1)\n",
    "num=int(input(\"Enter the number::\"))\n",
    "print(\"The factorial of a number {} is {}\".format(num,factorial(num)))"
   ]
  },
  {
   "cell_type": "raw",
   "id": "a8d3b3ff",
   "metadata": {},
   "source": [
    "53.Celcius to fahrenheit temperature conversion"
   ]
  },
  {
   "cell_type": "code",
   "execution_count": 11,
   "id": "66e610cd",
   "metadata": {},
   "outputs": [
    {
     "name": "stdout",
     "output_type": "stream",
     "text": [
      "The temperature 45 in fahrenheit is 113.0\n"
     ]
    }
   ],
   "source": [
    "def fahrenheit(cel):\n",
    "    return ((9/5)*cel)+32\n",
    "c=45\n",
    "f=fahrenheit(c)\n",
    "print(\"The temperature\",c,\"in fahrenheit is\",f)"
   ]
  },
  {
   "cell_type": "raw",
   "id": "2e634908",
   "metadata": {},
   "source": [
    "54.Inverted triangle pattern"
   ]
  },
  {
   "cell_type": "code",
   "execution_count": 14,
   "id": "1dbe310a",
   "metadata": {},
   "outputs": [
    {
     "name": "stdout",
     "output_type": "stream",
     "text": [
      "Enter the number of rows:5\n",
      "*****\n",
      "****\n",
      "***\n",
      "**\n",
      "*\n"
     ]
    }
   ],
   "source": [
    "rows=int(input(\"Enter the number of rows:\"))\n",
    "for i in range(rows):\n",
    "    print(\"*\"*(rows-i))"
   ]
  },
  {
   "cell_type": "raw",
   "id": "3746eb12",
   "metadata": {},
   "source": [
    "55.Use of strip() method"
   ]
  },
  {
   "cell_type": "code",
   "execution_count": 28,
   "id": "dfb660d0",
   "metadata": {},
   "outputs": [
    {
     "name": "stdout",
     "output_type": "stream",
     "text": [
      "Enter the word you want to replace with::Deep\n",
      "Deep is a good boy\n"
     ]
    }
   ],
   "source": [
    "def removeAndSplit(st,new):\n",
    "    newStr=st.replace(\"Adarsha\",new)\n",
    "    newStr=newStr.strip()\n",
    "    return newStr\n",
    "st=\"    Adarsha is a good boy    \"\n",
    "new=input(\"Enter the word you want to replace with::\")\n",
    "new_str=removeAndSplit(st,new)\n",
    "print(new_str)"
   ]
  },
  {
   "cell_type": "raw",
   "id": "d27cfbf3",
   "metadata": {},
   "source": [
    "56.Snake,Water and Gun Game"
   ]
  },
  {
   "cell_type": "code",
   "execution_count": 3,
   "id": "cfb9c25c",
   "metadata": {},
   "outputs": [
    {
     "name": "stdout",
     "output_type": "stream",
     "text": [
      "Computer's turn: Snake(s),Water(w),Gun(g):: X\n",
      "Your's turn: Snake(s),Water(w),Gun(g)::g\n",
      "The computer chose::  s\n",
      "You win!!\n"
     ]
    }
   ],
   "source": [
    "import random\n",
    "def gameWin(comp,you):\n",
    "    if(comp==you):\n",
    "        return None\n",
    "    elif(comp=='s'):\n",
    "        if(you=='w'):\n",
    "            return False\n",
    "        elif(you=='g'):\n",
    "            return True\n",
    "    elif(comp=='w'):\n",
    "        if(you=='g'):\n",
    "            return False\n",
    "        elif(you=='s'):\n",
    "            return True\n",
    "    elif(comp=='g'):\n",
    "        if(you=='s'):\n",
    "            return False\n",
    "        elif(you=='w'):\n",
    "            return True\n",
    "print(\"Computer's turn: Snake(s),Water(w),Gun(g):: X\")\n",
    "randNo=random.randint(1,3)\n",
    "if(randNo==1):\n",
    "    comp='s'\n",
    "elif(randNo==2):\n",
    "    comp='w'\n",
    "else:\n",
    "    comp='g'\n",
    "you=input(\"Your's turn: Snake(s),Water(w),Gun(g)::\")\n",
    "a=gameWin(comp,you)\n",
    "print(\"The computer chose:: \",comp)\n",
    "if(a==None):\n",
    "    print(\"The game is a tie\")\n",
    "elif(a):\n",
    "    print(\"You win!!\")\n",
    "else:\n",
    "    print(\"You lose!!\")"
   ]
  },
  {
   "cell_type": "raw",
   "id": "41a8f020",
   "metadata": {},
   "source": [
    "57.Python Program to input two integers into a single line"
   ]
  },
  {
   "cell_type": "code",
   "execution_count": 22,
   "id": "9e54f5b2",
   "metadata": {},
   "outputs": [
    {
     "name": "stdout",
     "output_type": "stream",
     "text": [
      "Enter the value of x and y:\n",
      "5 9\n",
      "The value of x and y are: 5 and 9\n"
     ]
    }
   ],
   "source": [
    "print(\"Enter the value of x and y:\")\n",
    "x,y=map(int,input().split())\n",
    "print(f\"The value of x and y are: {x} and {y}\")"
   ]
  },
  {
   "cell_type": "raw",
   "id": "0d408b43",
   "metadata": {},
   "source": [
    "58.Program to print a variable without spaces between values"
   ]
  },
  {
   "cell_type": "code",
   "execution_count": 24,
   "id": "1d1ac7af",
   "metadata": {},
   "outputs": [
    {
     "name": "stdout",
     "output_type": "stream",
     "text": [
      "value of x is \"30\"\n"
     ]
    }
   ],
   "source": [
    "x=30\n",
    "print('value of x is \"{}\"'.format(x))"
   ]
  },
  {
   "cell_type": "raw",
   "id": "71ec2d1a",
   "metadata": {},
   "source": [
    "59.Use of zip method"
   ]
  },
  {
   "cell_type": "code",
   "execution_count": 19,
   "id": "f0f7a360",
   "metadata": {},
   "outputs": [
    {
     "name": "stdout",
     "output_type": "stream",
     "text": [
      "(('John', 'Jenny'), ('Charles', 'Christy'), ('Mike', 'Monica'))\n",
      "[('John', 'Jenny'), ('Charles', 'Christy'), ('Mike', 'Monica')]\n"
     ]
    }
   ],
   "source": [
    "#The zip() function returns a zip object, which is an iterator of tuples where the first item in each passed iterator is\n",
    "#paired together, and then the second item in each passed iterator are paired together etc.\n",
    "\n",
    "#If the passed iterators have different lengths, the iterator with the least items decides the length of the new iterator.\n",
    "a = (\"John\", \"Charles\", \"Mike\")\n",
    "b = (\"Jenny\", \"Christy\", \"Monica\")\n",
    "\n",
    "x = zip(a, b)\n",
    "\n",
    "#use the tuple() function to display a readable version of the result:\n",
    "b=tuple(x)\n",
    "print(b)\n",
    "print(list(b))"
   ]
  },
  {
   "cell_type": "raw",
   "id": "a2862853",
   "metadata": {},
   "source": [
    "60.Program to create an array of 5 integers and display the array items"
   ]
  },
  {
   "cell_type": "code",
   "execution_count": 13,
   "id": "66f07d46",
   "metadata": {},
   "outputs": [
    {
     "name": "stdout",
     "output_type": "stream",
     "text": [
      "1\n",
      "3\n",
      "5\n",
      "7\n",
      "9\n",
      "5\n"
     ]
    }
   ],
   "source": [
    "from array import *\n",
    "array_num=array('i',[1,3,5,7,9])\n",
    "for i in array_num:\n",
    "    print(i)\n",
    "print(array_num[2])"
   ]
  },
  {
   "cell_type": "raw",
   "id": "1809edec",
   "metadata": {},
   "source": [
    "61.Program to append an element to the end of the array:"
   ]
  },
  {
   "cell_type": "code",
   "execution_count": 15,
   "id": "f3244c78",
   "metadata": {},
   "outputs": [
    {
     "name": "stdout",
     "output_type": "stream",
     "text": [
      "Original Array:  array('i', [1, 3, 5, 7, 9])\n",
      "Array after apending: array('i', [1, 3, 5, 7, 9, 11])\n"
     ]
    }
   ],
   "source": [
    "from array import *\n",
    "array_num=array('i',[1,3,5,7,9])\n",
    "print(\"Original Array: \",array_num)\n",
    "array_num.append(11)\n",
    "print(\"Array after apending:\",array_num)"
   ]
  },
  {
   "cell_type": "raw",
   "id": "be8ebed2",
   "metadata": {},
   "source": [
    "62.Reversing the elements of the array:"
   ]
  },
  {
   "cell_type": "code",
   "execution_count": 16,
   "id": "c0940e04",
   "metadata": {},
   "outputs": [
    {
     "name": "stdout",
     "output_type": "stream",
     "text": [
      "Original Array:  array('i', [1, 3, 5, 7, 9])\n",
      "Reversed: array('i', [9, 7, 5, 3, 1])\n"
     ]
    }
   ],
   "source": [
    "from array import *\n",
    "array_num=array('i',[1,3,5,7,9])\n",
    "print(\"Original Array: \",array_num)\n",
    "array_num.reverse()\n",
    "print(\"Reversed:\",array_num)"
   ]
  },
  {
   "cell_type": "raw",
   "id": "840b88df",
   "metadata": {},
   "source": [
    "63.Write a python program to get the current memory address and the length in elements of the buffer used to hold an array's contents and also find the size of the buffer"
   ]
  },
  {
   "cell_type": "code",
   "execution_count": 17,
   "id": "e1b37f93",
   "metadata": {},
   "outputs": [
    {
     "name": "stdout",
     "output_type": "stream",
     "text": [
      "Original Array:  array('i', [1, 3, 5, 7, 9])\n",
      "Current memory address and the length in elements of the buffer: (1765020342288, 5)\n",
      "The size of the memory buffer in bytes: 20\n"
     ]
    }
   ],
   "source": [
    "from array import *\n",
    "array_num=array('i',[1,3,5,7,9])\n",
    "print(\"Original Array: \",array_num)\n",
    "print(\"Current memory address and the length in elements of the buffer: \"+str(array_num.buffer_info()))\n",
    "print(\"The size of the memory buffer in bytes: \"+str(array_num.buffer_info()[1]*array_num.itemsize))"
   ]
  },
  {
   "cell_type": "raw",
   "id": "4a160cfe",
   "metadata": {},
   "source": [
    "64.Write a program to find the occurance of specific element in an array"
   ]
  },
  {
   "cell_type": "code",
   "execution_count": 18,
   "id": "6de475b9",
   "metadata": {},
   "outputs": [
    {
     "name": "stdout",
     "output_type": "stream",
     "text": [
      "Original Array:  array('i', [1, 3, 5, 7, 9, 5])\n",
      "The occurance of 5 is::  2\n"
     ]
    }
   ],
   "source": [
    "from array import *\n",
    "array_num=array('i',[1,3,5,7,9,5])\n",
    "print(\"Original Array: \",array_num)\n",
    "print(\"The occurance of 5 is:: \",array_num.count(5))"
   ]
  },
  {
   "cell_type": "raw",
   "id": "3de2ae6b",
   "metadata": {},
   "source": [
    "65.Write a program to insert a new item before the second element in an existing array"
   ]
  },
  {
   "cell_type": "code",
   "execution_count": 19,
   "id": "52a79dc2",
   "metadata": {},
   "outputs": [
    {
     "name": "stdout",
     "output_type": "stream",
     "text": [
      "Inserting 4 before 3 in position 1(index):\n",
      "array('i', [1, 4, 3, 5, 7, 9, 5])\n"
     ]
    }
   ],
   "source": [
    "from array import *\n",
    "array_num=array('i',[1,3,5,7,9,5])\n",
    "print(\"Inserting 4 before 3 in position 1(index):\")\n",
    "array_num.insert(1,4)\n",
    "print(array_num)"
   ]
  },
  {
   "cell_type": "raw",
   "id": "37112b50",
   "metadata": {},
   "source": [
    "66.Write a python program to remove a specified item using the index from an array"
   ]
  },
  {
   "cell_type": "code",
   "execution_count": 20,
   "id": "6ed572bd",
   "metadata": {},
   "outputs": [
    {
     "name": "stdout",
     "output_type": "stream",
     "text": [
      "Inserting 4 before 3 in position 1(index):\n",
      "array('i', [1, 3, 5, 7, 9])\n"
     ]
    }
   ],
   "source": [
    "from array import *\n",
    "array_num=array('i',[1,3,5,7,9,5])\n",
    "print(\"Inserting 4 before 3 in position 1(index):\")\n",
    "array_num.pop(5)\n",
    "print(array_num)"
   ]
  },
  {
   "cell_type": "raw",
   "id": "21e86f93",
   "metadata": {},
   "source": [
    "67.Write a python program to remove the first occurance of a specified element from an array"
   ]
  },
  {
   "cell_type": "code",
   "execution_count": 21,
   "id": "7f12eadf",
   "metadata": {},
   "outputs": [
    {
     "name": "stdout",
     "output_type": "stream",
     "text": [
      "array('i', [1, 3, 7, 9, 5])\n"
     ]
    }
   ],
   "source": [
    "from array import *\n",
    "array_num=array('i',[1,3,5,7,9,5])\n",
    "array_num.remove(5)\n",
    "print(array_num)"
   ]
  },
  {
   "cell_type": "raw",
   "id": "0dac3ce2",
   "metadata": {},
   "source": [
    "68.Write a python program to convert an array to an ordinary list with the same items"
   ]
  },
  {
   "cell_type": "code",
   "execution_count": 22,
   "id": "c7d56ed8",
   "metadata": {},
   "outputs": [
    {
     "name": "stdout",
     "output_type": "stream",
     "text": [
      "[1, 3, 5, 7, 9, 5]\n"
     ]
    }
   ],
   "source": [
    "from array import *\n",
    "array_num=array('i',[1,3,5,7,9,5])\n",
    "num_list=array_num.tolist()\n",
    "print(num_list)"
   ]
  },
  {
   "cell_type": "raw",
   "id": "232e003e",
   "metadata": {},
   "source": [
    "69.Use of join"
   ]
  },
  {
   "cell_type": "code",
   "execution_count": 15,
   "id": "039b6836",
   "metadata": {},
   "outputs": [
    {
     "name": "stdout",
     "output_type": "stream",
     "text": [
      "John#Peter#Vicky\n",
      "John#Peter#Vicky\n",
      "nameTESTcountry\n"
     ]
    }
   ],
   "source": [
    "list = [\"John\", \"Peter\", \"Vicky\"]\n",
    "\n",
    "x = \"#\".join(list)\n",
    "\n",
    "print(x)\n",
    "myTuple = (\"John\", \"Peter\", \"Vicky\")\n",
    "\n",
    "x = \"#\".join(myTuple)\n",
    "\n",
    "print(x)\n",
    "myDict = {\"name\": \"John\", \"country\": \"Norway\"}\n",
    "mySeparator = \"TEST\"\n",
    "\n",
    "x = mySeparator.join(myDict)\n",
    "\n",
    "print(x)"
   ]
  },
  {
   "cell_type": "raw",
   "id": "027f5419",
   "metadata": {},
   "source": [
    "70.Sorting a dictionary by keys or values in python"
   ]
  },
  {
   "cell_type": "code",
   "execution_count": 9,
   "id": "8d5b6ac7",
   "metadata": {},
   "outputs": [
    {
     "name": "stdout",
     "output_type": "stream",
     "text": [
      "{'Adarsha': 32, 'Prashant': 87, 'Sachin': 8, 'Virat': 33}\n",
      "{'Virat': 33, 'Sachin': 8, 'Prashant': 87, 'Adarsha': 32}\n",
      "{'Sachin': 8, 'Adarsha': 32, 'Virat': 33, 'Prashant': 87}\n",
      "{'Prashant': 87, 'Virat': 33, 'Adarsha': 32, 'Sachin': 8}\n"
     ]
    }
   ],
   "source": [
    "a={\"Prashant\":87,\"Adarsha\":32,\"Sachin\":8,\"Virat\":33}\n",
    "\n",
    "#Sorting by Keys\n",
    "sortedByKey={k:v for k,v in sorted(a.items())}\n",
    "print(sortedByKey)\n",
    "\n",
    "#Sorting by keys in reverse\n",
    "sortedByKeyInReverse={k:v for k,v in sorted(a.items(),reverse=True)}\n",
    "print(sortedByKeyInReverse)\n",
    "\n",
    "#Sorting by Values\n",
    "sortedByValues={k:v for k,v in sorted(a.items(),key=lambda v:v[1])}\n",
    "print(sortedByValues)\n",
    "\n",
    "#Sorting by values Reverse\n",
    "sortedByValuesInReverse={k:v for k,v in sorted(a.items(),key=lambda v:v[1],reverse=True)}\n",
    "print(sortedByValuesInReverse)"
   ]
  },
  {
   "cell_type": "markdown",
   "id": "16d63f8b",
   "metadata": {},
   "source": [
    "### Part 1: Basics of Python (Important Programs)"
   ]
  },
  {
   "cell_type": "raw",
   "id": "17b4e124",
   "metadata": {},
   "source": [
    "1.Python Program to print the version of Python we are using."
   ]
  },
  {
   "cell_type": "code",
   "execution_count": 9,
   "id": "9008c573",
   "metadata": {},
   "outputs": [
    {
     "name": "stdout",
     "output_type": "stream",
     "text": [
      "Python version is::  3.9.7 (default, Sep 16 2021, 16:59:28) [MSC v.1916 64 bit (AMD64)]\n",
      "Version Info is::  sys.version_info(major=3, minor=9, micro=7, releaselevel='final', serial=0)\n"
     ]
    }
   ],
   "source": [
    "import sys\n",
    "print(\"Python version is:: \",sys.version)\n",
    "print(\"Version Info is:: \",sys.version_info)"
   ]
  },
  {
   "cell_type": "raw",
   "id": "a07c7669",
   "metadata": {},
   "source": [
    "2.Python program to display the current date and time."
   ]
  },
  {
   "cell_type": "code",
   "execution_count": 42,
   "id": "6b06eb80",
   "metadata": {},
   "outputs": [
    {
     "name": "stdout",
     "output_type": "stream",
     "text": [
      "Current Date and time is::  2022-06-01 and 19:45:06\n"
     ]
    }
   ],
   "source": [
    "import datetime\n",
    "now=datetime.datetime.now()\n",
    "print(\"Current Date and time is:: \",now.strftime(\"%Y-%m-%d and %H:%M:%S\"))"
   ]
  },
  {
   "cell_type": "raw",
   "id": "8f606a3c",
   "metadata": {},
   "source": [
    "3.Python Program that accepts a sequence of comma separated numbers from user and generate a list and tuple with those numbers"
   ]
  },
  {
   "cell_type": "code",
   "execution_count": 11,
   "id": "07038e0f",
   "metadata": {},
   "outputs": [
    {
     "name": "stdout",
     "output_type": "stream",
     "text": [
      "Input some comma separated numbers:4,5,6,7,8\n",
      "List : ['4', '5', '6', '7', '8']\n",
      "Tuple:  ('4', '5', '6', '7', '8')\n"
     ]
    }
   ],
   "source": [
    "values=input(\"Input some comma separated numbers:\")\n",
    "list=values.split(\",\")\n",
    "tuple=tuple(list)\n",
    "print(\"List :\",list)\n",
    "print(\"Tuple: \",tuple)"
   ]
  },
  {
   "cell_type": "raw",
   "id": "ec83fb5c",
   "metadata": {},
   "source": [
    "4.Write a python program that accepts a filename from the user and print the extension of that."
   ]
  },
  {
   "cell_type": "code",
   "execution_count": 12,
   "id": "a5dfa45a",
   "metadata": {},
   "outputs": [
    {
     "name": "stdout",
     "output_type": "stream",
     "text": [
      "Enter the filename:Rocky Bhai.java\n",
      "The extension of the file is ::  java\n"
     ]
    }
   ],
   "source": [
    "filename=input(\"Enter the filename:\")\n",
    "f_extns=filename.split(\".\")\n",
    "print(\"The extension of the file is :: \",f_extns[-1])"
   ]
  },
  {
   "cell_type": "raw",
   "id": "afc87309",
   "metadata": {},
   "source": [
    "5.Python Program to print the first and last color from the list:"
   ]
  },
  {
   "cell_type": "code",
   "execution_count": 15,
   "id": "b1944e5a",
   "metadata": {},
   "outputs": [
    {
     "name": "stdout",
     "output_type": "stream",
     "text": [
      "The first color:  Red & The last color is:  Black\n"
     ]
    }
   ],
   "source": [
    "color_list=[\"Red\",\"Green\",\"White\",\"Black\"]\n",
    "print(\"The first color: \",color_list[0],\"& The last color is: \",color_list[-1])"
   ]
  },
  {
   "cell_type": "raw",
   "id": "75254ec9",
   "metadata": {},
   "source": [
    "6.Write a program to display the examination schedule.(extract the date from exam_st_date)"
   ]
  },
  {
   "cell_type": "code",
   "execution_count": 16,
   "id": "1f64d28e",
   "metadata": {},
   "outputs": [
    {
     "name": "stdout",
     "output_type": "stream",
     "text": [
      "The examination will start from date: 11/12/2014\n"
     ]
    }
   ],
   "source": [
    "exam_st_date=(11,12,2014)\n",
    "print(\"The examination will start from date: %i/%i/%i\"%exam_st_date)"
   ]
  },
  {
   "cell_type": "raw",
   "id": "70c5a637",
   "metadata": {},
   "source": [
    "7.Write a python program to print the documents (Syntax,description etc.) of Python built in function(s):"
   ]
  },
  {
   "cell_type": "code",
   "execution_count": 17,
   "id": "a53bb16c",
   "metadata": {},
   "outputs": [
    {
     "name": "stdout",
     "output_type": "stream",
     "text": [
      "Return the absolute value of the argument.\n"
     ]
    }
   ],
   "source": [
    "#Example function abs()\n",
    "print(abs.__doc__)"
   ]
  },
  {
   "cell_type": "raw",
   "id": "c1514347",
   "metadata": {},
   "source": [
    "8.Python program to print the calender of a given month and year:"
   ]
  },
  {
   "cell_type": "code",
   "execution_count": 1,
   "id": "ef3876c4",
   "metadata": {},
   "outputs": [
    {
     "name": "stdout",
     "output_type": "stream",
     "text": [
      "Enter the year:2022\n",
      "Enter the month:5\n",
      "      May 2022\n",
      "Mo Tu We Th Fr Sa Su\n",
      "                   1\n",
      " 2  3  4  5  6  7  8\n",
      " 9 10 11 12 13 14 15\n",
      "16 17 18 19 20 21 22\n",
      "23 24 25 26 27 28 29\n",
      "30 31\n",
      "\n"
     ]
    }
   ],
   "source": [
    "import calendar\n",
    "year=int(input(\"Enter the year:\"))\n",
    "month=int(input(\"Enter the month:\"))\n",
    "print(calendar.month(year,month))"
   ]
  },
  {
   "cell_type": "raw",
   "id": "6a24db13",
   "metadata": {},
   "source": [
    "9.Printing a multiline docstring"
   ]
  },
  {
   "cell_type": "code",
   "execution_count": 2,
   "id": "e0868e7b",
   "metadata": {},
   "outputs": [
    {
     "name": "stdout",
     "output_type": "stream",
     "text": [
      "Hello,\n",
      "My name is Adarsha Chatterjee.I stay in Durgapur,West Bengal.\n",
      "This is a multi line doctring ------>Example\n"
     ]
    }
   ],
   "source": [
    "print(\"\"\"Hello,\n",
    "My name is Adarsha Chatterjee.I stay in Durgapur,West Bengal.\n",
    "This is a multi line doctring ------>Example\"\"\")"
   ]
  },
  {
   "cell_type": "raw",
   "id": "e0dbfcb8",
   "metadata": {},
   "source": [
    "10.Program to calculate the number of days between two dates"
   ]
  },
  {
   "cell_type": "code",
   "execution_count": 3,
   "id": "2bfa7088",
   "metadata": {},
   "outputs": [
    {
     "name": "stdout",
     "output_type": "stream",
     "text": [
      "27\n"
     ]
    }
   ],
   "source": [
    "from datetime import date\n",
    "f_date=date(2022,5,2)\n",
    "l_date=date(2022,5,29)\n",
    "delta=l_date-f_date\n",
    "print(delta.days)"
   ]
  },
  {
   "cell_type": "raw",
   "id": "a871c77d",
   "metadata": {},
   "source": [
    "11.Program to find the volume of a sphere"
   ]
  },
  {
   "cell_type": "code",
   "execution_count": 4,
   "id": "88ba342a",
   "metadata": {},
   "outputs": [
    {
     "name": "stdout",
     "output_type": "stream",
     "text": [
      "Enter the radius of the sphere::6\n",
      "The volume of the sphere is 904.752\n"
     ]
    }
   ],
   "source": [
    "pi=3.1415\n",
    "r=int(input(\"Enter the radius of the sphere::\"))\n",
    "v=4/3*pi*r**3\n",
    "print(f\"The volume of the sphere is {v}\")"
   ]
  },
  {
   "cell_type": "raw",
   "id": "bc7dc7da",
   "metadata": {},
   "source": [
    "12.Write a program to get the difference between a given number and 17,if the number is greater than 17\n",
    "return the absolute difference"
   ]
  },
  {
   "cell_type": "code",
   "execution_count": 6,
   "id": "e1dde954",
   "metadata": {},
   "outputs": [
    {
     "name": "stdout",
     "output_type": "stream",
     "text": [
      "10\n",
      "9\n"
     ]
    }
   ],
   "source": [
    "def difference(num):\n",
    "    if(num<=17):\n",
    "        return 17-num\n",
    "    else:\n",
    "        return abs(17-num)*2 #Here used abs function intentionally for better understanding\n",
    "print(difference(22))\n",
    "print(difference(8))"
   ]
  },
  {
   "cell_type": "raw",
   "id": "b85644d6",
   "metadata": {},
   "source": [
    "13.Python Program to return a string which is a non negative copy of the given str"
   ]
  },
  {
   "cell_type": "code",
   "execution_count": 25,
   "id": "067052b2",
   "metadata": {},
   "outputs": [
    {
     "name": "stdout",
     "output_type": "stream",
     "text": [
      "abcabc\n",
      ".py.py.py\n"
     ]
    }
   ],
   "source": [
    "def larger_string(st,n):\n",
    "    result=\"\"\n",
    "    for i in range(n):\n",
    "        result=result+st\n",
    "    return result\n",
    "print(larger_string(\"abc\",2))\n",
    "print(larger_string(\".py\",3))"
   ]
  },
  {
   "cell_type": "raw",
   "id": "2693aef4",
   "metadata": {},
   "source": [
    "14.Write a program to get new string from a given string where \"Is\" has been added to the frontr.If the given string already \n",
    "begins with \"Is\" then return the string unchanged"
   ]
  },
  {
   "cell_type": "code",
   "execution_count": 23,
   "id": "0d9ecd80",
   "metadata": {},
   "outputs": [
    {
     "name": "stdout",
     "output_type": "stream",
     "text": [
      "IsArray\n",
      "IsAdarsha\n"
     ]
    }
   ],
   "source": [
    "def new_string(st):\n",
    "    if(len(st)>=2 and st[:2]==\"Is\"):\n",
    "        return st\n",
    "    return \"Is\"+st\n",
    "print(new_string(\"Array\"))\n",
    "print(new_string(\"IsAdarsha\"))"
   ]
  },
  {
   "cell_type": "raw",
   "id": "12cffc43",
   "metadata": {},
   "source": [
    "15.Write a python program to get the n copies of the first 2 characters of a given string.Return the n copies of the whole \n",
    "string if the length is less than 2"
   ]
  },
  {
   "cell_type": "code",
   "execution_count": 21,
   "id": "df9a828f",
   "metadata": {},
   "outputs": [
    {
     "name": "stdout",
     "output_type": "stream",
     "text": [
      "Enter the string::s\n",
      "ss\n",
      "sss\n"
     ]
    }
   ],
   "source": [
    "def new_string(st,n):\n",
    "    string=\"\"\n",
    "    if(len(st)>=2):\n",
    "        for i in range(n):\n",
    "            string=string+st[:2]\n",
    "        return string\n",
    "    else:\n",
    "        for i in range(n):\n",
    "            string=string+st\n",
    "        return string\n",
    "st=input(\"Enter the string::\")\n",
    "print(new_string(st,2))\n",
    "print(new_string(st,3))"
   ]
  },
  {
   "cell_type": "raw",
   "id": "9ea048d5",
   "metadata": {},
   "source": [
    "16.Python Program to check whether the passed character is a vowel or consonant"
   ]
  },
  {
   "cell_type": "code",
   "execution_count": 39,
   "id": "bd04be4d",
   "metadata": {},
   "outputs": [
    {
     "name": "stdout",
     "output_type": "stream",
     "text": [
      "Enter the character:r\n",
      "This is a consonant\n"
     ]
    }
   ],
   "source": [
    "def is_vowel(char):\n",
    "    st=\"aeiou\"\n",
    "    if(char in st):\n",
    "        return True\n",
    "    else:\n",
    "        return False\n",
    "char=input(\"Enter the character:\")\n",
    "if(is_vowel(char)):\n",
    "    print(\"This is a vowel\")\n",
    "else:\n",
    "    print(\"This is a consonant\")"
   ]
  },
  {
   "cell_type": "raw",
   "id": "51cab470",
   "metadata": {},
   "source": [
    "17.Python Program to concatenate all elements in a list into a string and return it"
   ]
  },
  {
   "cell_type": "code",
   "execution_count": 3,
   "id": "734e0374",
   "metadata": {},
   "outputs": [
    {
     "name": "stdout",
     "output_type": "stream",
     "text": [
      "1234894322\n"
     ]
    }
   ],
   "source": [
    "def concatenate_list_data(list):\n",
    "    string=''\n",
    "    for i in list:\n",
    "        string+=str(i)\n",
    "    return string        \n",
    "print(concatenate_list_data([12,34,89,43,22]))"
   ]
  },
  {
   "cell_type": "raw",
   "id": "20d4e3d1",
   "metadata": {},
   "source": [
    "18.Write a program to print out a set containing all the colors from color_list_1 which are not present in color_list_2"
   ]
  },
  {
   "cell_type": "code",
   "execution_count": 6,
   "id": "0571f834",
   "metadata": {},
   "outputs": [
    {
     "name": "stdout",
     "output_type": "stream",
     "text": [
      "{'White', 'Black'}\n"
     ]
    }
   ],
   "source": [
    "color_list_1=set([\"White\",\"Black\",\"Red\"])\n",
    "color_list_2=set([\"Red\",\"Green\"])\n",
    "print(color_list_1.difference(color_list_2))"
   ]
  },
  {
   "cell_type": "raw",
   "id": "0edffa5d",
   "metadata": {},
   "source": [
    "19.Program to find the GCD and LCM of two numbers"
   ]
  },
  {
   "cell_type": "code",
   "execution_count": 8,
   "id": "2d6043ed",
   "metadata": {},
   "outputs": [
    {
     "name": "stdout",
     "output_type": "stream",
     "text": [
      "Enter the first number:81\n",
      "Enter the second number:153\n",
      "The LCM is 1377.0 and the HCF is 9\n"
     ]
    }
   ],
   "source": [
    "num1=int(input(\"Enter the first number:\"))\n",
    "num2=int(input(\"Enter the second number:\"))\n",
    "temp1=num1\n",
    "temp2=num2\n",
    "while(temp1!=temp2):\n",
    "    if(temp1>temp2):\n",
    "        temp1-=temp2\n",
    "    else:\n",
    "        temp2-=temp1\n",
    "hcf=temp1\n",
    "lcm=num1*num2/hcf\n",
    "print(f\"The LCM is {lcm} and the HCF is {hcf}\")"
   ]
  },
  {
   "cell_type": "raw",
   "id": "75431405",
   "metadata": {},
   "source": [
    "20.Write a python program which will return true if two given integer values are equal or their sum or difference is 5"
   ]
  },
  {
   "cell_type": "code",
   "execution_count": 10,
   "id": "da9beecf",
   "metadata": {},
   "outputs": [
    {
     "name": "stdout",
     "output_type": "stream",
     "text": [
      "True\n",
      "True\n",
      "True\n"
     ]
    }
   ],
   "source": [
    "def calc(num1,num2):\n",
    "    if(num1==num2 or abs(num1-num2)==5 or num1+num2==5):\n",
    "        return True\n",
    "    else:\n",
    "        return False\n",
    "print(calc(7,2))\n",
    "print(calc(3,2))\n",
    "print(calc(2,2))"
   ]
  },
  {
   "cell_type": "raw",
   "id": "58eb7f96",
   "metadata": {},
   "source": [
    "21.Program to compute the distance between the points (x1,y1) and (x2,y2)"
   ]
  },
  {
   "cell_type": "code",
   "execution_count": 14,
   "id": "063c0802",
   "metadata": {},
   "outputs": [
    {
     "name": "stdout",
     "output_type": "stream",
     "text": [
      "6.324555320336759\n",
      "6.32\n"
     ]
    }
   ],
   "source": [
    "import math\n",
    "p1=[4,0]\n",
    "p2=[6,6]\n",
    "distance=math.sqrt((p1[0]-p2[0])**2+(p1[1]-p2[1])**2)\n",
    "print(distance)\n",
    "print(round(distance,2))"
   ]
  },
  {
   "cell_type": "raw",
   "id": "f37a1b8d",
   "metadata": {},
   "source": [
    "22.Python Program to check whether a file exists"
   ]
  },
  {
   "cell_type": "code",
   "execution_count": 15,
   "id": "89215423",
   "metadata": {},
   "outputs": [
    {
     "name": "stdout",
     "output_type": "stream",
     "text": [
      "True\n"
     ]
    }
   ],
   "source": [
    "import os.path\n",
    "open('sample.txt','w')\n",
    "print(os.path.isfile('sample.txt'))"
   ]
  },
  {
   "cell_type": "raw",
   "id": "b887ea66",
   "metadata": {},
   "source": [
    "23.Program to check whether the Python file is executing in 32 bit or 64 bit mode"
   ]
  },
  {
   "cell_type": "code",
   "execution_count": 17,
   "id": "cd84906d",
   "metadata": {},
   "outputs": [
    {
     "name": "stdout",
     "output_type": "stream",
     "text": [
      "64\n"
     ]
    }
   ],
   "source": [
    "import struct\n",
    "print(struct.calcsize(\"P\")*8)"
   ]
  },
  {
   "cell_type": "raw",
   "id": "cae2738b",
   "metadata": {},
   "source": [
    "24.Python Program to concatenate N strings"
   ]
  },
  {
   "cell_type": "code",
   "execution_count": 18,
   "id": "2bf214c0",
   "metadata": {},
   "outputs": [
    {
     "name": "stdout",
     "output_type": "stream",
     "text": [
      "All colors: Red-White-Black\n"
     ]
    }
   ],
   "source": [
    "list_of_colors=[\"Red\",\"White\",\"Black\"]\n",
    "colors=\"-\".join(list_of_colors)\n",
    "print(f\"All colors: {colors}\")"
   ]
  },
  {
   "cell_type": "raw",
   "id": "062ad947",
   "metadata": {},
   "source": [
    "25.Write a Python program to test whether all numbers of a list is greater than a certain number"
   ]
  },
  {
   "cell_type": "code",
   "execution_count": 19,
   "id": "989e39d5",
   "metadata": {},
   "outputs": [
    {
     "name": "stdout",
     "output_type": "stream",
     "text": [
      "True\n",
      "False\n"
     ]
    }
   ],
   "source": [
    "num=[2,3,4]\n",
    "print(all(x>1 for x in num))\n",
    "print(all(x>4 for x in num))"
   ]
  },
  {
   "cell_type": "raw",
   "id": "d0286247",
   "metadata": {},
   "source": [
    "26.Count specific character in a string"
   ]
  },
  {
   "cell_type": "code",
   "execution_count": 20,
   "id": "7f919d0f",
   "metadata": {},
   "outputs": [
    {
     "name": "stdout",
     "output_type": "stream",
     "text": [
      "3\n"
     ]
    }
   ],
   "source": [
    "string=\"My name is Adarsha\"\n",
    "print(string.count(\"a\"))"
   ]
  },
  {
   "cell_type": "raw",
   "id": "1a0bf9fe",
   "metadata": {},
   "source": [
    "27.To print the ASCII value of a character"
   ]
  },
  {
   "cell_type": "code",
   "execution_count": 22,
   "id": "7c159853",
   "metadata": {},
   "outputs": [
    {
     "name": "stdout",
     "output_type": "stream",
     "text": [
      "65\n",
      "49\n",
      "64\n",
      "97\n"
     ]
    }
   ],
   "source": [
    "print(ord(\"A\"))\n",
    "print(ord(\"1\"))\n",
    "print(ord(\"@\"))\n",
    "print(ord(\"a\"))"
   ]
  },
  {
   "cell_type": "raw",
   "id": "67379396",
   "metadata": {},
   "source": [
    "28.Python Programming to swap two variables"
   ]
  },
  {
   "cell_type": "code",
   "execution_count": 23,
   "id": "049d0b3d",
   "metadata": {},
   "outputs": [
    {
     "name": "stdout",
     "output_type": "stream",
     "text": [
      "Before Swapping a is 20 and b is 30\n",
      "The value after swapping is a: 30 and b is: 20\n"
     ]
    }
   ],
   "source": [
    "a=20\n",
    "b=30\n",
    "print(f\"Before Swapping a is {a} and b is {b}\")\n",
    "a,b=b,a\n",
    "print(f\"The value after swapping is a: {a} and b is: {b}\")"
   ]
  },
  {
   "cell_type": "raw",
   "id": "69f46d58",
   "metadata": {},
   "source": [
    "29.Python program to check whether a string is numeric"
   ]
  },
  {
   "cell_type": "code",
   "execution_count": 28,
   "id": "ccc08ae3",
   "metadata": {},
   "outputs": [
    {
     "name": "stdout",
     "output_type": "stream",
     "text": [
      "Not Numeric\n"
     ]
    }
   ],
   "source": [
    "string=\"123ab\"\n",
    "try:\n",
    "    i=float(string)\n",
    "except (ValueError,TypeError):\n",
    "    print(\"Not Numeric\")"
   ]
  },
  {
   "cell_type": "raw",
   "id": "164f1dbf",
   "metadata": {},
   "source": [
    "30.Python program to get the system time"
   ]
  },
  {
   "cell_type": "code",
   "execution_count": 29,
   "id": "874da193",
   "metadata": {},
   "outputs": [
    {
     "name": "stdout",
     "output_type": "stream",
     "text": [
      "\n",
      "Thu Jun  2 00:14:41 2022\n"
     ]
    }
   ],
   "source": [
    "import time\n",
    "print()\n",
    "print(time.ctime())"
   ]
  },
  {
   "cell_type": "raw",
   "id": "7af82fba",
   "metadata": {},
   "source": [
    "31.Write a Python Program to get numbers divisible by fifteen from a list using an anonymous function"
   ]
  },
  {
   "cell_type": "code",
   "execution_count": 31,
   "id": "a3d995d3",
   "metadata": {},
   "outputs": [
    {
     "name": "stdout",
     "output_type": "stream",
     "text": [
      "Numbers divisible by 15 are:  [45, 60, 105]\n"
     ]
    }
   ],
   "source": [
    "num_list=[45,55,60,37,100,220,105]\n",
    "result=list(filter(lambda x:(x%15==0),num_list))#####DOUBT\n",
    "print(\"Numbers divisible by 15 are: \",result)"
   ]
  },
  {
   "cell_type": "raw",
   "id": "76ad5bdf",
   "metadata": {},
   "source": [
    "32.Python Program to remove the first item from the specified list"
   ]
  },
  {
   "cell_type": "code",
   "execution_count": 2,
   "id": "bbd2c28c",
   "metadata": {},
   "outputs": [
    {
     "name": "stdout",
     "output_type": "stream",
     "text": [
      "Original Color::  ['Black', 'Green', 'Yellow', 'White']\n",
      "New color::  ['Green', 'Yellow', 'White']\n"
     ]
    }
   ],
   "source": [
    "color=[\"Black\",\"Green\",\"Yellow\",\"White\"]\n",
    "print(\"Original Color:: \",color)\n",
    "del color[0]\n",
    "print(\"New color:: \",color)"
   ]
  },
  {
   "cell_type": "raw",
   "id": "6da1d54c",
   "metadata": {},
   "source": [
    "33.Use of try and error: Write a python program to input a number if its not a number then generate an error mesage"
   ]
  },
  {
   "cell_type": "code",
   "execution_count": 5,
   "id": "a95cf09a",
   "metadata": {},
   "outputs": [
    {
     "name": "stdout",
     "output_type": "stream",
     "text": [
      "Input a number:abc123\n",
      "This is not a number.Try again...\n",
      "\n",
      "Input a number:56hbjh\n",
      "This is not a number.Try again...\n",
      "\n",
      "Input a number:780\n"
     ]
    }
   ],
   "source": [
    "while True:\n",
    "    try:\n",
    "        a=int(input(\"Input a number:\"))\n",
    "        break\n",
    "    except ValueError:\n",
    "        print(\"This is not a number.Try again...\")\n",
    "        print()"
   ]
  },
  {
   "cell_type": "raw",
   "id": "b6e9230f",
   "metadata": {},
   "source": [
    "34.Write a python program to prove that two string variables of same value point same memory location"
   ]
  },
  {
   "cell_type": "code",
   "execution_count": 6,
   "id": "2fe1e22e",
   "metadata": {},
   "outputs": [
    {
     "name": "stdout",
     "output_type": "stream",
     "text": [
      "Memory location of str1= 0x1bb00379b70\n",
      "Memory location of str2= 0x1bb00379b70\n"
     ]
    }
   ],
   "source": [
    "str1=\"Python\"\n",
    "str2=\"Python\"\n",
    "print(\"Memory location of str1=\",hex(id(str1)))\n",
    "print(\"Memory location of str2=\",hex(id(str2)))"
   ]
  },
  {
   "cell_type": "raw",
   "id": "7593137c",
   "metadata": {},
   "source": [
    "35.Trying to remove duplicate elements of a list"
   ]
  },
  {
   "cell_type": "code",
   "execution_count": 7,
   "id": "47099063",
   "metadata": {},
   "outputs": [
    {
     "name": "stdout",
     "output_type": "stream",
     "text": [
      "{33, 99, 67, 12, 54, 87}\n"
     ]
    }
   ],
   "source": [
    "a=[12,67,99,54,12,99,87,33]\n",
    "b=set(a)#We can do that by converting list into sets\n",
    "print(b)"
   ]
  },
  {
   "cell_type": "raw",
   "id": "eaee8e66",
   "metadata": {},
   "source": [
    "36.Program to empty a variable without destroying it"
   ]
  },
  {
   "cell_type": "code",
   "execution_count": 8,
   "id": "3d771c02",
   "metadata": {},
   "outputs": [
    {
     "name": "stdout",
     "output_type": "stream",
     "text": [
      "0\n",
      "{}\n",
      "[]\n",
      "()\n"
     ]
    }
   ],
   "source": [
    "a=20\n",
    "d={\"x\":210}\n",
    "l=[2,3,4]\n",
    "t=(56,98,33)\n",
    "print(type(a)())\n",
    "print(type(d)())\n",
    "print(type(l)())\n",
    "print(type(t)())"
   ]
  },
  {
   "cell_type": "raw",
   "id": "41effecc",
   "metadata": {},
   "source": [
    "37.Python program to check whether lowercase characters exists in a string"
   ]
  },
  {
   "cell_type": "code",
   "execution_count": 21,
   "id": "acfeb202",
   "metadata": {},
   "outputs": [
    {
     "name": "stdout",
     "output_type": "stream",
     "text": [
      "True\n",
      "False\n",
      "False\n",
      "abdkjhhgf35543gfdgfbjhdsob\n",
      "ABDKJHHGF35543GFDGFBJHDSOB\n",
      "ABDKJHHGF35543GFDGFBJHDSOB\n",
      "False\n",
      "True\n"
     ]
    }
   ],
   "source": [
    "string=\"ABDKJHHGF35543gfdgfbjhDSOB\"\n",
    "print(any(c.islower() for c in string))\n",
    "print(all(c.islower() for c in string))#It checks whether all the characters of a string are lowercase\n",
    "print(string.islower())\n",
    "string=string.lower()\n",
    "print(string)\n",
    "print(string.upper())\n",
    "string=string.upper()\n",
    "print(string)\n",
    "x=\"ADARSHA\"\n",
    "print(all(c.isupper() for c in string))#As numbers are also included\n",
    "print(all(c.isupper() for c in x))"
   ]
  },
  {
   "cell_type": "raw",
   "id": "9419e742",
   "metadata": {},
   "source": [
    "38.Convert decimal to other number systems"
   ]
  },
  {
   "cell_type": "code",
   "execution_count": 29,
   "id": "49ea022f",
   "metadata": {},
   "outputs": [
    {
     "name": "stdout",
     "output_type": "stream",
     "text": [
      "1010\n",
      "62\n",
      "114\n"
     ]
    }
   ],
   "source": [
    "print(bin(10)[2:])\n",
    "print(hex(98)[2:])\n",
    "print(oct(76)[2:])"
   ]
  },
  {
   "cell_type": "raw",
   "id": "a727b9eb",
   "metadata": {},
   "source": [
    "39.Python Program to find the maximum and the minimum number without/ using inbuilt function"
   ]
  },
  {
   "cell_type": "code",
   "execution_count": 33,
   "id": "ac94265d",
   "metadata": {},
   "outputs": [
    {
     "name": "stdout",
     "output_type": "stream",
     "text": [
      "(99, -9)\n"
     ]
    }
   ],
   "source": [
    "def max_min(l):\n",
    "    max=l[0]\n",
    "    min=l[0]\n",
    "    for i in l:\n",
    "        if(i>max):\n",
    "            max=i\n",
    "        elif(i<min):\n",
    "            min=i\n",
    "        else:\n",
    "            pass\n",
    "    return max,min\n",
    "print(max_min([0,10,54,8,-9,12,34,5,12,89,99]))"
   ]
  },
  {
   "cell_type": "raw",
   "id": "8bd8dce1",
   "metadata": {},
   "source": [
    "40.Write a python program that takes a sequence of numbers and determines whether all the numbers are different from each other"
   ]
  },
  {
   "cell_type": "code",
   "execution_count": 36,
   "id": "c2cdee94",
   "metadata": {},
   "outputs": [
    {
     "name": "stdout",
     "output_type": "stream",
     "text": [
      "All the numbers are not distinct!\n"
     ]
    }
   ],
   "source": [
    "def distinct_check(l):\n",
    "    if(len(l)==len(set(l))):\n",
    "        return True\n",
    "    else:\n",
    "        return False\n",
    "l=[23,44,91,67,88,91]\n",
    "if(distinct_check(l)):\n",
    "    print(\"All the numbers present in the list are distinct!\")\n",
    "else:\n",
    "    print(\"All the numbers are not distinct!\")"
   ]
  },
  {
   "cell_type": "raw",
   "id": "d21741b5",
   "metadata": {},
   "source": [
    "41.Program to create all possible strings by using 'a','e','i','o','u'"
   ]
  },
  {
   "cell_type": "code",
   "execution_count": 43,
   "id": "a9267a35",
   "metadata": {},
   "outputs": [
    {
     "name": "stdout",
     "output_type": "stream",
     "text": [
      "a@e@i@o@u\n",
      "aoeui\n"
     ]
    }
   ],
   "source": [
    "import random\n",
    "char_list=['a','e','i','o','u']\n",
    "joined_list='@'.join(char_list)\n",
    "print(joined_list)\n",
    "random.shuffle(char_list)\n",
    "print(''.join(char_list))"
   ]
  },
  {
   "cell_type": "raw",
   "id": "f16b53a5",
   "metadata": {},
   "source": [
    "42.Remove and print every third number from a list of numbers until the list becomes empty"
   ]
  },
  {
   "cell_type": "code",
   "execution_count": 45,
   "id": "1ebc68c9",
   "metadata": {},
   "outputs": [
    {
     "name": "stdout",
     "output_type": "stream",
     "text": [
      "10\n",
      "20\n",
      "30\n",
      "40\n",
      "50\n",
      "60\n",
      "70\n",
      "80\n",
      "90\n"
     ]
    }
   ],
   "source": [
    "def remove_nums(int_list):\n",
    "    #List starts with 0 index\n",
    "    position=2\n",
    "    index=0\n",
    "    len_list=len(int_list)\n",
    "    while len_list>0:\n",
    "        idx=(position+index)%len_list\n",
    "        print(int_list.pop(index))\n",
    "        len_list-=1\n",
    "nums=[10,20,30,40,50,60,70,80,90]\n",
    "remove_nums(nums)"
   ]
  },
  {
   "cell_type": "raw",
   "id": "a5f27e16",
   "metadata": {},
   "source": [
    "43.Write a program to find unique triplets whose three elements gives the sum of zero from an array of n integers"
   ]
  },
  {
   "cell_type": "code",
   "execution_count": 6,
   "id": "9f36781b",
   "metadata": {},
   "outputs": [
    {
     "name": "stdout",
     "output_type": "stream",
     "text": [
      "[2, 3, -5]\n",
      "No such triplet found!\n"
     ]
    }
   ],
   "source": [
    "def unique_triplets(int_list):\n",
    "    unique_set=set(int_list)\n",
    "    unique_list=list(unique_set)\n",
    "    list_length=len(int_list)\n",
    "    a=[]\n",
    "    for i in range(0,list_length-2):\n",
    "        for j in range(i+1,list_length-1):\n",
    "            for k in range(j+1,list_length):\n",
    "                if(int_list[i]+int_list[j]+int_list[k]==0):\n",
    "                    a.append(int_list[i])\n",
    "                    a.append(int_list[j])\n",
    "                    a.append(int_list[k])\n",
    "                    return a\n",
    "x=[0,2,3,9,76,-5]\n",
    "s=[8,6,45,-2,23,-15]\n",
    "if(unique_triplets(x) is not None):\n",
    "    print(unique_triplets(x))\n",
    "else:\n",
    "    print(\"No such triplet found!\")\n",
    "if(unique_triplets(s) is not None):\n",
    "    print(unique_triplets(s))\n",
    "else:\n",
    "    print(\"No such triplet found!\")"
   ]
  },
  {
   "cell_type": "raw",
   "id": "e2191885",
   "metadata": {},
   "source": [
    "44.Write a python program to print a long text and convert the string to list and print all the words and their frequencies"
   ]
  },
  {
   "cell_type": "code",
   "execution_count": 14,
   "id": "d2345f5a",
   "metadata": {},
   "outputs": [
    {
     "name": "stdout",
     "output_type": "stream",
     "text": [
      "['My name is Adarsha', 'Chatterjee']\n",
      "['My', 'name', 'is', 'Adarsha@Chatterjee']\n",
      "My name is Adarsha@Chatterjee\n",
      "[1, 1, 1, 1]\n",
      "Pairs(words and frequencies): [('My', 1), ('name', 1), ('is', 1), ('Adarsha@Chatterjee', 1)]\n"
     ]
    }
   ],
   "source": [
    "string_words=\"My name is Adarsha@Chatterjee\"\n",
    "words_list=string_words.split(\"@\") #Spliting where there is occurance of @ sign\n",
    "print(words_list)\n",
    "words=string_words.split()\n",
    "print(words)\n",
    "print(string_words)\n",
    "word_freq=[words.count(n) for n in words]\n",
    "print(word_freq)\n",
    "print(\"Pairs(words and frequencies): {}\".format(str(list(zip(words,word_freq)))))\n",
    "#The zip() function returns a zip object, which is an iterator of tuples where the first\n",
    "#item in each passed iterator is paired together, and then the second item in each passed iterator are paired together etc.\n",
    "#refer to w3 schools to know more"
   ]
  },
  {
   "cell_type": "raw",
   "id": "8a627a1e",
   "metadata": {},
   "source": [
    "45.Write a python program to create all possible permutations from a given collection of distinct numbers"
   ]
  },
  {
   "cell_type": "code",
   "execution_count": 23,
   "id": "6989f8cc",
   "metadata": {},
   "outputs": [
    {
     "name": "stdout",
     "output_type": "stream",
     "text": [
      "Original Collection:  [1, 2, 3]\n",
      "Collection of distinct numbers:\n",
      " [[3, 2, 1], [2, 3, 1], [2, 1, 3], [3, 1, 2], [1, 3, 2], [1, 2, 3]]\n"
     ]
    }
   ],
   "source": [
    "##DOUBT\n",
    "def permute(nums):\n",
    "  result_perms = [[]]\n",
    "  for n in nums:\n",
    "    new_perms = []\n",
    "    for perm in result_perms:\n",
    "      for i in range(len(perm)+1):\n",
    "        new_perms.append(perm[:i] + [n] + perm[i:])\n",
    "        result_perms = new_perms\n",
    "  return result_perms\n",
    "\n",
    "my_nums = [1,2,3]\n",
    "print(\"Original Collection: \",my_nums)\n",
    "print(\"Collection of distinct numbers:\\n\",permute(my_nums))"
   ]
  },
  {
   "cell_type": "raw",
   "id": "bcf27760",
   "metadata": {},
   "source": [
    "46.Python Program to get the all possible two digit letter combination from a digit(1 to 9) string"
   ]
  },
  {
   "cell_type": "code",
   "execution_count": 4,
   "id": "3f1f7fcd",
   "metadata": {},
   "outputs": [
    {
     "name": "stdout",
     "output_type": "stream",
     "text": [
      "['jt', 'ju', 'jv', 'kt', 'ku', 'kv', 'lt', 'lu', 'lv']\n",
      "['dz', 'ez', 'fz']\n"
     ]
    }
   ],
   "source": [
    "def letter_combinations(digits):\n",
    "    if digits == \"\":\n",
    "        return []\n",
    "    string_maps = {\n",
    "        \"1\": \"abc\",\n",
    "        \"2\": \"def\",\n",
    "        \"3\": \"ghi\",\n",
    "        \"4\": \"jkl\",\n",
    "        \"5\": \"mno\",\n",
    "        \"6\": \"pqrs\",\n",
    "        \"7\": \"tuv\",\n",
    "        \"8\": \"wxy\",\n",
    "        \"9\": \"z\"\n",
    "    }\n",
    "    result = [\"\"]\n",
    "    for num in digits:\n",
    "        temp = []\n",
    "        for an in result:\n",
    "            for char in string_maps[num]:\n",
    "                temp.append(an + char)\n",
    "        result = temp\n",
    "    return result\n",
    "\n",
    "digit_string = \"47\"\n",
    "print(letter_combinations(digit_string))\n",
    "digit_string = \"29\"\n",
    "print(letter_combinations(digit_string))"
   ]
  },
  {
   "cell_type": "raw",
   "id": "3d4e7bcd",
   "metadata": {},
   "source": [
    "47.Program to add two numbers without using +operators"
   ]
  },
  {
   "cell_type": "code",
   "execution_count": 7,
   "id": "8721a16d",
   "metadata": {},
   "outputs": [
    {
     "name": "stdout",
     "output_type": "stream",
     "text": [
      "Enter the first number::5\n",
      "Enter the second number::-9\n",
      "-4\n"
     ]
    }
   ],
   "source": [
    "def add_without_plus_operator(a,b):\n",
    "    while(b!=0):\n",
    "        data=a&b\n",
    "        a=a^b\n",
    "        b=data<<1\n",
    "    return a\n",
    "x=int(input(\"Enter the first number::\"))\n",
    "y=int(input(\"Enter the second number::\"))\n",
    "print(add_without_plus_operator(x,y))"
   ]
  },
  {
   "cell_type": "raw",
   "id": "8d48a3cf",
   "metadata": {},
   "source": [
    "49.Program to find the number of zeros at the end of factorial of a number"
   ]
  },
  {
   "cell_type": "code",
   "execution_count": 10,
   "id": "cee2c723",
   "metadata": {},
   "outputs": [
    {
     "name": "stdout",
     "output_type": "stream",
     "text": [
      "Enter the number::100\n",
      "24\n"
     ]
    }
   ],
   "source": [
    "def find_end_zeros(num):\n",
    "    x=num//5\n",
    "    s=x\n",
    "    while(x>0):\n",
    "        x=x//5\n",
    "        s+=x\n",
    "    return s\n",
    "num=int(input(\"Enter the number::\"))\n",
    "print(find_end_zeros(num))"
   ]
  },
  {
   "cell_type": "raw",
   "id": "2af5bda8",
   "metadata": {},
   "source": [
    "50.Write a program to find the number of notes(Sample of notes :10,20,50,100,200 and 500) against a given amount"
   ]
  },
  {
   "cell_type": "code",
   "execution_count": 15,
   "id": "46cc4499",
   "metadata": {},
   "outputs": [
    {
     "name": "stdout",
     "output_type": "stream",
     "text": [
      "6\n",
      "3\n",
      "5\n",
      "6\n"
     ]
    }
   ],
   "source": [
    "def note_count(note):\n",
    "    sample=[500,200,100,50,20,10]\n",
    "    count=0\n",
    "    while(note!=0):\n",
    "        for i in sample:\n",
    "            if(note>=i):\n",
    "                note=note-i\n",
    "                count+=1\n",
    "                break\n",
    "            else:\n",
    "                pass\n",
    "    return count\n",
    "print(note_count(880))\n",
    "print(note_count(1200))\n",
    "print(note_count(1350))\n",
    "print(note_count(1360))"
   ]
  },
  {
   "cell_type": "raw",
   "id": "cc29be22",
   "metadata": {},
   "source": [
    "51.Write a program to find the digits that are absent in a given mobile number"
   ]
  },
  {
   "cell_type": "code",
   "execution_count": 30,
   "id": "c478924c",
   "metadata": {},
   "outputs": [
    {
     "name": "stdout",
     "output_type": "stream",
     "text": [
      "Enter your mobile number::8617045085\n",
      "['2', '3', '9']\n"
     ]
    }
   ],
   "source": [
    "def find_absent_digits(phone_num):\n",
    "    digits_count={\n",
    "        '0':0,\n",
    "        '1':0,\n",
    "        '2':0,\n",
    "        '3':0,\n",
    "        '4':0,\n",
    "        '5':0,\n",
    "        '6':0,\n",
    "        '7':0,\n",
    "        '8':0,\n",
    "        '9':0,\n",
    "    }\n",
    "    absent_elements=[]\n",
    "    for i in phone_num:\n",
    "        if i in list(digits_count.keys()):\n",
    "            digits_count[i]+=1\n",
    "        else:\n",
    "            pass\n",
    "    for i in digits_count:\n",
    "        if(digits_count[i]==0):\n",
    "            absent_elements.append(i)\n",
    "        else:\n",
    "            pass\n",
    "    return absent_elements\n",
    "phone_num=list(input(\"Enter your mobile number::\"))\n",
    "print(find_absent_digits(phone_num))"
   ]
  },
  {
   "cell_type": "raw",
   "id": "0c83ba97",
   "metadata": {},
   "source": [
    "52.Important concept of the previous program"
   ]
  },
  {
   "cell_type": "code",
   "execution_count": 29,
   "id": "beb10086",
   "metadata": {},
   "outputs": [
    {
     "name": "stdout",
     "output_type": "stream",
     "text": [
      "0\n",
      "<class 'str'>\n",
      "1\n",
      "<class 'str'>\n",
      "2\n",
      "<class 'str'>\n",
      "3\n",
      "<class 'str'>\n",
      "4\n",
      "<class 'str'>\n",
      "5\n",
      "<class 'str'>\n",
      "6\n",
      "<class 'str'>\n",
      "7\n",
      "<class 'str'>\n",
      "8\n",
      "<class 'str'>\n",
      "9\n",
      "<class 'str'>\n"
     ]
    }
   ],
   "source": [
    "digits_count={\n",
    "        '0':0,\n",
    "        '1':0,\n",
    "        '2':0,\n",
    "        '3':0,\n",
    "        '4':0,\n",
    "        '5':0,\n",
    "        '6':0,\n",
    "        '7':0,\n",
    "        '8':0,\n",
    "        '9':0,\n",
    "    }\n",
    "for i in digits_count:\n",
    "    print(i)\n",
    "    print(type(i))"
   ]
  },
  {
   "cell_type": "raw",
   "id": "597b0b8b",
   "metadata": {},
   "source": [
    "53.Write a python program to replace a string 'Python' with 'Java' and 'Java' with 'Python' in a given string"
   ]
  },
  {
   "cell_type": "code",
   "execution_count": 34,
   "id": "05bbbd09",
   "metadata": {},
   "outputs": [
    {
     "name": "stdout",
     "output_type": "stream",
     "text": [
      "Input a string with two words 'Python' and 'Java':\n",
      "Python and Java are the important programming languages\n",
      "Java and Python are the important programming languages\n"
     ]
    }
   ],
   "source": [
    "print(\"Input a string with two words 'Python' and 'Java':\")\n",
    "text=input()\n",
    "text=text.replace(\"Python\",\"@\")\n",
    "text=text.replace(\"Java\",\"#\")\n",
    "text=text.replace(\"#\",\"Python\")\n",
    "text=text.replace(\"@\",\"Java\")\n",
    "print(text)"
   ]
  },
  {
   "cell_type": "raw",
   "id": "860870c8",
   "metadata": {},
   "source": [
    "54.Python program to reverse the vowels of the given string"
   ]
  },
  {
   "cell_type": "code",
   "execution_count": 37,
   "id": "abfb42cb",
   "metadata": {},
   "outputs": [
    {
     "name": "stdout",
     "output_type": "stream",
     "text": [
      "w3resuorce\n",
      "Python\n",
      "ASU\n",
      "Perl\n"
     ]
    }
   ],
   "source": [
    "def reverse_vowels(str1):\n",
    "    vowels=\"\"\n",
    "    for char in str1:\n",
    "        if char in \"aeiouAEIOU\":\n",
    "            vowels+=char\n",
    "    result_string=\"\"\n",
    "    for char in str1:\n",
    "        if char in \"aeiouAEIOU\":\n",
    "            result_string+=vowels[-1]\n",
    "            vowels=vowels[:-1]#It just eliminates the last vowel that has been added to the result string\n",
    "        else:\n",
    "            result_string+=char\n",
    "    return result_string\n",
    "print(reverse_vowels(\"w3resource\"))\n",
    "print(reverse_vowels(\"Python\"))\n",
    "print(reverse_vowels(\"USA\"))\n",
    "print(reverse_vowels(\"Perl\"))"
   ]
  },
  {
   "cell_type": "raw",
   "id": "e331dd55",
   "metadata": {},
   "source": [
    "55.Important Concept of the previous question"
   ]
  },
  {
   "cell_type": "code",
   "execution_count": 39,
   "id": "450f8445",
   "metadata": {},
   "outputs": [
    {
     "name": "stdout",
     "output_type": "stream",
     "text": [
      "aeiouAEIO\n",
      "aeiouAEIO\n"
     ]
    }
   ],
   "source": [
    "vowel=\"aeiouAEIOU\"\n",
    "print(vowel[:-1])#The iteration will stop before the last element\n",
    "vowel=vowel[:-1]\n",
    "print(vowel)"
   ]
  },
  {
   "cell_type": "raw",
   "id": "b11a9be9",
   "metadata": {},
   "source": [
    "56.Write a program to check whether a number is a palindrome or not"
   ]
  },
  {
   "cell_type": "code",
   "execution_count": 41,
   "id": "6bec75a1",
   "metadata": {},
   "outputs": [
    {
     "name": "stdout",
     "output_type": "stream",
     "text": [
      "False\n",
      "True\n",
      "False\n"
     ]
    }
   ],
   "source": [
    "def is_Palindrome(n):\n",
    "    return str(n) == str(n)[::-1]\n",
    "print(is_Palindrome(100))\n",
    "print(is_Palindrome(252))\n",
    "print(is_Palindrome(-838))"
   ]
  },
  {
   "cell_type": "raw",
   "id": "7b4cd202",
   "metadata": {},
   "source": [
    "57.Write a program to remove duplicate elements from a given list"
   ]
  },
  {
   "cell_type": "code",
   "execution_count": 44,
   "id": "8241a35e",
   "metadata": {},
   "outputs": [
    {
     "name": "stdout",
     "output_type": "stream",
     "text": [
      "The length of the list and the list after removal of the duplicate elements are:: (6, [98, 12, 77, 23, 92, 62])\n"
     ]
    }
   ],
   "source": [
    "def remove_duplicates(x):\n",
    "    b=set(x)\n",
    "    l=list(b)\n",
    "    return len(l),l\n",
    "x=[23,77,92,12,77,98,12,23,62]\n",
    "print(\"The length of the list and the list after removal of the duplicate elements are:: {}\".format(remove_duplicates(x)))"
   ]
  },
  {
   "cell_type": "raw",
   "id": "ecf1a1e6",
   "metadata": {},
   "source": [
    "58.Write a python program to find all the instance of a given value from a given array of integers and find the length of the array"
   ]
  },
  {
   "cell_type": "code",
   "execution_count": 3,
   "id": "71057559",
   "metadata": {},
   "outputs": [
    {
     "name": "stdout",
     "output_type": "stream",
     "text": [
      "Enter the element that you want to remove from the list::21\n",
      "The new list formed after eliminating that element and the length of the list:\n",
      "([76, 44, 8, 82, 44, 5, 44, 12], 8)\n"
     ]
    }
   ],
   "source": [
    "def new_list(a,x):\n",
    "    i=0\n",
    "    while(i<len(a)):\n",
    "        if(a[i]==x):\n",
    "            a.remove(a[i])\n",
    "        else:\n",
    "            i+=1\n",
    "    return a,len(a)\n",
    "a=[21,76,44,8,82,21,44,5,44,12]\n",
    "x=int(input(\"Enter the element that you want to remove from the list::\"))\n",
    "print(\"The new list formed after eliminating that element and the length of the list:\")\n",
    "print(new_list(a,x))"
   ]
  },
  {
   "cell_type": "raw",
   "id": "a83b71e6",
   "metadata": {},
   "source": [
    "59.Write a python program to accept two strings and check whether the characters of the second string are present in the first string"
   ]
  },
  {
   "cell_type": "code",
   "execution_count": 7,
   "id": "1c2bd60b",
   "metadata": {},
   "outputs": [
    {
     "name": "stdout",
     "output_type": "stream",
     "text": [
      "True\n",
      "False\n",
      "True\n"
     ]
    }
   ],
   "source": [
    "def string_letter_check(str1,str2):\n",
    "    for i in str2.lower():\n",
    "        if(i not in str1.lower()):\n",
    "            return False\n",
    "        else:\n",
    "            pass\n",
    "    return True\n",
    "print(string_letter_check(\"Python\",\"pthyno\"))\n",
    "print(string_letter_check(\"Adarsha\",\"deep\"))\n",
    "print(string_letter_check(\"RKMGEC\",\"mgke\"))"
   ]
  },
  {
   "cell_type": "raw",
   "id": "d92e4f74",
   "metadata": {},
   "source": [
    "60.Write a python program to replace all but the last five characters"
   ]
  },
  {
   "cell_type": "code",
   "execution_count": 1,
   "id": "3f765801",
   "metadata": {},
   "outputs": [
    {
     "name": "stdout",
     "output_type": "stream",
     "text": [
      "********12345\n"
     ]
    }
   ],
   "source": [
    "def mask_string(str1):\n",
    "    return '*'*(len(str1)-5)+str1[-5:]\n",
    "print(mask_string(\"adcdefgh12345\"))"
   ]
  },
  {
   "cell_type": "raw",
   "id": "1cb3926f",
   "metadata": {},
   "source": [
    "61.Write a python program to find the middle character of a given string.If the length of the string is odd return the middle character and return the middle two characters if the string length is even"
   ]
  },
  {
   "cell_type": "code",
   "execution_count": 3,
   "id": "ccd332f8",
   "metadata": {},
   "outputs": [
    {
     "name": "stdout",
     "output_type": "stream",
     "text": [
      "th\n",
      "H\n",
      "AV\n"
     ]
    }
   ],
   "source": [
    "def middle_element(txt):\n",
    "    return txt[(len(txt)-1)//2:(len(txt)+2)//2]\n",
    "print(middle_element(\"Python\"))\n",
    "print(middle_element(\"PHP\"))\n",
    "print(middle_element(\"JAVA\"))"
   ]
  },
  {
   "cell_type": "raw",
   "id": "c7d3afdf",
   "metadata": {},
   "source": [
    "62.Python program to check whether a given list of numbers has an increasing trend or not"
   ]
  },
  {
   "cell_type": "code",
   "execution_count": 6,
   "id": "4af20fbf",
   "metadata": {},
   "outputs": [
    {
     "name": "stdout",
     "output_type": "stream",
     "text": [
      "True\n",
      "False\n",
      "[4, 5, 6, 7, 8, 72, 98]\n"
     ]
    }
   ],
   "source": [
    "def increasing_trend(nums):\n",
    "    if(sorted(nums)==nums):\n",
    "        return True\n",
    "    else:\n",
    "        return False\n",
    "print(increasing_trend([1,2,3,5]))\n",
    "print(increasing_trend([1,0,-4,12,87]))\n"
   ]
  },
  {
   "cell_type": "raw",
   "id": "ecbc78f4",
   "metadata": {},
   "source": [
    "63.Python program to check whether every even index contains an even number and every odd index contains odd number in a given list"
   ]
  },
  {
   "cell_type": "code",
   "execution_count": 11,
   "id": "6c8e2562",
   "metadata": {},
   "outputs": [
    {
     "name": "stdout",
     "output_type": "stream",
     "text": [
      "True\n",
      "False\n"
     ]
    }
   ],
   "source": [
    "def odd_even_positions(nums):\n",
    "    for i in range(len(nums)):\n",
    "        if(i%2==nums[i]%2):\n",
    "            pass\n",
    "        else:\n",
    "            return False\n",
    "    return True\n",
    "print(odd_even_positions([2,1,4,3,6,7,6,3]))\n",
    "print(odd_even_positions([2,1,4,3,6,7,6,4]))"
   ]
  },
  {
   "cell_type": "raw",
   "id": "835fcf47",
   "metadata": {},
   "source": [
    "64.Write a python program to find the first duplicate element in a given array of integers.Return -1 if there are no such elements"
   ]
  },
  {
   "cell_type": "code",
   "execution_count": 28,
   "id": "4042f9e9",
   "metadata": {},
   "outputs": [
    {
     "name": "stdout",
     "output_type": "stream",
     "text": [
      "4\n",
      "-1\n",
      "1\n"
     ]
    }
   ],
   "source": [
    "def find_first_duplicate(nums):\n",
    "    new_set=set()\n",
    "    no_duplicate=-1\n",
    "    for i in range(len(nums)):\n",
    "        if(nums[i] in new_set):\n",
    "            return nums[i]\n",
    "        else:\n",
    "            new_set.add(nums[i])\n",
    "    return no_duplicate\n",
    "print(find_first_duplicate([1,2,3,4,4,5]))\n",
    "print(find_first_duplicate([1,2,3,4]))\n",
    "print(find_first_duplicate([1,1,2,3,3,2,2]))"
   ]
  },
  {
   "cell_type": "raw",
   "id": "10cd0b44",
   "metadata": {},
   "source": [
    "65.Reverse a string without/using function"
   ]
  },
  {
   "cell_type": "code",
   "execution_count": 35,
   "id": "f00dc1f6",
   "metadata": {},
   "outputs": [
    {
     "name": "stdout",
     "output_type": "stream",
     "text": [
      "Enter a word to reverse::Adarsha\n",
      "ahsradA\n",
      "Adarsha\n",
      "[5, 4, 3, 2, 1]\n"
     ]
    }
   ],
   "source": [
    "word=input(\"Enter a word to reverse::\")\n",
    "for char in range(len(word)-1,-1,-1):\n",
    "    print(word[char],end=\"\")\n",
    "print()\n",
    "word=word[::-1]\n",
    "word=word[::-1]\n",
    "print(word)\n",
    "a=[1,2,3,4,5]\n",
    "a.reverse()\n",
    "print(a)"
   ]
  },
  {
   "cell_type": "raw",
   "id": "d42c9a40",
   "metadata": {},
   "source": [
    "66.Python program that accepts a string and calculate the number of digits and letters"
   ]
  },
  {
   "cell_type": "code",
   "execution_count": 36,
   "id": "a04eef8f",
   "metadata": {},
   "outputs": [
    {
     "name": "stdout",
     "output_type": "stream",
     "text": [
      "Input a string:W3Resource\n",
      "Letters: 9\n",
      "Digits: 1\n"
     ]
    }
   ],
   "source": [
    "s=input(\"Input a string:\")\n",
    "d=l=0\n",
    "for i in s:\n",
    "    if(i.isdigit()):#Important function\n",
    "        d+=1\n",
    "    elif(i.isalpha()):\n",
    "        l+=1\n",
    "    else:\n",
    "        pass\n",
    "print(\"Letters:\",l)\n",
    "print(\"Digits:\",d)"
   ]
  },
  {
   "cell_type": "raw",
   "id": "7ad3933a",
   "metadata": {},
   "source": [
    "67.Write a Python program to check the validity of a password (input from users).\n",
    "Validation :\n",
    "At least 1 letter between [a-z] and 1 letter between [A-Z].\n",
    "At least 1 number between [0-9].\n",
    "At least 1 character from [$#@].\n",
    "Minimum length 6 characters.\n",
    "Maximum length 16 characters."
   ]
  },
  {
   "cell_type": "code",
   "execution_count": 37,
   "id": "be2f265f",
   "metadata": {},
   "outputs": [
    {
     "name": "stdout",
     "output_type": "stream",
     "text": [
      "Input your password:Wr@100a\n",
      "Valid Password\n"
     ]
    }
   ],
   "source": [
    "import re\n",
    "p=input(\"Input your password:\")\n",
    "x=True\n",
    "while x:\n",
    "    if(len(p)<6 or len(p)>16):\n",
    "        break\n",
    "    elif not re.search(\"[a-z]\",p):\n",
    "        break\n",
    "    elif not re.search(\"[0-9]\",p):\n",
    "        break\n",
    "    elif not re.search(\"[A-Z]\",p):\n",
    "        break\n",
    "    elif not re.search(\"[$#@]\",p):\n",
    "        break\n",
    "    elif re.search(\"\\s\",p):\n",
    "        break\n",
    "    else:\n",
    "        print(\"Valid Password\")\n",
    "        x=False\n",
    "        break\n",
    "if x:\n",
    "    print(\"Not a valid Password\")\n",
    "    "
   ]
  },
  {
   "cell_type": "raw",
   "id": "c6fbfa16",
   "metadata": {},
   "source": [
    "68.Python function to check whether a given number is present in a given range"
   ]
  },
  {
   "cell_type": "code",
   "execution_count": 8,
   "id": "f02b3766",
   "metadata": {},
   "outputs": [
    {
     "name": "stdout",
     "output_type": "stream",
     "text": [
      "The number is present in the range.\n",
      "The number is not present in that range\n"
     ]
    }
   ],
   "source": [
    "def test_range(n):\n",
    "    if(n in range(3,9)):\n",
    "        print(\"The number is present in the range.\")\n",
    "    else:\n",
    "        print(\"The number is not present in that range\")\n",
    "test_range(5)\n",
    "test_range(612)"
   ]
  },
  {
   "cell_type": "raw",
   "id": "7bec68d0",
   "metadata": {},
   "source": [
    "69.Python program that takes a string and count the number of uppercase and lowercase characters"
   ]
  },
  {
   "cell_type": "code",
   "execution_count": 9,
   "id": "d45e4d3e",
   "metadata": {},
   "outputs": [
    {
     "name": "stdout",
     "output_type": "stream",
     "text": [
      "The original string:: Adarsha\n",
      "The number of uppercase characters:: 6\n",
      "The number of uppercase characters:: 1\n"
     ]
    }
   ],
   "source": [
    "def string_test(s):\n",
    "    d={'Upper':0,'Lower':0}\n",
    "    for c in s:\n",
    "        if(c.islower()):\n",
    "            d['Upper']+=1\n",
    "        elif(c.isupper()):\n",
    "            d['Lower']+=1\n",
    "        else:\n",
    "            pass\n",
    "    print(\"The original string::\",s)\n",
    "    print(\"The number of uppercase characters::\",d['Upper'])\n",
    "    print(\"The number of uppercase characters::\",d['Lower'])\n",
    "string_test(\"Adarsha\")"
   ]
  },
  {
   "cell_type": "raw",
   "id": "c1857249",
   "metadata": {},
   "source": [
    "70.Write a program to detect the number of local variables declared in a function"
   ]
  },
  {
   "cell_type": "code",
   "execution_count": 10,
   "id": "ae38bb47",
   "metadata": {},
   "outputs": [
    {
     "name": "stdout",
     "output_type": "stream",
     "text": [
      "3\n"
     ]
    }
   ],
   "source": [
    "def abc():\n",
    "    x=1\n",
    "    y=2\n",
    "    str1=\"w3resource\"\n",
    "    print(\"Python exercises\")\n",
    "print(abc.__code__.co_nlocals)"
   ]
  },
  {
   "cell_type": "markdown",
   "id": "8ec47652",
   "metadata": {},
   "source": [
    "#### Part 2: File Handling in Python:"
   ]
  },
  {
   "cell_type": "raw",
   "id": "1c19b237",
   "metadata": {},
   "source": [
    "1.File handling in python"
   ]
  },
  {
   "cell_type": "code",
   "execution_count": 10,
   "id": "0865f98d",
   "metadata": {},
   "outputs": [
    {
     "name": "stdout",
     "output_type": "stream",
     "text": [
      "Python is a high-level, interpreted, general-purpose programming language. Its design philosophy emphasizes code readability with the use of significant indentation.\n",
      "\n",
      "Python is dynamically-typed and garbage-collected. It supports multiple programming paradigms, including structured (particularly procedural), object-oriented and functional programming. It is often described as a \"batteries included\" language due to its comprehensive standard library.\n",
      "\n",
      "Guido van Rossum began working on Python in the late 1980s as a successor to the ABC programming language and first released it in 1991 as Python 0.9.0.Python 2.0 was released in 2000 and introduced new features such as list comprehensions, cycle-detecting garbage collection, reference counting, and Unicode support. Python 3.0, released in 2008, was a major revision that is not completely backward-compatible with earlier versions. Python 2 was discontinued with version 2.7.18 in 2020.\n",
      "\n"
     ]
    }
   ],
   "source": [
    "f=open('Python Sample text.txt','r')\n",
    "#This open method is used for opening a file\n",
    "data=f.read()\n",
    "# data_new=f.read(10)#This will read first 10 characters from the file\n",
    "print(data)\n",
    "print(data_new)\n",
    "f.close()#This method is used for closing the file    "
   ]
  },
  {
   "cell_type": "raw",
   "id": "a8af5cf0",
   "metadata": {},
   "source": [
    "2.Readline method in Python"
   ]
  },
  {
   "cell_type": "code",
   "execution_count": 15,
   "id": "1de43858",
   "metadata": {},
   "outputs": [
    {
     "name": "stdout",
     "output_type": "stream",
     "text": [
      "Python is a high-level, interpreted, general-purpose programming language. Its design philosophy emphasizes code readability with the use of significant indentation.\n",
      "\n",
      "\n",
      "\n",
      "Python is dynamically-typed and garbage-collected. It supports multiple programming paradigms, including structured (particularly procedural), object-oriented and functional programming. It is often described as a \"batteries included\" language due to its comprehensive standard library.\n",
      "\n"
     ]
    }
   ],
   "source": [
    "f=open(\"Python Sample text.txt\",'r')\n",
    "#Reads first line\n",
    "data=f.readline()\n",
    "print(data)\n",
    "#Reads the second line\n",
    "data=f.readline()\n",
    "print(data)\n",
    "#Reads the third line\n",
    "data=f.readline()\n",
    "print(data)\n",
    "f.close()"
   ]
  },
  {
   "cell_type": "raw",
   "id": "8a1f2978",
   "metadata": {},
   "source": [
    "3.Writing text to a file"
   ]
  },
  {
   "cell_type": "code",
   "execution_count": 39,
   "id": "dc429b02",
   "metadata": {},
   "outputs": [
    {
     "name": "stdout",
     "output_type": "stream",
     "text": [
      "My name is Adarsha Chatterjee.I am from Ramkrishna mahato Government Engineering College,Purulia\n"
     ]
    }
   ],
   "source": [
    "f=open(\"Another sample file.txt\",'w')\n",
    "f.write(\"My name is Adarsha Chatterjee.I am from Ramkrishna mahato Government Engineering College,Purulia\")\n",
    "r=open(\"Another sample file.txt\",'r')#By default mode is read mode  \n",
    "data=r.read()\n",
    "print(data)\n",
    "f.close()"
   ]
  },
  {
   "cell_type": "raw",
   "id": "de914062",
   "metadata": {},
   "source": [
    "4.Append function"
   ]
  },
  {
   "cell_type": "code",
   "execution_count": 42,
   "id": "da22424e",
   "metadata": {},
   "outputs": [],
   "source": [
    "f=open('Another sample file.txt','a')\n",
    "f.write(\".I am appending\")\n",
    "f.close()"
   ]
  },
  {
   "cell_type": "raw",
   "id": "a1050d7b",
   "metadata": {},
   "source": [
    "5.Use of with statement"
   ]
  },
  {
   "cell_type": "code",
   "execution_count": 43,
   "id": "7a216165",
   "metadata": {},
   "outputs": [],
   "source": [
    " with open('sample.txt','w') as f:\n",
    "        a=f.write(\"Hello there.This is Adarsha\") #A new file will get created"
   ]
  },
  {
   "cell_type": "code",
   "execution_count": 44,
   "id": "91e03415",
   "metadata": {},
   "outputs": [
    {
     "name": "stdout",
     "output_type": "stream",
     "text": [
      "Hello there.This is Adarsha\n"
     ]
    }
   ],
   "source": [
    "with open('sample.txt','r') as f:\n",
    "    a=f.read()\n",
    "    print(a)#in this case we don't need to write f.close() as it is done automatically "
   ]
  },
  {
   "cell_type": "raw",
   "id": "30d2e5da",
   "metadata": {},
   "source": [
    "6.Write a program to read a text from a given file poem.txt and check that whether it contains the word twinkle in it"
   ]
  },
  {
   "cell_type": "code",
   "execution_count": 47,
   "id": "2fbb22c1",
   "metadata": {},
   "outputs": [
    {
     "name": "stdout",
     "output_type": "stream",
     "text": [
      "The file contains the word twinkle in it!\n"
     ]
    }
   ],
   "source": [
    "with open('Twinkle.txt') as f:\n",
    "    a=f.read()\n",
    "if(\"twinkle\" in a):\n",
    "    print(\"The file contains the word twinkle in it!\")\n",
    "    \n",
    "else:\n",
    "    print(\"The file does not contain the word twinkle in it!\")\n",
    "#The file will get automatically closed! "
   ]
  },
  {
   "cell_type": "markdown",
   "id": "425c46a3",
   "metadata": {},
   "source": [
    "#### Introduction to object oriented programming in Python"
   ]
  },
  {
   "cell_type": "raw",
   "id": "ec194ceb",
   "metadata": {},
   "source": [
    "1.To find the sum of two numbers using Class and object concept"
   ]
  },
  {
   "cell_type": "code",
   "execution_count": 1,
   "id": "0b49e325",
   "metadata": {},
   "outputs": [
    {
     "name": "stdout",
     "output_type": "stream",
     "text": [
      "Enter the first number::56\n",
      "Enter the seciond number::21\n",
      "The sum of the two numbers 56 and 21 is 77\n"
     ]
    }
   ],
   "source": [
    "class Number:\n",
    "    def sum(self):\n",
    "        return self.a+self.b\n",
    "num=Number() #Here we are basically creating an object of the class Number()\n",
    "num1=int(input(\"Enter the first number::\"))\n",
    "num2=int(input(\"Enter the seciond number::\"))\n",
    "num.a=num1\n",
    "num.b=num2\n",
    "s=num.sum()\n",
    "print(f\"The sum of the two numbers {num.a} and {num.b} is {s}\")"
   ]
  },
  {
   "cell_type": "raw",
   "id": "df5cdf71",
   "metadata": {},
   "source": [
    "2.Railway form using OOPS concepts"
   ]
  },
  {
   "cell_type": "code",
   "execution_count": 1,
   "id": "e1483f37",
   "metadata": {},
   "outputs": [
    {
     "name": "stdout",
     "output_type": "stream",
     "text": [
      "Name: Adarsha Chatterjee\n",
      "Train: Bardhaman-Bokaro-Passenger\n",
      "Form Type: Railway form\n"
     ]
    }
   ],
   "source": [
    "class RailwayForm:\n",
    "    formType=\"Railway form\"#This is an example of class attribute\n",
    "    def printData(self):\n",
    "        print(f\"Name: {self.name}\\nTrain: {self.train}\\nForm Type: {self.formType}\")\n",
    "adarshaApplication=RailwayForm();\n",
    "adarshaApplication.name=\"Adarsha Chatterjee\"\n",
    "adarshaApplication.train=\"Bardhaman-Bokaro-Passenger\"#This is an example of instance attribute\n",
    "adarshaApplication.printData()"
   ]
  },
  {
   "cell_type": "raw",
   "id": "67def0d2",
   "metadata": {},
   "source": [
    "3.Employee class using OOPS concepts"
   ]
  },
  {
   "cell_type": "code",
   "execution_count": 4,
   "id": "9e32c50d",
   "metadata": {},
   "outputs": [
    {
     "name": "stdout",
     "output_type": "stream",
     "text": [
      "The name of the employee is :Adarsha Chatterjee\n",
      "The salary of the employee is: 120000\n",
      "The company of the employee is:Amazon\n",
      "The name of the employee is :Selena Gomez\n",
      "The salary of the employee is: 50000\n",
      "The company of the employee is:Google\n",
      "The name of the employee is :Richard Smith\n",
      "The salary of the employee is: 100000\n",
      "The company of the employee is:Google\n"
     ]
    }
   ],
   "source": [
    "class Employee:\n",
    "    company=\"Google\"#This is an example of class attribute\n",
    "    salary=50000\n",
    "    def getEmployeeDetails(self):\n",
    "        return \"The name of the employee is :\"+str(self.name)+\"\\nThe salary of the employee is: \"+str(self.salary)+\"\\nThe company of the employee is:\"+str(self.company)\n",
    "Adarsha=Employee()\n",
    "Richard=Employee()\n",
    "Selena=Employee()\n",
    "Adarsha.name=\"Adarsha Chatterjee\"\n",
    "Richard.name=\"Richard Smith\"\n",
    "Selena.name=\"Selena Gomez\"\n",
    "Adarsha.salary=120000\n",
    "Richard.salary=100000\n",
    "Adarsha.company=\"Amazon\"#The instance attribute takes preference over class attributes during retreival anf assignment\n",
    "print(Adarsha.getEmployeeDetails())\n",
    "print(Selena.getEmployeeDetails())\n",
    "print(Richard.getEmployeeDetails())"
   ]
  },
  {
   "cell_type": "raw",
   "id": "acc32e64",
   "metadata": {},
   "source": [
    "4.Use of static keyword"
   ]
  },
  {
   "cell_type": "code",
   "execution_count": 34,
   "id": "cc5b0041",
   "metadata": {},
   "outputs": [
    {
     "name": "stdout",
     "output_type": "stream",
     "text": [
      "The name of the employee is :Adarsha Chatterjee\n",
      "The salary of the employee is: 120000\n",
      "The company of the employee is:Amazon\n",
      "The name of the employee is :Selena Gomez\n",
      "The salary of the employee is: 50000\n",
      "The company of the employee is:Google\n",
      "The name of the employee is :Richard Smith\n",
      "The salary of the employee is: 100000\n",
      "The company of the employee is:Google\n",
      "Good morning!\n",
      "Good morning!\n",
      "None\n",
      "The current year is :2022\n",
      "The current day of the week is: Tuesday\n",
      "The local version of date and time is: Tue May 17 19:46:41 2022\n",
      "The current time is: 19:46:41\n"
     ]
    }
   ],
   "source": [
    "import datetime\n",
    "class Employee:\n",
    "    company=\"Google\"#This is an example of class attribute\n",
    "    salary=50000 #This is an example of class attribute\n",
    "    def getEmployeeDetails(self):\n",
    "        return \"The name of the employee is :\"+str(self.name)+\"\\nThe salary of the employee is: \"+str(self.salary)+\"\\nThe company of the employee is:\"+str(self.company)\n",
    "    @staticmethod\n",
    "    def greet():\n",
    "        print(\"Good morning!\") #Static method-->It is a special type of method where we dont need to pass any self parameter\n",
    "    @staticmethod\n",
    "    def dateandtime():\n",
    "        x=datetime.datetime.now()\n",
    "        print(\"The current year is :\"+str(x.strftime(\"%Y\"))+\"\\nThe current day of the week is: \"+str(x.strftime(\"%A\"))+\"\\nThe local version of date and time is: \"+str(x.strftime(\"%c\"))+\"\\nThe current time is: \"+str(x.strftime(\"%X\")))\n",
    "Adarsha=Employee()\n",
    "Richard=Employee()\n",
    "Selena=Employee()\n",
    "Adarsha.name=\"Adarsha Chatterjee\"\n",
    "Richard.name=\"Richard Smith\"\n",
    "Selena.name=\"Selena Gomez\"\n",
    "Adarsha.salary=120000\n",
    "Richard.salary=100000\n",
    "Adarsha.company=\"Amazon\"#The instance attribute takes preference over class attributes during retreival anf assignment\n",
    "print(Adarsha.getEmployeeDetails())\n",
    "print(Selena.getEmployeeDetails())\n",
    "print(Richard.getEmployeeDetails())\n",
    "Adarsha.greet()\n",
    "print(Adarsha.greet())#This will print Good morning followed by None as the function does not return anything\n",
    "Adarsha.dateandtime()"
   ]
  },
  {
   "cell_type": "raw",
   "id": "49550235",
   "metadata": {},
   "source": [
    "5.Use of __init__() constructor method"
   ]
  },
  {
   "cell_type": "code",
   "execution_count": 35,
   "id": "508baee4",
   "metadata": {},
   "outputs": [
    {
     "name": "stdout",
     "output_type": "stream",
     "text": [
      "An object of class employee is constructed!\n",
      "An object of class employee is constructed!\n",
      "An object of class employee is constructed!\n",
      "The name of the employee is :Adarsha Chatterjee\n",
      "The salary of the employee is: 120000\n",
      "The company of the employee is:Amazon\n",
      "The name of the employee is :Selena Gomez\n",
      "The salary of the employee is: 50000\n",
      "The company of the employee is:Google\n",
      "The name of the employee is :Richard Smith\n",
      "The salary of the employee is: 100000\n",
      "The company of the employee is:Google\n"
     ]
    }
   ],
   "source": [
    "class Employee:\n",
    "    company=\"Google\"#This is an example of class attribute\n",
    "    salary=50000\n",
    "    def __init__(self):\n",
    "        print(\"An object of class employee is constructed!\") #Use of constructor\n",
    "    def getEmployeeDetails(self):\n",
    "        return \"The name of the employee is :\"+str(self.name)+\"\\nThe salary of the employee is: \"+str(self.salary)+\"\\nThe company of the employee is:\"+str(self.company)\n",
    "Adarsha=Employee()\n",
    "Richard=Employee()\n",
    "Selena=Employee()\n",
    "Adarsha.name=\"Adarsha Chatterjee\"\n",
    "Richard.name=\"Richard Smith\"\n",
    "Selena.name=\"Selena Gomez\"\n",
    "Adarsha.salary=120000\n",
    "Richard.salary=100000\n",
    "Adarsha.company=\"Amazon\"#The instance attribute takes preference over class attributes during retreival anf assignment\n",
    "print(Adarsha.getEmployeeDetails())\n",
    "print(Selena.getEmployeeDetails())\n",
    "print(Richard.getEmployeeDetails())"
   ]
  },
  {
   "cell_type": "raw",
   "id": "6fb537eb",
   "metadata": {},
   "source": [
    "6.Parameterized _init__() method/constructor"
   ]
  },
  {
   "cell_type": "code",
   "execution_count": 49,
   "id": "16c7fd9f",
   "metadata": {},
   "outputs": [
    {
     "name": "stdout",
     "output_type": "stream",
     "text": [
      "An object of class employee is constructed!\n",
      "The name of the employee is :Adarsha\n",
      "The salary of the employee is: 150000\n",
      "The company of the employee is: Amazon\n",
      "The businesss unit is: AWS\n",
      "An object of class employee is constructed!\n",
      "The name of the employee is :Richard\n",
      "The salary of the employee is: 100000\n",
      "The company of the employee is: Google\n",
      "The businesss unit is: Salesforce\n",
      "An object of class employee is constructed!\n",
      "The name of the employee is :Selena\n",
      "The salary of the employee is: 25000\n",
      "The company of the employee is: Oracle\n",
      "The businesss unit is: Testing and maintenance\n"
     ]
    }
   ],
   "source": [
    "class Employee:\n",
    "    company=\"Google\"#This is an example of class attribute\n",
    "    salary=50000\n",
    "    def __init__(self,name,salary,company,businessunit):\n",
    "        self.name=name\n",
    "        self.salary=salary\n",
    "        self.company=company\n",
    "        self.BU=businessunit\n",
    "        print(\"An object of class employee is constructed!\") #Use of constructor\n",
    "    def getEmployeeDetails(self):\n",
    "        return \"The name of the employee is :\"+str(self.name)+\"\\nThe salary of the employee is: \"+str(self.salary)+\"\\nThe company of the employee is: \"+str(self.company)+\"\\nThe businesss unit is: \"+str(self.BU)\n",
    "Adarsha=Employee(\"Adarsha\",150000,\"Amazon\",\"AWS\")\n",
    "print(Adarsha.getEmployeeDetails())\n",
    "Richard=Employee(\"Richard\",100000,Employee.company,\"Salesforce\")#IMPORTANT-->Using a class attribute as a parameter\n",
    "print(Richard.getEmployeeDetails())\n",
    "Selena=Employee(\"Selena\",25000,\"Oracle\",\"Testing and maintenance\")\n",
    "# Steve=Employee() *This line will throw an error as we will require 4 positional arguments\n",
    "print(Selena.getEmployeeDetails())\n",
    "# Richard=Employee()\n",
    "# Selena=Employee()"
   ]
  },
  {
   "cell_type": "raw",
   "id": "10c104c0",
   "metadata": {},
   "source": [
    "7.Define a class calculator and find the square,square root and cube of a number"
   ]
  },
  {
   "cell_type": "code",
   "execution_count": 58,
   "id": "ae957ea4",
   "metadata": {},
   "outputs": [
    {
     "name": "stdout",
     "output_type": "stream",
     "text": [
      "Enter any number of your choice::6\n",
      "The square of the number 6 is 36\n",
      "The square root of the number 6 is 2.449489742783178\n",
      "The cube root of the number 6 is 216\n",
      "This is the best calculator in the world!\n"
     ]
    }
   ],
   "source": [
    "class Calculator:\n",
    "    def __init__(self,num):\n",
    "        self.number=num\n",
    "    def square(self):\n",
    "        print(f\"The square of the number {self.number} is {self.number**2}\")\n",
    "    def squareroot(self):\n",
    "        print(f\"The square root of the number {self.number} is {self.number**0.5}\")\n",
    "    def cube(self):\n",
    "        print(f\"The cube root of the number {self.number} is {self.number**3}\")\n",
    "    @staticmethod\n",
    "    def greet():\n",
    "        print(\"This is the best calculator in the world!\")\n",
    "x=int(input(\"Enter any number of your choice::\"))\n",
    "CalObj=Calculator(x)\n",
    "CalObj.square()\n",
    "CalObj.squareroot()\n",
    "CalObj.cube()\n",
    "CalObj.greet()"
   ]
  },
  {
   "cell_type": "raw",
   "id": "9ba4190a",
   "metadata": {},
   "source": [
    "8.More insigts of class and instance attributes"
   ]
  },
  {
   "cell_type": "code",
   "execution_count": 57,
   "id": "ba072a4a",
   "metadata": {},
   "outputs": [
    {
     "name": "stdout",
     "output_type": "stream",
     "text": [
      "Vicky\n",
      "Adarsha\n",
      "Krishna\n"
     ]
    }
   ],
   "source": [
    "class Sample:\n",
    "    a=\"Adarsha\"\n",
    "obj=Sample()\n",
    "obj.a=\"Vicky\"\n",
    "print(obj.a)\n",
    "print(Sample.a)\n",
    "Sample.a=\"Krishna\"\n",
    "print(Sample.a)"
   ]
  },
  {
   "cell_type": "raw",
   "id": "23eb233b",
   "metadata": {},
   "source": [
    "9.Railway Reservation System:"
   ]
  },
  {
   "cell_type": "code",
   "execution_count": 84,
   "id": "cc82e340",
   "metadata": {},
   "outputs": [
    {
     "name": "stdout",
     "output_type": "stream",
     "text": [
      "*************************************************\n",
      "The name of the train is :Intercity Express(14015)\n",
      "The seats available in the train are 350\n",
      "*************************************************\n",
      "The price of the ticket is: Rs.90\n",
      "Your ticket has been booked! Your ticket number is 349\n",
      "Your ticket has been booked! Your ticket number is 348\n",
      "Your ticket has been booked! Your ticket number is 347\n",
      "*************************************************\n",
      "The name of the train is :Intercity Express(14015)\n",
      "The seats available in the train are 347\n",
      "*************************************************\n"
     ]
    }
   ],
   "source": [
    "class Train:\n",
    "    def __init__(self,name,fare,seats):\n",
    "        self.name=name\n",
    "        self.fare=fare\n",
    "        self.seats=seats\n",
    "        self.seatMap={}\n",
    "        for i in range(1,self.seats+1):\n",
    "            self.a={i:\"NotBooked\"}\n",
    "            self.seatMap.update(self.a)\n",
    "    def getStatus(self):\n",
    "        print(\"*************************************************\")\n",
    "        print(f\"The name of the train is :{self.name}\")\n",
    "        print(f\"The seats available in the train are {self.seats}\")\n",
    "        print(\"*************************************************\")\n",
    "    def fareInfo(self):\n",
    "        print(f\"The price of the ticket is: Rs.{self.fare}\")\n",
    "    def bookTicket(self):\n",
    "        if(self.seats>0):\n",
    "            self.seats=self.seats-1\n",
    "            print(f\"Your ticket has been booked! Your ticket number is {self.seats}\")\n",
    "        else:\n",
    "            print(\"Sorry this train is full! Kindly try in Tatkal.\")\n",
    "    def cancelTicket(self,seatNo):\n",
    "        x=input(\"Do you wish to cancel the ticket(Y/N):\")\n",
    "        if(x=='Y'):\n",
    "            self.seats=self.seats+1\n",
    "            self.c={seatNo:\"NotBooked\"}\n",
    "            self.seatMap.update(self.c)\n",
    "            print(f\"The seat number {seatNo} is now Unbooked!\")\n",
    "        else:\n",
    "            pass \n",
    "            \n",
    "Intercity=Train(\"Intercity Express(14015)\",90,350)\n",
    "Intercity.getStatus()\n",
    "Intercity.fareInfo()\n",
    "Intercity.bookTicket()\n",
    "Intercity.bookTicket()\n",
    "Intercity.bookTicket()\n",
    "Intercity.getStatus()"
   ]
  },
  {
   "cell_type": "raw",
   "id": "0372bf10",
   "metadata": {},
   "source": [
    "10.Can you change the self parameter inside a class to some other name:"
   ]
  },
  {
   "cell_type": "code",
   "execution_count": 75,
   "id": "40796343",
   "metadata": {},
   "outputs": [
    {
     "name": "stdout",
     "output_type": "stream",
     "text": [
      "Adarsha\n"
     ]
    }
   ],
   "source": [
    "class Sample:\n",
    "    a=\"Harry\"\n",
    "    def __init__(Deep,name):#Here also we are getting the same output after replacing self by Deep\n",
    "        Deep.name=name\n",
    "obj=Sample(\"Adarsha\")\n",
    "print(obj.name)"
   ]
  },
  {
   "cell_type": "raw",
   "id": "75037f58",
   "metadata": {},
   "source": [
    "11.Inheritance in OOPS Python"
   ]
  },
  {
   "cell_type": "code",
   "execution_count": 90,
   "id": "8097300f",
   "metadata": {},
   "outputs": [
    {
     "name": "stdout",
     "output_type": "stream",
     "text": [
      "This is an employee\n",
      "This is a programmer!\n",
      "The language is Python\n"
     ]
    }
   ],
   "source": [
    "#This is an example of single inheritance\n",
    "class Employee:\n",
    "    company=\"Google\"\n",
    "    def showDetails(self):\n",
    "        print(\"This is an employee\")\n",
    "class Programmer(Employee):\n",
    "    language=\"Python\"\n",
    "    def getLanguage(self):\n",
    "        print(f\"The language is {self.language}\")\n",
    "    def showDetails(self):\n",
    "        print(\"This is a programmer!\")#This is a method overriding\n",
    "e=Employee()\n",
    "e.showDetails()\n",
    "p=Programmer()\n",
    "p.showDetails()\n",
    "p.getLanguage()"
   ]
  },
  {
   "cell_type": "raw",
   "id": "0cdaee26",
   "metadata": {},
   "source": [
    "12.Multiple inheritance in python"
   ]
  },
  {
   "cell_type": "code",
   "execution_count": 2,
   "id": "5318dab6",
   "metadata": {},
   "outputs": [
    {
     "name": "stdout",
     "output_type": "stream",
     "text": [
      "2\n",
      "Google\n",
      "3\n"
     ]
    }
   ],
   "source": [
    "class Employee:\n",
    "    company=\"Google\"\n",
    "    eCode=120\n",
    "class Freelancer:\n",
    "    company=\"Amazon\"\n",
    "    level=2\n",
    "    def upgradeLevel(self):\n",
    "        self.level=self.level+1\n",
    "class Programmer(Employee,Freelancer):#Precedence will be first second\n",
    "    name=\"Adarsha\"\n",
    "p=Programmer()\n",
    "print(p.level)\n",
    "print(p.company)\n",
    "p.upgradeLevel()\n",
    "print(p.level)"
   ]
  },
  {
   "cell_type": "raw",
   "id": "d8237fff",
   "metadata": {},
   "source": [
    "13.Multi level inheritance"
   ]
  },
  {
   "cell_type": "code",
   "execution_count": 12,
   "id": "a754b626",
   "metadata": {},
   "outputs": [
    {
     "name": "stdout",
     "output_type": "stream",
     "text": [
      "Initializing Person\n",
      "Initializing Employee\n",
      "Initializing Employee\n",
      "I am breathing!\n",
      "I am breathing!\n",
      "I am an employee so I am luckily breathing.\n",
      "Salary is 150000\n",
      "No salary to programmers!\n",
      "Florida\n",
      "Russia\n"
     ]
    }
   ],
   "source": [
    "class Person:\n",
    "    country=\"India\"\n",
    "    def __init__(self):\n",
    "        print(\"Initializing Person\")\n",
    "    def takeBreak(self):\n",
    "        print(\"I am breathing!\")\n",
    "class Employee(Person):\n",
    "    company=\"Honda\"\n",
    "    country=\"Florida\"\n",
    "    def __init__(self):\n",
    "        super().__init__()#This will execute the function of same name defined in the super class __init__() constructor\n",
    "        print(\"Initializing Employee\")\n",
    "    def getSalary(self):\n",
    "        print(f\"Salary is {self.salary}\")\n",
    "    def takeBreak(self):\n",
    "        super().takeBreak();#This will execute the function of same name defined in the super class\n",
    "        print(\"I am an employee so I am luckily breathing.\")\n",
    "class Programmer(Employee):\n",
    "    company=\"Facebook\"\n",
    "    country=\"Russia\"\n",
    "    def getSalary(self):\n",
    "        print(\"No salary to programmers!\")\n",
    "p=Person()\n",
    "e=Employee()\n",
    "pr=Programmer()\n",
    "p.takeBreak()\n",
    "e.takeBreak()\n",
    "e.salary=150000\n",
    "e.getSalary()\n",
    "pr.getSalary()\n",
    "print(Employee.country)\n",
    "print(pr.country)"
   ]
  },
  {
   "cell_type": "raw",
   "id": "e9d2bb80",
   "metadata": {},
   "source": [
    "14.Part 1:Class methods in python:"
   ]
  },
  {
   "cell_type": "code",
   "execution_count": 30,
   "id": "cb06f208",
   "metadata": {},
   "outputs": [
    {
     "name": "stdout",
     "output_type": "stream",
     "text": [
      "150000\n",
      "45000\n",
      "45000\n"
     ]
    }
   ],
   "source": [
    "class Employee:\n",
    "    company=\"Google\"\n",
    "    salary=150000\n",
    "    location=\"Durgapur\"\n",
    "#     def changeSalary(self,salary):\n",
    "#         self.__class__.salary=salary #This will change the class attribute also along with instance atttribute\n",
    "    @classmethod\n",
    "    def changeSalary(self,salary):\n",
    "        self.salary=salary\n",
    "e=Employee()\n",
    "print(e.salary)\n",
    "e.changeSalary(45000)\n",
    "print(e.salary)\n",
    "print(Employee.salary)"
   ]
  },
  {
   "cell_type": "raw",
   "id": "b0073523",
   "metadata": {},
   "source": [
    "14.Part 2:If class methods are not used:"
   ]
  },
  {
   "cell_type": "code",
   "execution_count": 2,
   "id": "6dc2c68e",
   "metadata": {},
   "outputs": [
    {
     "name": "stdout",
     "output_type": "stream",
     "text": [
      "150000\n",
      "45000\n",
      "45000\n"
     ]
    }
   ],
   "source": [
    "class Employee:\n",
    "    company=\"Google\"\n",
    "    salary=150000\n",
    "    location=\"Durgapur\"\n",
    "    def changeSalary(self,salary):\n",
    "        self.__class__.salary=salary #This will change the class attribute also along with instance atttribute\n",
    "#     @classmethod\n",
    "#     def changeSalary(self,salary):\n",
    "#         self.salary=salary\n",
    "e=Employee()\n",
    "print(e.salary)\n",
    "e.changeSalary(45000)\n",
    "print(e.salary)\n",
    "print(Employee.salary)"
   ]
  },
  {
   "cell_type": "raw",
   "id": "c13f8b72",
   "metadata": {},
   "source": [
    "15.Property decorators in Python"
   ]
  },
  {
   "cell_type": "code",
   "execution_count": 31,
   "id": "fb2ef42a",
   "metadata": {},
   "outputs": [
    {
     "name": "stdout",
     "output_type": "stream",
     "text": [
      "54500\n",
      "Enter the new total salary:51000\n",
      "The new bonus is: 1000\n"
     ]
    }
   ],
   "source": [
    "class Employee:\n",
    "    company=\"Bharat Pertroleum Corporation Limited\"\n",
    "    salary=50000\n",
    "    bonus=4500\n",
    "    @property#The method with propery decorator acts as a getter method\n",
    "    def totalSalary(self):\n",
    "        return self.salary+self.bonus\n",
    "    @totalSalary.setter#The setter method\n",
    "    def totalSalary(self,val):\n",
    "        self.bonus=val-self.salary\n",
    "e=Employee()\n",
    "print(e.totalSalary)\n",
    "e.totalSalary=int(input(\"Enter the new total salary:\"))\n",
    "print(f\"The new bonus is: {e.bonus}\")"
   ]
  },
  {
   "cell_type": "raw",
   "id": "d718381d",
   "metadata": {},
   "source": [
    "16.Operator overloading in python"
   ]
  },
  {
   "cell_type": "code",
   "execution_count": 45,
   "id": "5bf73ab8",
   "metadata": {},
   "outputs": [
    {
     "name": "stdout",
     "output_type": "stream",
     "text": [
      "Enter the first number:23\n",
      "Enter the second number:3\n",
      "Lets add!\n",
      "Lets subtract\n",
      "300\n",
      "69\n",
      "20\n",
      "The number 23 is a decimal number!\n",
      "1\n"
     ]
    }
   ],
   "source": [
    "class Number:\n",
    "    def __init__(self,num):\n",
    "        self.num=num\n",
    "    def __add__(self,number):\n",
    "        print(\"Lets add!\")#Here we are changing the original defination of the operator.This is called as operator overloading\n",
    "        return 300\n",
    "    def __mul__(self,number):\n",
    "        return self.num*number.num #Here we are defining how to use the multiplication operator.\n",
    "    def __sub__(self,number):\n",
    "        print(\"Lets subtract\")\n",
    "        return self.num-number.num\n",
    "    def __str__(self):\n",
    "        return f\"The number {self.num} is a decimal number!\" #It is used to set what gets called upon calling the str(object)\n",
    "    def __len__(self):#To define the length of an object\n",
    "        return 1\n",
    "num1=int(input(\"Enter the first number:\"))\n",
    "n1=Number(num1)\n",
    "num2=int(input(\"Enter the second number:\"))\n",
    "n2=Number(num2)\n",
    "sum=n1+n2\n",
    "mul=n1*n2\n",
    "subtract=n1-n2\n",
    "print(sum)\n",
    "print(mul)\n",
    "print(subtract)\n",
    "print(n1)\n",
    "print(len(n1))"
   ]
  },
  {
   "cell_type": "raw",
   "id": "5087fdd7",
   "metadata": {},
   "source": [
    "17.Create a class 2D vector and use it to create another class 3D vector"
   ]
  },
  {
   "cell_type": "code",
   "execution_count": 52,
   "id": "373f3119",
   "metadata": {},
   "outputs": [
    {
     "name": "stdout",
     "output_type": "stream",
     "text": [
      "The 2D vector is given by:: 9i+2j\n",
      "The 3D vector is given by:: 4i+6j+9k\n"
     ]
    }
   ],
   "source": [
    "class C2DVec:\n",
    "    def __init__(self,i,j):\n",
    "        self.icap=i\n",
    "        self.jcap=j\n",
    "    def __str__(self):\n",
    "            return f\"The 2D vector is given by:: {self.icap}i+{self.jcap}j\"\n",
    "class C3DVec(C2DVec):\n",
    "    def __init__(self,i,j,k):\n",
    "#         self.icap=i\n",
    "#         self.jcap=j\n",
    "        super().__init__(i,j)\n",
    "        self.kcap=k\n",
    "    def __str__(self):\n",
    "            return f\"The 3D vector is given by:: {self.icap}i+{self.jcap}j+{self.kcap}k\"\n",
    "v2D=C2DVec(9,2)\n",
    "v3D=C3DVec(4,6,9)\n",
    "print(v2D)\n",
    "print(v3D)"
   ]
  },
  {
   "cell_type": "raw",
   "id": "3138d3aa",
   "metadata": {},
   "source": [
    "18.Create a class pets from a class Animals and further create class Dog from Pets.Add a method bark to class Dog"
   ]
  },
  {
   "cell_type": "code",
   "execution_count": 54,
   "id": "d075a133",
   "metadata": {},
   "outputs": [
    {
     "name": "stdout",
     "output_type": "stream",
     "text": [
      "Bow Bow\n"
     ]
    }
   ],
   "source": [
    "class Animals:\n",
    "    animalType=\"Mammal\"\n",
    "class Pets(Animals):\n",
    "    color=\"White\"\n",
    "class Dog(Pets):\n",
    "    @staticmethod\n",
    "    def bark():\n",
    "        print(\"Bow Bow!!\")\n",
    "d=Dog()\n",
    "d.bark()"
   ]
  },
  {
   "cell_type": "markdown",
   "id": "631220b8",
   "metadata": {},
   "source": [
    "### OOPS Programs :"
   ]
  },
  {
   "cell_type": "raw",
   "id": "2b5b02ca",
   "metadata": {},
   "source": [
    "1.Python program to find the area of rectangle using classes"
   ]
  },
  {
   "cell_type": "code",
   "execution_count": 2,
   "id": "e27a3bb5",
   "metadata": {},
   "outputs": [
    {
     "name": "stdout",
     "output_type": "stream",
     "text": [
      "Enter the length of the rectangle:: 6\n",
      "Enter the breadth of the rectangle:: 7\n",
      "The area of the rectangle is:: 42\n"
     ]
    }
   ],
   "source": [
    "class rectangle():\n",
    "    def __init__(self,breadth,length):\n",
    "        self.bre=breadth\n",
    "        self.len=length\n",
    "    def area(self):\n",
    "        return self.len*self.bre\n",
    "a=int(input(\"Enter the length of the rectangle:: \"))\n",
    "b=int(input(\"Enter the breadth of the rectangle:: \"))\n",
    "obj=rectangle(a,b)\n",
    "print(f\"The area of the rectangle is:: {obj.area()}\")"
   ]
  },
  {
   "cell_type": "raw",
   "id": "670ddb76",
   "metadata": {},
   "source": [
    "2.Program to append,delete and display the elements of a list using classes"
   ]
  },
  {
   "cell_type": "code",
   "execution_count": 5,
   "id": "2709a52c",
   "metadata": {},
   "outputs": [
    {
     "name": "stdout",
     "output_type": "stream",
     "text": [
      "0. Exit\n",
      "1. Add\n",
      "2. Delete\n",
      "3. Display\n",
      "Enter the choice: 1\n",
      "Enter a number to append: 23\n",
      "List:  [23]\n",
      "0. Exit\n",
      "1. Add\n",
      "2. Delete\n",
      "3. Display\n",
      "Enter the choice: 1\n",
      "Enter a number to append: 56\n",
      "List:  [23, 56]\n",
      "0. Exit\n",
      "1. Add\n",
      "2. Delete\n",
      "3. Display\n",
      "Enter the choice: 1\n",
      "Enter a number to append: 98\n",
      "List:  [23, 56, 98]\n",
      "0. Exit\n",
      "1. Add\n",
      "2. Delete\n",
      "3. Display\n",
      "Enter the choice: 1\n",
      "Enter a number to append: -54\n",
      "List:  [23, 56, 98, -54]\n",
      "0. Exit\n",
      "1. Add\n",
      "2. Delete\n",
      "3. Display\n",
      "Enter the choice: 2\n",
      "Enter a number to remove: 56\n",
      "List:  [23, 98, -54]\n",
      "0. Exit\n",
      "1. Add\n",
      "2. Delete\n",
      "3. Display\n",
      "Enter the choice: 3\n",
      "List:  [23, 98, -54]\n",
      "0. Exit\n",
      "1. Add\n",
      "2. Delete\n",
      "3. Display\n",
      "Enter the choice: 1\n",
      "Enter a number to append: 44\n",
      "List:  [23, 98, -54, 44]\n",
      "0. Exit\n",
      "1. Add\n",
      "2. Delete\n",
      "3. Display\n",
      "Enter the choice: 1\n",
      "Enter a number to append: 72\n",
      "List:  [23, 98, -54, 44, 72]\n",
      "0. Exit\n",
      "1. Add\n",
      "2. Delete\n",
      "3. Display\n",
      "Enter the choice: 2\n",
      "Enter a number to remove: 44\n",
      "List:  [23, 98, -54, 72]\n",
      "0. Exit\n",
      "1. Add\n",
      "2. Delete\n",
      "3. Display\n",
      "Enter the choice: 3\n",
      "List:  [23, 98, -54, 72]\n",
      "0. Exit\n",
      "1. Add\n",
      "2. Delete\n",
      "3. Display\n",
      "Enter the choice: 0\n",
      "Exiting!\n",
      "\n"
     ]
    }
   ],
   "source": [
    "class check():\n",
    "    def __init__(self):\n",
    "        self.l=[]\n",
    "    def add(self,a):\n",
    "        self.l.append(a)\n",
    "    def remove(self,b):\n",
    "        self.l.remove(b)\n",
    "    def dis(self):\n",
    "        return self.l\n",
    "obj=check()\n",
    "choice=1\n",
    "while choice!=0:\n",
    "    print(\"0. Exit\")\n",
    "    print(\"1. Add\")\n",
    "    print(\"2. Delete\")\n",
    "    print(\"3. Display\")\n",
    "    choice=int(input(\"Enter the choice: \"))\n",
    "    if choice==1:\n",
    "        n=int(input(\"Enter a number to append: \"))\n",
    "        obj.add(n)\n",
    "        print(\"List: \",obj.dis())\n",
    "    elif choice==2:\n",
    "        n=int(input(\"Enter a number to remove: \"))\n",
    "        obj.remove(n)\n",
    "        print(\"List: \",obj.dis())\n",
    "    elif choice==3:\n",
    "        print(\"List: \",obj.dis())\n",
    "    elif choice==0:\n",
    "        print(\"Exiting!\")\n",
    "    else:\n",
    "        print(\"Invalid Choice!\")\n",
    "print()"
   ]
  },
  {
   "cell_type": "raw",
   "id": "c24099a0",
   "metadata": {},
   "source": [
    "3.Python program to create a class and compute the area and the perimeter of the circle"
   ]
  },
  {
   "cell_type": "code",
   "execution_count": 8,
   "id": "8de28e3c",
   "metadata": {},
   "outputs": [
    {
     "name": "stdout",
     "output_type": "stream",
     "text": [
      "Enter the radius of the circle:4\n",
      "The radius of the circle is : 4\n",
      "The perimeter of the circle is: 25.12\n",
      "The area of the circle is: 50.24\n"
     ]
    }
   ],
   "source": [
    "class Circle():\n",
    "    def __init__(self,r):\n",
    "        self.radius=r\n",
    "    def area(self):\n",
    "        return 3.14*self.radius*self.radius\n",
    "    def perimeter(self):\n",
    "        return 3.14*2*self.radius\n",
    "r=int(input(\"Enter the radius of the circle:\"))\n",
    "c=Circle(r)\n",
    "print(\"The radius of the circle is :\",c.radius)\n",
    "print(\"The perimeter of the circle is:\",c.perimeter())\n",
    "print(\"The area of the circle is:\",c.area())"
   ]
  },
  {
   "cell_type": "raw",
   "id": "50003a11",
   "metadata": {},
   "source": [
    "4.Program to create a class which performs basic calculator operations"
   ]
  },
  {
   "cell_type": "code",
   "execution_count": 9,
   "id": "941b567d",
   "metadata": {},
   "outputs": [
    {
     "name": "stdout",
     "output_type": "stream",
     "text": [
      "Enter the first number:5\n",
      "Enter the second number:9\n",
      "0:Exit\n",
      "1:Add\n",
      "2.Subtraction\n",
      "3.Multiplication\n",
      "4.Division\n",
      "Enter a choice:1\n",
      "Result:  14\n",
      "0:Exit\n",
      "1:Add\n",
      "2.Subtraction\n",
      "3.Multiplication\n",
      "4.Division\n",
      "Enter a choice:2\n",
      "Result:  -4\n",
      "0:Exit\n",
      "1:Add\n",
      "2.Subtraction\n",
      "3.Multiplication\n",
      "4.Division\n",
      "Enter a choice:3\n",
      "Result:  45\n",
      "0:Exit\n",
      "1:Add\n",
      "2.Subtraction\n",
      "3.Multiplication\n",
      "4.Division\n",
      "Enter a choice:4\n",
      "Result:  0.5555555555555556\n",
      "0:Exit\n",
      "1:Add\n",
      "2.Subtraction\n",
      "3.Multiplication\n",
      "4.Division\n",
      "Enter a choice:0\n",
      "Exiting!\n",
      "\n"
     ]
    }
   ],
   "source": [
    "class Calculator():\n",
    "    def __init__(self,a,b):\n",
    "        self.a=a\n",
    "        self.b=b\n",
    "    def add(self):\n",
    "        return self.a+self.b\n",
    "    def subtract(self):\n",
    "        return self.a-self.b\n",
    "    def multiply(self):\n",
    "        return self.a*self.b\n",
    "    def divide(self):\n",
    "        return self.a/self.b\n",
    "a=int(input(\"Enter the first number:\"))\n",
    "b=int(input(\"Enter the second number:\"))\n",
    "obj=Calculator(a,b)\n",
    "choice=1\n",
    "while(choice!=0):\n",
    "    print(\"0:Exit\")\n",
    "    print(\"1:Add\")\n",
    "    print(\"2.Subtraction\")\n",
    "    print(\"3.Multiplication\")\n",
    "    print(\"4.Division\")\n",
    "    choice=int(input(\"Enter a choice:\"))\n",
    "    if choice==1:\n",
    "        print(\"Result: \",obj.add())\n",
    "    elif choice==2:\n",
    "        print(\"Result: \",obj.subtract())\n",
    "    elif choice==3:\n",
    "        print(\"Result: \",obj.multiply())\n",
    "    elif choice==4:\n",
    "        print(\"Result: \",obj.divide())\n",
    "    elif choice==0:\n",
    "        print(\"Exiting!\")\n",
    "    else:\n",
    "        print(\"Invalid Choice!\")\n",
    "print()"
   ]
  },
  {
   "cell_type": "raw",
   "id": "d5d43c68",
   "metadata": {},
   "source": [
    "5.Python program to create a class in which one method accepts a string from the user and another prints it"
   ]
  },
  {
   "cell_type": "code",
   "execution_count": 11,
   "id": "a0a89283",
   "metadata": {},
   "outputs": [
    {
     "name": "stdout",
     "output_type": "stream",
     "text": [
      "Enter a string:Adarsha\n",
      "String is: Adarsha\n"
     ]
    }
   ],
   "source": [
    "class print1():\n",
    "#     def __init__(self):\n",
    "#         self.string=\"\"\n",
    "    def get(self):\n",
    "        self.string=input(\"Enter a string:\")\n",
    "    def put(self):\n",
    "        print(\"String is:\",self.string)\n",
    "obj=print1()\n",
    "obj.get()\n",
    "obj.put()"
   ]
  },
  {
   "cell_type": "raw",
   "id": "0071ef7d",
   "metadata": {},
   "source": [
    "6.Write a python program to create a class and get all possible subclasses from a set of distinct integers"
   ]
  },
  {
   "cell_type": "code",
   "execution_count": 2,
   "id": "52dfec29",
   "metadata": {},
   "outputs": [
    {
     "name": "stdout",
     "output_type": "stream",
     "text": [
      "Enter the number of elements present in the list:2\n",
      "Enter the element:67\n",
      "Enter the element:87\n",
      "Subsets: \n",
      "[[], [87], [67], [67, 87]]\n"
     ]
    }
   ],
   "source": [
    "###DOUBT\n",
    "class sub():\n",
    "    def f1(self,s1):\n",
    "        return self.f2([],sorted(s1))\n",
    "    def f2(self,curr,s1):\n",
    "        if s1:\n",
    "            return self.f2(curr,s1[1:])+self.f2(curr+[s1[0]],s1[1:])\n",
    "        return [curr]\n",
    "a=[]\n",
    "n=int(input(\"Enter the number of elements present in the list:\"))\n",
    "for i in range(0,n):\n",
    "    b=int(input(\"Enter the element:\"))\n",
    "    a.append(b)\n",
    "print(\"Subsets: \")\n",
    "print(sub().f1(a))"
   ]
  },
  {
   "cell_type": "raw",
   "id": "2a299c1e",
   "metadata": {},
   "source": [
    "7.Write a python program to convert an integer to roman numeral using classes"
   ]
  },
  {
   "cell_type": "code",
   "execution_count": 6,
   "id": "b36f4244",
   "metadata": {},
   "outputs": [
    {
     "name": "stdout",
     "output_type": "stream",
     "text": [
      "I\n",
      "MMMM\n"
     ]
    }
   ],
   "source": [
    "####DOUBT\n",
    "class py_solution():\n",
    "    def int_to_roman(self,num):\n",
    "        val=[1000,900,500,400,100,90,50,40,10,9,5,4,1]\n",
    "        syb=[\"M\",\"CM\",\"D\",\"CD\",\"C\",\"XC\",\"L\",\"XL\",\"X\",\"IX\",\"V\",\"IV\",\"I\"]\n",
    "        roman_num=\"\"\n",
    "        i=0\n",
    "        while num>0:\n",
    "            for _ in range(num//val[i]):\n",
    "                roman_num+=syb[i]\n",
    "                num-=val[i]\n",
    "            i+=1\n",
    "        return roman_num\n",
    "print(py_solution().int_to_roman(1))\n",
    "print(py_solution().int_to_roman(4000))"
   ]
  },
  {
   "cell_type": "raw",
   "id": "19f93ce0",
   "metadata": {},
   "source": [
    "8.Write a python program to get the class name of an instance in Python"
   ]
  },
  {
   "cell_type": "code",
   "execution_count": 7,
   "id": "e2f7e15a",
   "metadata": {},
   "outputs": [
    {
     "name": "stdout",
     "output_type": "stream",
     "text": [
      "cycle\n"
     ]
    }
   ],
   "source": [
    "import itertools\n",
    "x=itertools.cycle('ABCD')\n",
    "print(type(x).__name__)"
   ]
  },
  {
   "cell_type": "raw",
   "id": "318390fe",
   "metadata": {},
   "source": [
    "9.Write a program to reverse a string word by word with the help of classes"
   ]
  },
  {
   "cell_type": "code",
   "execution_count": 4,
   "id": "f1287b1d",
   "metadata": {},
   "outputs": [
    {
     "name": "stdout",
     "output_type": "stream",
     "text": [
      ".py hello\n"
     ]
    }
   ],
   "source": [
    "class py_solution:\n",
    "    def reverse_words(self,s):\n",
    "        return ' '.join(reversed(s.split()))\n",
    "print(py_solution().reverse_words('hello .py'))"
   ]
  },
  {
   "cell_type": "raw",
   "id": "830a117e",
   "metadata": {},
   "source": [
    "10.Write a program to create python class which has two methods get_string and print_string where get_string accepts string from the user and print_string print the string in upper case"
   ]
  },
  {
   "cell_type": "code",
   "execution_count": 16,
   "id": "38f15593",
   "metadata": {},
   "outputs": [
    {
     "name": "stdout",
     "output_type": "stream",
     "text": [
      "Enter the string:Adarsha Chatterjee\n",
      "ADARSHA CHATTERJEE\n"
     ]
    }
   ],
   "source": [
    "class IOString():\n",
    "    def __init__(self):\n",
    "        self.str1=\"\"\n",
    "    def get_string(self):\n",
    "        self.str1=input(\"Enter the string:\")\n",
    "    def print_string(self):\n",
    "        print(self.str1.upper())\n",
    "string_operations=IOString()\n",
    "string_operations.get_string()\n",
    "string_operations.print_string()"
   ]
  },
  {
   "cell_type": "raw",
   "id": "ac8e3b5e",
   "metadata": {},
   "source": [
    "11.Write a python program to implement pow(x,n) using classes(Method 1)"
   ]
  },
  {
   "cell_type": "code",
   "execution_count": 37,
   "id": "530f1378",
   "metadata": {},
   "outputs": [
    {
     "name": "stdout",
     "output_type": "stream",
     "text": [
      "0.125\n"
     ]
    }
   ],
   "source": [
    "class py_solution:\n",
    "    def power(self,x,n):\n",
    "        return x**n\n",
    "print(py_solution().power(2,-3))"
   ]
  },
  {
   "cell_type": "raw",
   "id": "774a3f7f",
   "metadata": {},
   "source": [
    "12.Write a program to implement pow(x,n) using classes(Method 2)"
   ]
  },
  {
   "cell_type": "code",
   "execution_count": 6,
   "id": "7a400741",
   "metadata": {
    "scrolled": true
   },
   "outputs": [
    {
     "name": "stdout",
     "output_type": "stream",
     "text": [
      "0.125\n"
     ]
    }
   ],
   "source": [
    "class py_solution:\n",
    "    def pow(self,x,n):\n",
    "        if(x==0 or x==1 or n==1):\n",
    "            return x\n",
    "        if(x==-1):\n",
    "            if(n%2==0):\n",
    "                return 1\n",
    "            else:\n",
    "                return -1\n",
    "        if(n==0):\n",
    "            return 1\n",
    "        if(n<0):\n",
    "            return 1/self.pow(x,-n)\n",
    "        val=self.pow(x,n//2)\n",
    "        if(n%2==0):\n",
    "            return val*val\n",
    "        return val*val*x\n",
    "print(py_solution().pow(2,-3))"
   ]
  },
  {
   "cell_type": "raw",
   "id": "19dbf8cd",
   "metadata": {},
   "source": [
    "13.Write a python program to convert a roman numeral to integer"
   ]
  },
  {
   "cell_type": "code",
   "execution_count": 7,
   "id": "0663ca90",
   "metadata": {},
   "outputs": [
    {
     "name": "stdout",
     "output_type": "stream",
     "text": [
      "3986\n"
     ]
    }
   ],
   "source": [
    "class py_solution:\n",
    "    def roman_to_int(self,s):\n",
    "        roman_val={'I':1,'V':5,'X':10,'L':50,'C':100,'D':500,'M':1000}\n",
    "        int_val=0\n",
    "        for i in range(len(s)):\n",
    "            if(i>0 and roman_val[s[i]]>roman_val[s[i-1]]):\n",
    "                int_val+=roman_val[s[i]]-2*roman_val[s[i-1]]\n",
    "            else:\n",
    "                int_val+=roman_val[s[i]]\n",
    "        return int_val\n",
    "print(py_solution().roman_to_int('MMMCMLXXXVI'))\n",
    "print(py_solution().roman_to_int('MMMM'))\n",
    "print(py_solution().roman_to_int('C'))"
   ]
  },
  {
   "cell_type": "markdown",
   "id": "a85b8577",
   "metadata": {},
   "source": [
    "### OOPS Python Important Coding Questions:"
   ]
  },
  {
   "cell_type": "raw",
   "id": "ae77d501",
   "metadata": {},
   "source": [
    "1.Python Code 1: Traveler-TravelAgency Class"
   ]
  },
  {
   "cell_type": "code",
   "execution_count": 1,
   "id": "796bf5ef",
   "metadata": {},
   "outputs": [
    {
     "name": "stdout",
     "output_type": "stream",
     "text": [
      "5\n",
      "Sachin\n",
      "4\n",
      "Japan\n",
      "Brazil\n",
      "China\n",
      "Nepal\n",
      "40\n",
      "India\n",
      "Kamini\n",
      "4\n",
      "Denmark\n",
      "Australia\n",
      "Indonesia\n",
      "Ghana\n",
      "37\n",
      "Nepal\n",
      "Saurav\n",
      "6\n",
      "Brazil\n",
      "Bhutan\n",
      "Afghanistan\n",
      "UK\n",
      "Nepal\n",
      "New Zealand\n",
      "32\n",
      "Bangladesh\n",
      "Ricky\n",
      "3\n",
      "Australia\n",
      "Europe\n",
      "Germany\n",
      "42\n",
      "UK\n",
      "Dravid\n",
      "2\n",
      "India\n",
      "Bhutan\n",
      "39\n",
      "Pakistan\n",
      "Australia\n",
      "2\n",
      "Saurav\n"
     ]
    }
   ],
   "source": [
    "class Traveler:\n",
    "    def __init__(self,travelerName,traveledCountry,travelerAge,countryFrom):\n",
    "        self.travelerName=travelerName\n",
    "        self.traveledCountry=traveledCountry\n",
    "        self.travelerAge=travelerAge\n",
    "        self.countryFrom=countryFrom\n",
    "class TravelAgency:\n",
    "    def __init__(self,pass_list):\n",
    "        self.travelerList=pass_list\n",
    "    def countTravelersTraveledCountry(self,country):\n",
    "        count=0\n",
    "        for i in self.travelerList:\n",
    "            for j in i.traveledCountry:\n",
    "                if(j==country):\n",
    "                    count+=1\n",
    "        return count\n",
    "    def getTravelerTraveledMaxCountry(self):\n",
    "        name=\"\"\n",
    "        max=0\n",
    "        for i in self.travelerList:\n",
    "            if(len(i.traveledCountry)>max):\n",
    "                max=len(i.traveledCountry)\n",
    "                name=i.travelerName\n",
    "        return name\n",
    "#Before executing code, Python interpreter reads source file and define few special variables/global variables. \n",
    "#If the python interpreter is running that module (the source file) as the main program, it sets the special\n",
    "#__name__ variable to have a value “__main__”. If this file is being imported from another module, __name__ will be set\n",
    "#to the module’s name. Module’s name is available as value to __name__ global variable. \n",
    "if __name__==\"__main__\":\n",
    "    n=int(input())\n",
    "    pass_list=[]\n",
    "    for i in range(n):\n",
    "        traveledCountry=[]\n",
    "        travelerName=input()\n",
    "        traveledCountryCount=int(input())\n",
    "        for j in range(traveledCountryCount):\n",
    "            traveledCountry.append(input())\n",
    "        travelerAge=int(input())\n",
    "        countryFrom=input()\n",
    "        pass_list.append(Traveler(travelerName,traveledCountry,travelerAge,countryFrom))\n",
    "    o1=TravelAgency(pass_list)\n",
    "    nameOfCountry=input()\n",
    "    print(o1.countTravelersTraveledCountry(nameOfCountry))\n",
    "    print(o1.getTravelerTraveledMaxCountry())"
   ]
  },
  {
   "cell_type": "raw",
   "id": "f359f215",
   "metadata": {},
   "source": [
    "2.Python code 2: Player-Teams Class"
   ]
  },
  {
   "cell_type": "code",
   "execution_count": 7,
   "id": "856e512f",
   "metadata": {},
   "outputs": [
    {
     "name": "stdout",
     "output_type": "stream",
     "text": [
      "5\n",
      "Sachin\n",
      "India\n",
      "40\n",
      "350\n",
      "15000\n",
      "120\n",
      "Klusnar\n",
      "South Africa\n",
      "37\n",
      "270\n",
      "3000\n",
      "250\n",
      "Dhoni\n",
      "India\n",
      "38\n",
      "345\n",
      "12000\n",
      "0\n",
      "Ricky Ponting\n",
      "Australia\n",
      "42\n",
      "290\n",
      "11000\n",
      "3\n",
      "Dravid\n",
      "India\n",
      "39\n",
      "320\n",
      "11200\n",
      "12\n",
      "Klusnar\n",
      "3000\n",
      "South Africa\n",
      "Klusnar\n",
      "250\n",
      "South Africa\n"
     ]
    }
   ],
   "source": [
    "class Player:\n",
    "    def __init__(self,playerName,playerCountry,playerAge,noOfMatches,noOfRuns,noOfWickets):\n",
    "        self.playerName=playerName\n",
    "        self.playerCountry=playerCountry\n",
    "        self.playerAge=playerAge\n",
    "        self.noOfMatches=noOfMatches\n",
    "        self.noOfRuns=noOfRuns\n",
    "        self.noOfWickets=noOfWickets\n",
    "class Teams:\n",
    "    def __init__(self,playerList):\n",
    "        self.playerList=playerList\n",
    "    def getMinRuns(self):\n",
    "        minimumRun=self.playerList[0].noOfRuns\n",
    "        for i in self.playerList:\n",
    "            if(i.noOfRuns<minimumRun):\n",
    "                minimumRun=i.noOfRuns\n",
    "            else:\n",
    "                pass\n",
    "        result=[]\n",
    "        for i in self.playerList:\n",
    "            if(i.noOfRuns==minimumRun):\n",
    "                result.append(i.playerName)\n",
    "                result.append(minimumRun)\n",
    "                result.append(i.playerCountry)\n",
    "                break\n",
    "            else:\n",
    "                pass\n",
    "        return result\n",
    "    def getMaxWickets(self):\n",
    "        maximumWickets=self.playerList[0].noOfWickets\n",
    "        for i in self.playerList:\n",
    "            if(i.noOfWickets>maximumWickets):\n",
    "                maximumWickets=i.noOfWickets\n",
    "            else:\n",
    "                pass\n",
    "        a=[]\n",
    "        for i in self.playerList:\n",
    "            if(i.noOfWickets==maximumWickets):\n",
    "                a.append(i.playerName)\n",
    "                a.append(maximumWickets)\n",
    "                a.append(i.playerCountry)\n",
    "                break\n",
    "            else:\n",
    "                pass\n",
    "        return a\n",
    "if __name__==\"__main__\":\n",
    "    n=int(input())\n",
    "    playerList=[]\n",
    "    for i in range(n):\n",
    "        playerName=input()\n",
    "        playerCountry=input()\n",
    "        playerAge=int(input())\n",
    "        noOfMatches=int(input())\n",
    "        noOfRuns=int(input())\n",
    "        noOfWickets=int(input())\n",
    "        playerList.append(Player(playerName,playerCountry,playerAge,noOfMatches,noOfRuns,noOfWickets))\n",
    "    o1=Teams(playerList)\n",
    "    result1=o1.getMinRuns()\n",
    "    result2=o1.getMaxWickets()\n",
    "    print(str(result1[0])+\"\\n\"+str(result1[1])+\"\\n\"+str(result1[2]))\n",
    "    print(str(result2[0])+\"\\n\"+str(result2[1])+\"\\n\"+str(result2[2]))"
   ]
  },
  {
   "cell_type": "raw",
   "id": "912937dc",
   "metadata": {},
   "source": [
    "3.Python code 3: Medicine-getPriceByDisease Class"
   ]
  },
  {
   "cell_type": "code",
   "execution_count": 8,
   "id": "bc985f35",
   "metadata": {},
   "outputs": [
    {
     "name": "stdout",
     "output_type": "stream",
     "text": [
      "4\n",
      "dolo650\n",
      "FAC124W\n",
      "fever\n",
      "100\n",
      "paracetamol\n",
      "PAC545B\n",
      "bodypain\n",
      "150\n",
      "almox\n",
      "ALM756S\n",
      "fever\n",
      "200\n",
      "Aspirin\n",
      "ASP764Q\n",
      "flu\n",
      "250\n",
      "fever\n",
      "100\n",
      "200\n"
     ]
    }
   ],
   "source": [
    "class Medicine:\n",
    "    def __init__(self,medicineName,batch,disease,price):\n",
    "        self.medicineName=medicineName\n",
    "        self.batch=batch\n",
    "        self.disease=disease\n",
    "        self.price=price\n",
    "class Solution:\n",
    "    def __init__(self,medicineList):\n",
    "        self.medicineList=medicineList\n",
    "    def getPriceByDisease(self,diseaseStr):\n",
    "        self.diseaseStr=diseaseStr\n",
    "        a=[]\n",
    "        for i in self.medicineList:\n",
    "            if(i.disease==self.diseaseStr):\n",
    "                a.append(i.price)\n",
    "            else:\n",
    "                pass\n",
    "        return a\n",
    "if __name__==\"__main__\":\n",
    "    n=int(input())\n",
    "    medicineList=[]\n",
    "    for i in range(n):\n",
    "        medicineName=input()\n",
    "        batch=input()\n",
    "        disease=input()\n",
    "        price=int(input())\n",
    "        medicineList.append(Medicine(medicineName,batch,disease,price))\n",
    "    obj=Solution(medicineList)\n",
    "    diseaseStr=input()\n",
    "    result=obj.getPriceByDisease(diseaseStr)\n",
    "    for i in result:\n",
    "        print(i)"
   ]
  },
  {
   "cell_type": "raw",
   "id": "6d406ec5",
   "metadata": {},
   "source": [
    "4.Python code 4:CricketPlayer-Solution Class"
   ]
  },
  {
   "cell_type": "code",
   "execution_count": 5,
   "id": "8f61e192",
   "metadata": {},
   "outputs": [
    {
     "name": "stdout",
     "output_type": "stream",
     "text": [
      "Enter the number of players:3\n",
      "Enter the name of the player:Virat Kohli\n",
      "Enter the count of the countries the player has played against:4\n",
      "Enter the name of the country:Australia\n",
      "Enter the name of the country:New Zealand\n",
      "Enter the name of the country:Pakistan\n",
      "Enter the name of the country:Sri Lanka\n",
      "Enter the age of the player:38\n",
      "Enter the country the player is from:India\n",
      "Enter the name of the player:Mahendra Singh Dhoni\n",
      "Enter the count of the countries the player has played against:3\n",
      "Enter the name of the country:Sri Lanka\n",
      "Enter the name of the country:Pakistan\n",
      "Enter the name of the country:West Indies\n",
      "Enter the age of the player:44\n",
      "Enter the country the player is from:India\n",
      "Enter the name of the player:Sachin Tendulkar\n",
      "Enter the count of the countries the player has played against:5\n",
      "Enter the name of the country:Sri Lanka\n",
      "Enter the name of the country:Australia\n",
      "Enter the name of the country:New Zealand\n",
      "Enter the name of the country:Pakistan\n",
      "Enter the name of the country:Bangladesh\n",
      "Enter the age of the player:48\n",
      "Enter the country the player is from:India\n",
      "Enter the name of the country:India\n",
      "3\n",
      "Sachin Tendulkar\n"
     ]
    }
   ],
   "source": [
    "class CricketPlayer:\n",
    "    def __init__(self,cplayerName,cplayedCountry,cplayerAge,cpCountryFrom):\n",
    "        self.cplayerName=cplayerName\n",
    "        self.cplayedCountry=cplayedCountry\n",
    "        self.cplayerAge=cplayerAge\n",
    "        self.cpCountryFrom=cpCountryFrom\n",
    "class Solution:\n",
    "    def __init__(self,player_list):\n",
    "        self.cplayer_list=player_list\n",
    "    def countPlayers(self,country):\n",
    "        count=0\n",
    "        for i in self.cplayer_list:\n",
    "            if(i.cpCountryFrom==country):\n",
    "                count+=1\n",
    "            else:\n",
    "                pass\n",
    "        return count\n",
    "    def getPlayerPlayedForMaxCountry(self):\n",
    "        max_count=len(self.cplayer_list[0].cplayedCountry)\n",
    "        for i in self.cplayer_list:\n",
    "            if(len(i.cplayedCountry)>max_count):\n",
    "                max_count=len(i.cplayedCountry)\n",
    "            else:\n",
    "                pass\n",
    "        for i in self.cplayer_list:\n",
    "            if(len(i.cplayedCountry)==max_count):\n",
    "                return i.cplayerName\n",
    "            else:\n",
    "                pass\n",
    "if __name__==\"__main__\":\n",
    "    n=int(input(\"Enter the number of players:\"))\n",
    "    player_list=[]\n",
    "    for i in range(n):\n",
    "        cplayerName=input(\"Enter the name of the player:\")\n",
    "        country_count=int(input(\"Enter the count of the countries the player has played against:\"))\n",
    "        cplayedCountry=[]\n",
    "        for j in range(country_count):\n",
    "            country_name=input(\"Enter the name of the country:\")\n",
    "            cplayedCountry.append(country_name)\n",
    "        cplayerAge=int(input(\"Enter the age of the player:\"))\n",
    "        cpCountryFrom=input(\"Enter the country the player is from:\")\n",
    "        player_list.append(CricketPlayer(cplayerName,cplayedCountry,cplayerAge,cpCountryFrom))\n",
    "    country=input(\"Enter the name of the country:\")\n",
    "    obj=Solution(player_list)\n",
    "    player_of_country=obj.countPlayers(country)\n",
    "    max_name=obj.getPlayerPlayedForMaxCountry()\n",
    "    print(player_of_country)\n",
    "    print(max_name)"
   ]
  },
  {
   "cell_type": "raw",
   "id": "7246070c",
   "metadata": {},
   "source": [
    "5.Python Code 5: Student Class"
   ]
  },
  {
   "cell_type": "code",
   "execution_count": null,
   "id": "266d5eb3",
   "metadata": {},
   "outputs": [],
   "source": [
    "class Student:\n",
    "    def __init__(self,name,sub1,sub2,sub3):\n",
    "        self.name=name\n",
    "        self.sub1=sub1\n",
    "        self.sub2=sub2\n",
    "        self.sub3=sub3\n",
    "    def calculateResult(self):\n",
    "        average=0\n",
    "        if(self.sub1>40 and self.sub2>40 and self.sub3>40):\n",
    "            average=(self.sub1+self.sub2+self.sub3)/3\n",
    "        else:\n",
    "            pass\n",
    "        return average\n",
    "class School:\n",
    "    def __init__(self,sch_name,studentDict):\n",
    "        self.sch_name=sch_name\n",
    "        self.studentDict=studentDict\n",
    "    def getStudentResult(self):\n",
    "        passed_student=[]\n",
    "        for i in self.studentDict:\n",
    "            avg=i.CalculateResult()\n",
    "            if avg>60:\n",
    "                self.studentDict[i]=\"Pass\"\n",
    "                passed_student.append(i.name)\n",
    "            else:\n",
    "                self.studentDict[i]=\"Fail\"\n",
    "        return passed_student\n",
    "    def findStudentWithHighestMarks(self):\n",
    "        maximum=0\n",
    "        for i in self.studentDict:\n",
    "            avg=i.CalculateResult()\n",
    "            if(avg>maximum):\n",
    "                maximum=avg\n",
    "                topper=i.name\n",
    "            else:\n",
    "                pass\n",
    "        return topper\n",
    "if __name__==\"__main__\":\n",
    "    count=int(input())\n",
    "    studentDict={}\n",
    "    for i in range(count):\n",
    "        name=input()\n",
    "        sub1=float(input())\n",
    "        sub2=float(input())\n",
    "        sub3=float(input())\n",
    "        studentDict[Student(name,sub1,sub2,sub3)]=\"Fail\"\n",
    "    sch_name=input()\n",
    "    obj=School(sch_name,studentDict)\n",
    "    p=obj.getStudentResult()\n",
    "    if(p):\n",
    "        for j in p:\n",
    "            print(j)\n",
    "        print(obj.findStudentWithHigestMarks())\n",
    "    else:\n",
    "        print(\"No Student Passed\")"
   ]
  },
  {
   "cell_type": "raw",
   "id": "9d4a4736",
   "metadata": {},
   "source": [
    "5.Explanation of concept involved in the previous code"
   ]
  },
  {
   "cell_type": "code",
   "execution_count": 2,
   "id": "9bc7bf86",
   "metadata": {},
   "outputs": [
    {
     "name": "stdout",
     "output_type": "stream",
     "text": [
      "Adarsha\n",
      "Chatterjee\n"
     ]
    }
   ],
   "source": [
    "a={\"Adarsha\":\"Pass\",\"Chatterjee\":\"Fail\"}\n",
    "for i in a:\n",
    "    print(i)"
   ]
  },
  {
   "cell_type": "raw",
   "id": "d4dfe7da",
   "metadata": {},
   "source": [
    "6.Python CPA Code: Trade-Crypto Class"
   ]
  },
  {
   "cell_type": "code",
   "execution_count": 11,
   "id": "4fc3915d",
   "metadata": {},
   "outputs": [
    {
     "name": "stdout",
     "output_type": "stream",
     "text": [
      "5\n",
      "101\n",
      "4000\n",
      "2\n",
      "Bitcoin\n",
      "Etherium\n",
      "21/11/2021\n",
      "Buy\n",
      "102\n",
      "8900\n",
      "4\n",
      "Solana\n",
      "Cardano\n",
      "Etherium\n",
      "Bitcoin\n",
      "01/12/2021\n",
      "Buy\n",
      "103\n",
      "3500\n",
      "3\n",
      "Dogecoin\n",
      "Shiba Inu\n",
      "Bitcoin\n",
      "11/09/2020\n",
      "Sell\n",
      "104\n",
      "13000\n",
      "2\n",
      "Polygon\n",
      "Etherium\n",
      "02/04/2021\n",
      "Buy\n",
      "105\n",
      "900\n",
      "2\n",
      "Bitcoin\n",
      "USDT\n",
      "06/07/2014\n",
      "Sell\n",
      "2021\n",
      "5000\n",
      "12900.0\n",
      "Bitcoin 1\n",
      "Cardano 1\n",
      "Etherium 2\n",
      "Polygon 1\n",
      "Solana 1\n"
     ]
    }
   ],
   "source": [
    "class Trade:\n",
    "    def __init__(self,tradeID,amount,nameOfCoins,dateOfTrade,tradeType):\n",
    "        self.tradeID=tradeID\n",
    "        self.amount=amount\n",
    "        self.nameOfCoins=nameOfCoins\n",
    "        self.dateOfTrade=dateOfTrade\n",
    "        self.tradeType=tradeType\n",
    "class Crypto:\n",
    "    def __init__(self,pass_list):\n",
    "        self.pass_list=pass_list\n",
    "    def totalAmountOfBuyTrades(self,year):\n",
    "        totalAmount=0.0\n",
    "        for i in self.pass_list:\n",
    "            if(i.dateOfTrade[6:]==year and (\"Bitcoin\" in i.nameOfCoins)):\n",
    "                if(i.tradeType==\"Buy\"):\n",
    "                    totalAmount=totalAmount+i.amount\n",
    "                else:\n",
    "                    pass\n",
    "            else:\n",
    "                pass\n",
    "        if(totalAmount==0):\n",
    "            return None\n",
    "        else:\n",
    "            return totalAmount\n",
    "    def dictFunc(self,amt):\n",
    "        coins_list=[]\n",
    "        for i in self.pass_list:\n",
    "            if(i.amount>amt):\n",
    "                for j in i.nameOfCoins: \n",
    "                    coins_list.append(j)\n",
    "            else:\n",
    "                pass\n",
    "        a=set(coins_list)\n",
    "        coins_dict={}\n",
    "        for i in a:\n",
    "            coins_dict[i]=0\n",
    "        for i in coins_list:\n",
    "            for j in a:\n",
    "                if(i==j):\n",
    "                    coins_dict[j]+=1\n",
    "                else:\n",
    "                    pass\n",
    "        return coins_dict\n",
    "if __name__==\"__main__\":\n",
    "    n=int(input())\n",
    "    pass_list=[]\n",
    "    for i in range(n):\n",
    "        tradeID=int(input())\n",
    "        amount=float(input())\n",
    "        noOfCoins=int(input())\n",
    "        nameOfCoins=[]\n",
    "        for j in range(noOfCoins):\n",
    "            coinName=input()\n",
    "            nameOfCoins.append(coinName)\n",
    "        dateOfTrade=input()\n",
    "        tradeType=input()\n",
    "        pass_list.append(Trade(tradeID,amount,nameOfCoins,dateOfTrade,tradeType))\n",
    "    obj=Crypto(pass_list)\n",
    "    year=input()\n",
    "    amt=float(input())\n",
    "    result1=obj.totalAmountOfBuyTrades(year)\n",
    "    result2=obj.dictFunc(amt)\n",
    "    print(result1)\n",
    "    result3={k:v for k,v in sorted(result2.items())}\n",
    "    for i in result3:\n",
    "        print(f\"{i} {result3[i]}\")"
   ]
  },
  {
   "cell_type": "raw",
   "id": "7375555d",
   "metadata": {},
   "source": [
    "7.Python Program 7:Toy Class"
   ]
  },
  {
   "cell_type": "code",
   "execution_count": 3,
   "id": "b445665c",
   "metadata": {},
   "outputs": [
    {
     "name": "stdout",
     "output_type": "stream",
     "text": [
      "5\n",
      "Tuto\n",
      "Hawk\n",
      "A\n",
      "12\n",
      "300\n",
      "Dora\n",
      "Rock\n",
      "A\n",
      "30\n",
      "295\n",
      "Pandora\n",
      "Hawk\n",
      "C2\n",
      "20\n",
      "550\n",
      "Bibushka\n",
      "Hawk\n",
      "A\n",
      "10\n",
      "290\n",
      "Car\n",
      "Hawk\n",
      "C2\n",
      "78\n",
      "600\n",
      "A\n",
      "Bibushka\n",
      "Hawk\n",
      "A\n",
      "10\n",
      "290\n",
      "Dora\n",
      "Rock\n",
      "A\n",
      "30\n",
      "295\n",
      "Tuto\n",
      "Hawk\n",
      "A\n",
      "12\n",
      "300\n",
      "Bibushka 10\n",
      "Tuto 12\n",
      "Pandora 20\n",
      "Dora 30\n",
      "Car 78\n"
     ]
    }
   ],
   "source": [
    "class Toy:\n",
    "    def __init__(self,name,brand,category,quantity,price):\n",
    "        self.name=name\n",
    "        self.brand=brand\n",
    "        self.category=category\n",
    "        self.quantity=quantity\n",
    "        self.price=price\n",
    "class ToyStore:\n",
    "    def __init__(self,pass_list):\n",
    "        self.pass_list=pass_list\n",
    "    def func1(self,toyCategory):\n",
    "        toy_dict={}\n",
    "        for i in self.pass_list:\n",
    "            if(i.category.lower()==toyCategory.lower()):\n",
    "                toy_dict[i.price]=[i.name,i.brand,i.category,i.quantity,i.price]\n",
    "            else:\n",
    "                pass\n",
    "        toy_dict=dict(sorted(toy_dict.items(),key=lambda x:x[0]))\n",
    "        if(toy_dict):\n",
    "            for i in toy_dict:\n",
    "                for j in range(5):\n",
    "                    print(toy_dict[i][j])\n",
    "        else:\n",
    "            print(\"Toy with matching condition is not available in the Toy Store\")\n",
    "    def func2(self):\n",
    "        ddic={}\n",
    "        for i in self.pass_list:\n",
    "            ddic[i.quantity]=i.name\n",
    "        ddic=dict(sorted(ddic.items(),key=lambda x:x[0]))\n",
    "        for k in ddic:\n",
    "            print(ddic[k],k)\n",
    "if __name__==\"__main__\":\n",
    "    n=int(input())\n",
    "    pass_list=[]\n",
    "    for i in range(n):\n",
    "        name=input()\n",
    "        brand=input()\n",
    "        category=input()\n",
    "        quantity=int(input())\n",
    "        price=int(input())\n",
    "        pass_list.append(Toy(name,brand,category,quantity,price))\n",
    "    toyCategory=input()\n",
    "    obj=ToyStore(pass_list)\n",
    "    obj.func1(toyCategory)\n",
    "    obj.func2()"
   ]
  },
  {
   "cell_type": "raw",
   "id": "367ec9d5",
   "metadata": {},
   "source": [
    "8.Python Code 8: Sponsor Class"
   ]
  },
  {
   "cell_type": "code",
   "execution_count": 7,
   "id": "58049441",
   "metadata": {},
   "outputs": [
    {
     "name": "stdout",
     "output_type": "stream",
     "text": [
      "2\n",
      "Intel\n",
      "Semiconductor Company\n",
      "3\n",
      "Atmel\n",
      "Sun Microsystems\n",
      "Intel Core\n",
      "Financial Event Sponsor\n",
      "TCS\n",
      "IT Company\n",
      "2\n",
      "TCS digital\n",
      "TCS ninja\n",
      "Financial Event Sponsor\n",
      "Financial Event Sponsor\n",
      "Intel\n",
      "TCS\n",
      "Intel\n"
     ]
    }
   ],
   "source": [
    "class Sponsor:\n",
    "    def __init__(self,sponsorName,sponsorCompany,subsidiaries,sponsorCategory):\n",
    "        self.sponsorName=sponsorName\n",
    "        self.sponsorCompany=sponsorCompany\n",
    "        self.subsidiaries=subsidiaries\n",
    "        self.sponsorCategory=sponsorCategory\n",
    "def getSponsor(pass_list,sponsor_category):\n",
    "    sponsor_name_list=[]\n",
    "    for i in pass_list:\n",
    "        if(i.sponsorCategory==sponsor_category):\n",
    "            sponsor_name_list.append(i.sponsorName)\n",
    "        else:\n",
    "            pass\n",
    "    if(sponsor_name_list):\n",
    "        sponsor_name_list.sort()\n",
    "        return sponsor_name_list\n",
    "    else:\n",
    "        return None\n",
    "def findSponsorWithMaximumSubsidiaries(pass_list):\n",
    "    max_subs=0\n",
    "    for i in pass_list:\n",
    "        if(len(i.subsidiaries)>max_subs):\n",
    "            max_subs=len(i.subsidiaries)\n",
    "        else:\n",
    "            pass\n",
    "    name_list=[]\n",
    "    for i in pass_list:\n",
    "        if(len(i.subsidiaries)==max_subs):\n",
    "            name_list.append(i.sponsorName)\n",
    "        else:\n",
    "            pass\n",
    "    if(name_list):\n",
    "        name_list.sort()\n",
    "        return name_list[0]\n",
    "    else:\n",
    "        return None\n",
    "if __name__==\"__main__\":\n",
    "    n=int(input())\n",
    "    pass_list=[]\n",
    "    for i in range(n):\n",
    "        sponsorName=input()\n",
    "        sponsorCompany=input()\n",
    "        x=int(input())\n",
    "        subsidiaries=[]\n",
    "        for j in range(x):\n",
    "            nameOfSubsidiary=input()\n",
    "            subsidiaries.append(nameOfSubsidiary)\n",
    "        sponsorCategory=input()\n",
    "        pass_list.append(Sponsor(sponsorName,sponsorCompany,subsidiaries,sponsorCategory))\n",
    "    sponsor_category=input()\n",
    "    result1=getSponsor(pass_list,sponsor_category)\n",
    "    result2=findSponsorWithMaximumSubsidiaries(pass_list)\n",
    "    for i in result1:\n",
    "        print(i)\n",
    "    print(result2)"
   ]
  },
  {
   "cell_type": "raw",
   "id": "ee1354ba",
   "metadata": {},
   "source": [
    "9.Python Code 9: Dairy Product Class"
   ]
  },
  {
   "cell_type": "code",
   "execution_count": 3,
   "id": "708f0b62",
   "metadata": {},
   "outputs": [
    {
     "name": "stdout",
     "output_type": "stream",
     "text": [
      "3\n",
      "101\n",
      "Amul\n",
      "Milk\n",
      "25\n",
      "Grade A\n",
      "102\n",
      "Kurkure\n",
      "Snacks\n",
      "5\n",
      "Grade B\n",
      "103\n",
      "Wow Momos\n",
      "Momo\n",
      "60\n",
      "Grade B\n",
      "3\n",
      "Grade A\n",
      "5\n",
      "Grade B\n",
      "10\n",
      "Grade C\n",
      "20\n",
      "Amul\n",
      "Milk\n",
      "Dairy:Brand Price\n",
      "Amul 26.25\n"
     ]
    }
   ],
   "source": [
    "class DairyProduct:\n",
    "    def __init__(self,dairyID,dairyBrand,productType,price,grade):\n",
    "        self.dairyID=dairyID\n",
    "        self.dairyBrand=dairyBrand\n",
    "        self.productType=productType\n",
    "        self.price=price\n",
    "        self.grade=grade\n",
    "class ProductGrade:\n",
    "    def __init__(self,pass_list,weightageDict):\n",
    "        self.pass_list=pass_list\n",
    "        self.weightageDict=weightageDict\n",
    "    def priceBasedOnBrandType(self,dairy_brand,product_type):\n",
    "        flag=0\n",
    "        for i in self.pass_list:\n",
    "            if(i.dairyBrand.lower()==dairy_brand.lower() and i.productType.lower()==product_type.lower()):\n",
    "                i.price=i.price+(i.price*weightageDict[i.grade]/100)\n",
    "                flag=1\n",
    "                return i\n",
    "            else:\n",
    "                pass\n",
    "        if(flag==0):\n",
    "            return None\n",
    "        \n",
    "if __name__==\"__main__\":\n",
    "    n=int(input())\n",
    "    pass_list=[]\n",
    "    for i in range(n):\n",
    "        dairyID=int(input())\n",
    "        dairyBrand=input()\n",
    "        productType=input()\n",
    "        price=int(input())\n",
    "        grade=input()\n",
    "        pass_list.append(DairyProduct(dairyID,dairyBrand,productType,price,grade))\n",
    "    num=int(input())\n",
    "    weightageDict={}\n",
    "    for i in range(num):\n",
    "        grd=input()\n",
    "        weightageDict[grd]=int(input())\n",
    "    obj=ProductGrade(pass_list,weightageDict)\n",
    "    dairy_brand=input()\n",
    "    product_type=input()\n",
    "    result=obj.priceBasedOnBrandType(dairy_brand,product_type)\n",
    "    if(result==None):\n",
    "        print(\"No dairy product found\")\n",
    "    else:\n",
    "        print(\"Dairy:Brand Price\")\n",
    "        print(result.dairyBrand,result.price)"
   ]
  },
  {
   "cell_type": "code",
   "execution_count": null,
   "id": "ebbb9e0c",
   "metadata": {},
   "outputs": [],
   "source": []
  }
 ],
 "metadata": {
  "kernelspec": {
   "display_name": "Python 3 (ipykernel)",
   "language": "python",
   "name": "python3"
  },
  "language_info": {
   "codemirror_mode": {
    "name": "ipython",
    "version": 3
   },
   "file_extension": ".py",
   "mimetype": "text/x-python",
   "name": "python",
   "nbconvert_exporter": "python",
   "pygments_lexer": "ipython3",
   "version": "3.9.7"
  }
 },
 "nbformat": 4,
 "nbformat_minor": 5
}
